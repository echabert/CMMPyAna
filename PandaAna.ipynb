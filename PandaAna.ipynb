{
 "cells": [
  {
   "cell_type": "markdown",
   "id": "suspected-disorder",
   "metadata": {},
   "source": [
    "# Analysis of metrology"
   ]
  },
  {
   "cell_type": "code",
   "execution_count": 145,
   "id": "constant-skating",
   "metadata": {},
   "outputs": [],
   "source": [
    "import pandas as pd\n",
    "import matplotlib.pyplot as plt"
   ]
  },
  {
   "cell_type": "code",
   "execution_count": 146,
   "id": "hidden-arena",
   "metadata": {},
   "outputs": [],
   "source": [
    "#z0 = 0.4 #@param {type:\"slider\", min:-3, max:3, step:0.1}"
   ]
  },
  {
   "cell_type": "code",
   "execution_count": 147,
   "id": "collaborative-executive",
   "metadata": {},
   "outputs": [],
   "source": [
    "df = pd.read_csv(\"reportInserts.csv\")\n",
    "df2 = pd.read_csv(\"reportInserts-v4.csv\")"
   ]
  },
  {
   "cell_type": "code",
   "execution_count": 148,
   "id": "convenient-chemical",
   "metadata": {},
   "outputs": [
    {
     "name": "stdout",
     "output_type": "stream",
     "text": [
      "Index(['label', 'angle', 'planeity'], dtype='object')\n"
     ]
    }
   ],
   "source": [
    "print(df.keys())"
   ]
  },
  {
   "cell_type": "code",
   "execution_count": null,
   "id": "cognitive-profession",
   "metadata": {},
   "outputs": [],
   "source": []
  },
  {
   "cell_type": "markdown",
   "id": "naughty-hypothesis",
   "metadata": {},
   "source": [
    "## Angles of inserts"
   ]
  },
  {
   "cell_type": "code",
   "execution_count": 149,
   "id": "accessory-advancement",
   "metadata": {},
   "outputs": [
    {
     "data": {
      "text/plain": [
       "Text(0.5, 0, 'angle [degrees]')"
      ]
     },
     "execution_count": 149,
     "metadata": {},
     "output_type": "execute_result"
    },
    {
     "data": {
      "image/png": "[encoded data removed]",
      "text/plain": [
       "<Figure size 432x288 with 1 Axes>"
      ]
     },
     "metadata": {
      "needs_background": "light"
     },
     "output_type": "display_data"
    }
   ],
   "source": [
    "ax = df[\"angle\"].plot(kind=\"hist\",bins=30)\n",
    "ax.set_xlabel(\"angle [degrees]\")"
   ]
  },
  {
   "cell_type": "code",
   "execution_count": 150,
   "id": "driven-wallace",
   "metadata": {},
   "outputs": [
    {
     "data": {
      "text/plain": [
       "0.32446366666666665"
      ]
     },
     "execution_count": 150,
     "metadata": {},
     "output_type": "execute_result"
    }
   ],
   "source": [
    "df[df[\"angle\"]>0][\"angle\"].mean()"
   ]
  },
  {
   "cell_type": "markdown",
   "id": "advised-small",
   "metadata": {},
   "source": [
    "# Comparison of the 2 measurements"
   ]
  },
  {
   "cell_type": "code",
   "execution_count": 151,
   "id": "legitimate-interest",
   "metadata": {},
   "outputs": [
    {
     "ename": "KeyError",
     "evalue": "'angle'",
     "output_type": "error",
     "traceback": [
      "\u001b[0;31m---------------------------------------------------------------------------\u001b[0m",
      "\u001b[0;31mKeyError\u001b[0m                                  Traceback (most recent call last)",
      "\u001b[0;32m/usr/local/lib/python3.9/site-packages/pandas/core/indexes/base.py\u001b[0m in \u001b[0;36mget_loc\u001b[0;34m(self, key, method, tolerance)\u001b[0m\n\u001b[1;32m   3079\u001b[0m             \u001b[0;32mtry\u001b[0m\u001b[0;34m:\u001b[0m\u001b[0;34m\u001b[0m\u001b[0;34m\u001b[0m\u001b[0m\n\u001b[0;32m-> 3080\u001b[0;31m                 \u001b[0;32mreturn\u001b[0m \u001b[0mself\u001b[0m\u001b[0;34m.\u001b[0m\u001b[0m_engine\u001b[0m\u001b[0;34m.\u001b[0m\u001b[0mget_loc\u001b[0m\u001b[0;34m(\u001b[0m\u001b[0mcasted_key\u001b[0m\u001b[0;34m)\u001b[0m\u001b[0;34m\u001b[0m\u001b[0;34m\u001b[0m\u001b[0m\n\u001b[0m\u001b[1;32m   3081\u001b[0m             \u001b[0;32mexcept\u001b[0m \u001b[0mKeyError\u001b[0m \u001b[0;32mas\u001b[0m \u001b[0merr\u001b[0m\u001b[0;34m:\u001b[0m\u001b[0;34m\u001b[0m\u001b[0;34m\u001b[0m\u001b[0m\n",
      "\u001b[0;32mpandas/_libs/index.pyx\u001b[0m in \u001b[0;36mpandas._libs.index.IndexEngine.get_loc\u001b[0;34m()\u001b[0m\n",
      "\u001b[0;32mpandas/_libs/index.pyx\u001b[0m in \u001b[0;36mpandas._libs.index.IndexEngine.get_loc\u001b[0;34m()\u001b[0m\n",
      "\u001b[0;32mpandas/_libs/hashtable_class_helper.pxi\u001b[0m in \u001b[0;36mpandas._libs.hashtable.PyObjectHashTable.get_item\u001b[0;34m()\u001b[0m\n",
      "\u001b[0;32mpandas/_libs/hashtable_class_helper.pxi\u001b[0m in \u001b[0;36mpandas._libs.hashtable.PyObjectHashTable.get_item\u001b[0;34m()\u001b[0m\n",
      "\u001b[0;31mKeyError\u001b[0m: 'angle'",
      "\nThe above exception was the direct cause of the following exception:\n",
      "\u001b[0;31mKeyError\u001b[0m                                  Traceback (most recent call last)",
      "\u001b[0;32m<ipython-input-151-1183075223fd>\u001b[0m in \u001b[0;36m<module>\u001b[0;34m\u001b[0m\n\u001b[0;32m----> 1\u001b[0;31m \u001b[0mdiff\u001b[0m \u001b[0;34m=\u001b[0m \u001b[0mdf\u001b[0m\u001b[0;34m.\u001b[0m\u001b[0mcompare\u001b[0m\u001b[0;34m(\u001b[0m\u001b[0mdf2\u001b[0m\u001b[0;34m)\u001b[0m\u001b[0;34m[\u001b[0m\u001b[0;34m\"angle\"\u001b[0m\u001b[0;34m]\u001b[0m\u001b[0;34m[\u001b[0m\u001b[0;34m\"self\"\u001b[0m\u001b[0;34m]\u001b[0m\u001b[0;34m-\u001b[0m\u001b[0mdf\u001b[0m\u001b[0;34m.\u001b[0m\u001b[0mcompare\u001b[0m\u001b[0;34m(\u001b[0m\u001b[0mdf2\u001b[0m\u001b[0;34m)\u001b[0m\u001b[0;34m[\u001b[0m\u001b[0;34m\"angle\"\u001b[0m\u001b[0;34m]\u001b[0m\u001b[0;34m[\u001b[0m\u001b[0;34m\"other\"\u001b[0m\u001b[0;34m]\u001b[0m\u001b[0;34m\u001b[0m\u001b[0;34m\u001b[0m\u001b[0m\n\u001b[0m\u001b[1;32m      2\u001b[0m \u001b[0;31m#plt.plot(diff,kind=\"hist\",bins=10)\u001b[0m\u001b[0;34m\u001b[0m\u001b[0;34m\u001b[0m\u001b[0m\n\u001b[1;32m      3\u001b[0m \u001b[0max\u001b[0m \u001b[0;34m=\u001b[0m \u001b[0mdiff\u001b[0m\u001b[0;34m.\u001b[0m\u001b[0mplot\u001b[0m\u001b[0;34m(\u001b[0m\u001b[0mkind\u001b[0m\u001b[0;34m=\u001b[0m\u001b[0;34m\"hist\"\u001b[0m\u001b[0;34m)\u001b[0m\u001b[0;34m\u001b[0m\u001b[0;34m\u001b[0m\u001b[0m\n\u001b[1;32m      4\u001b[0m \u001b[0max\u001b[0m\u001b[0;34m.\u001b[0m\u001b[0mset_xlabel\u001b[0m\u001b[0;34m(\u001b[0m\u001b[0;34m\"angle difference [degrees]\"\u001b[0m\u001b[0;34m)\u001b[0m\u001b[0;34m\u001b[0m\u001b[0;34m\u001b[0m\u001b[0m\n\u001b[1;32m      5\u001b[0m \u001b[0mdiff\u001b[0m\u001b[0;34m.\u001b[0m\u001b[0mmean\u001b[0m\u001b[0;34m(\u001b[0m\u001b[0;34m)\u001b[0m\u001b[0;34m\u001b[0m\u001b[0;34m\u001b[0m\u001b[0m\n",
      "\u001b[0;32m/usr/local/lib/python3.9/site-packages/pandas/core/frame.py\u001b[0m in \u001b[0;36m__getitem__\u001b[0;34m(self, key)\u001b[0m\n\u001b[1;32m   3021\u001b[0m         \u001b[0;32mif\u001b[0m \u001b[0mis_single_key\u001b[0m\u001b[0;34m:\u001b[0m\u001b[0;34m\u001b[0m\u001b[0;34m\u001b[0m\u001b[0m\n\u001b[1;32m   3022\u001b[0m             \u001b[0;32mif\u001b[0m \u001b[0mself\u001b[0m\u001b[0;34m.\u001b[0m\u001b[0mcolumns\u001b[0m\u001b[0;34m.\u001b[0m\u001b[0mnlevels\u001b[0m \u001b[0;34m>\u001b[0m \u001b[0;36m1\u001b[0m\u001b[0;34m:\u001b[0m\u001b[0;34m\u001b[0m\u001b[0;34m\u001b[0m\u001b[0m\n\u001b[0;32m-> 3023\u001b[0;31m                 \u001b[0;32mreturn\u001b[0m \u001b[0mself\u001b[0m\u001b[0;34m.\u001b[0m\u001b[0m_getitem_multilevel\u001b[0m\u001b[0;34m(\u001b[0m\u001b[0mkey\u001b[0m\u001b[0;34m)\u001b[0m\u001b[0;34m\u001b[0m\u001b[0;34m\u001b[0m\u001b[0m\n\u001b[0m\u001b[1;32m   3024\u001b[0m             \u001b[0mindexer\u001b[0m \u001b[0;34m=\u001b[0m \u001b[0mself\u001b[0m\u001b[0;34m.\u001b[0m\u001b[0mcolumns\u001b[0m\u001b[0;34m.\u001b[0m\u001b[0mget_loc\u001b[0m\u001b[0;34m(\u001b[0m\u001b[0mkey\u001b[0m\u001b[0;34m)\u001b[0m\u001b[0;34m\u001b[0m\u001b[0;34m\u001b[0m\u001b[0m\n\u001b[1;32m   3025\u001b[0m             \u001b[0;32mif\u001b[0m \u001b[0mis_integer\u001b[0m\u001b[0;34m(\u001b[0m\u001b[0mindexer\u001b[0m\u001b[0;34m)\u001b[0m\u001b[0;34m:\u001b[0m\u001b[0;34m\u001b[0m\u001b[0;34m\u001b[0m\u001b[0m\n",
      "\u001b[0;32m/usr/local/lib/python3.9/site-packages/pandas/core/frame.py\u001b[0m in \u001b[0;36m_getitem_multilevel\u001b[0;34m(self, key)\u001b[0m\n\u001b[1;32m   3072\u001b[0m     \u001b[0;32mdef\u001b[0m \u001b[0m_getitem_multilevel\u001b[0m\u001b[0;34m(\u001b[0m\u001b[0mself\u001b[0m\u001b[0;34m,\u001b[0m \u001b[0mkey\u001b[0m\u001b[0;34m)\u001b[0m\u001b[0;34m:\u001b[0m\u001b[0;34m\u001b[0m\u001b[0;34m\u001b[0m\u001b[0m\n\u001b[1;32m   3073\u001b[0m         \u001b[0;31m# self.columns is a MultiIndex\u001b[0m\u001b[0;34m\u001b[0m\u001b[0;34m\u001b[0m\u001b[0m\n\u001b[0;32m-> 3074\u001b[0;31m         \u001b[0mloc\u001b[0m \u001b[0;34m=\u001b[0m \u001b[0mself\u001b[0m\u001b[0;34m.\u001b[0m\u001b[0mcolumns\u001b[0m\u001b[0;34m.\u001b[0m\u001b[0mget_loc\u001b[0m\u001b[0;34m(\u001b[0m\u001b[0mkey\u001b[0m\u001b[0;34m)\u001b[0m\u001b[0;34m\u001b[0m\u001b[0;34m\u001b[0m\u001b[0m\n\u001b[0m\u001b[1;32m   3075\u001b[0m         \u001b[0;32mif\u001b[0m \u001b[0misinstance\u001b[0m\u001b[0;34m(\u001b[0m\u001b[0mloc\u001b[0m\u001b[0;34m,\u001b[0m \u001b[0;34m(\u001b[0m\u001b[0mslice\u001b[0m\u001b[0;34m,\u001b[0m \u001b[0mnp\u001b[0m\u001b[0;34m.\u001b[0m\u001b[0mndarray\u001b[0m\u001b[0;34m)\u001b[0m\u001b[0;34m)\u001b[0m\u001b[0;34m:\u001b[0m\u001b[0;34m\u001b[0m\u001b[0;34m\u001b[0m\u001b[0m\n\u001b[1;32m   3076\u001b[0m             \u001b[0mnew_columns\u001b[0m \u001b[0;34m=\u001b[0m \u001b[0mself\u001b[0m\u001b[0;34m.\u001b[0m\u001b[0mcolumns\u001b[0m\u001b[0;34m[\u001b[0m\u001b[0mloc\u001b[0m\u001b[0;34m]\u001b[0m\u001b[0;34m\u001b[0m\u001b[0;34m\u001b[0m\u001b[0m\n",
      "\u001b[0;32m/usr/local/lib/python3.9/site-packages/pandas/core/indexes/multi.py\u001b[0m in \u001b[0;36mget_loc\u001b[0;34m(self, key, method)\u001b[0m\n\u001b[1;32m   2872\u001b[0m \u001b[0;34m\u001b[0m\u001b[0m\n\u001b[1;32m   2873\u001b[0m         \u001b[0;32mif\u001b[0m \u001b[0;32mnot\u001b[0m \u001b[0misinstance\u001b[0m\u001b[0;34m(\u001b[0m\u001b[0mkey\u001b[0m\u001b[0;34m,\u001b[0m \u001b[0mtuple\u001b[0m\u001b[0;34m)\u001b[0m\u001b[0;34m:\u001b[0m\u001b[0;34m\u001b[0m\u001b[0;34m\u001b[0m\u001b[0m\n\u001b[0;32m-> 2874\u001b[0;31m             \u001b[0mloc\u001b[0m \u001b[0;34m=\u001b[0m \u001b[0mself\u001b[0m\u001b[0;34m.\u001b[0m\u001b[0m_get_level_indexer\u001b[0m\u001b[0;34m(\u001b[0m\u001b[0mkey\u001b[0m\u001b[0;34m,\u001b[0m \u001b[0mlevel\u001b[0m\u001b[0;34m=\u001b[0m\u001b[0;36m0\u001b[0m\u001b[0;34m)\u001b[0m\u001b[0;34m\u001b[0m\u001b[0;34m\u001b[0m\u001b[0m\n\u001b[0m\u001b[1;32m   2875\u001b[0m             \u001b[0;32mreturn\u001b[0m \u001b[0m_maybe_to_slice\u001b[0m\u001b[0;34m(\u001b[0m\u001b[0mloc\u001b[0m\u001b[0;34m)\u001b[0m\u001b[0;34m\u001b[0m\u001b[0;34m\u001b[0m\u001b[0m\n\u001b[1;32m   2876\u001b[0m \u001b[0;34m\u001b[0m\u001b[0m\n",
      "\u001b[0;32m/usr/local/lib/python3.9/site-packages/pandas/core/indexes/multi.py\u001b[0m in \u001b[0;36m_get_level_indexer\u001b[0;34m(self, key, level, indexer)\u001b[0m\n\u001b[1;32m   3154\u001b[0m         \u001b[0;32melse\u001b[0m\u001b[0;34m:\u001b[0m\u001b[0;34m\u001b[0m\u001b[0;34m\u001b[0m\u001b[0m\n\u001b[1;32m   3155\u001b[0m \u001b[0;34m\u001b[0m\u001b[0m\n\u001b[0;32m-> 3156\u001b[0;31m             \u001b[0midx\u001b[0m \u001b[0;34m=\u001b[0m \u001b[0mself\u001b[0m\u001b[0;34m.\u001b[0m\u001b[0m_get_loc_single_level_index\u001b[0m\u001b[0;34m(\u001b[0m\u001b[0mlevel_index\u001b[0m\u001b[0;34m,\u001b[0m \u001b[0mkey\u001b[0m\u001b[0;34m)\u001b[0m\u001b[0;34m\u001b[0m\u001b[0;34m\u001b[0m\u001b[0m\n\u001b[0m\u001b[1;32m   3157\u001b[0m \u001b[0;34m\u001b[0m\u001b[0m\n\u001b[1;32m   3158\u001b[0m             \u001b[0;32mif\u001b[0m \u001b[0mlevel\u001b[0m \u001b[0;34m>\u001b[0m \u001b[0;36m0\u001b[0m \u001b[0;32mor\u001b[0m \u001b[0mself\u001b[0m\u001b[0;34m.\u001b[0m\u001b[0mlexsort_depth\u001b[0m \u001b[0;34m==\u001b[0m \u001b[0;36m0\u001b[0m\u001b[0;34m:\u001b[0m\u001b[0;34m\u001b[0m\u001b[0;34m\u001b[0m\u001b[0m\n",
      "\u001b[0;32m/usr/local/lib/python3.9/site-packages/pandas/core/indexes/multi.py\u001b[0m in \u001b[0;36m_get_loc_single_level_index\u001b[0;34m(self, level_index, key)\u001b[0m\n\u001b[1;32m   2805\u001b[0m             \u001b[0;32mreturn\u001b[0m \u001b[0;34m-\u001b[0m\u001b[0;36m1\u001b[0m\u001b[0;34m\u001b[0m\u001b[0;34m\u001b[0m\u001b[0m\n\u001b[1;32m   2806\u001b[0m         \u001b[0;32melse\u001b[0m\u001b[0;34m:\u001b[0m\u001b[0;34m\u001b[0m\u001b[0;34m\u001b[0m\u001b[0m\n\u001b[0;32m-> 2807\u001b[0;31m             \u001b[0;32mreturn\u001b[0m \u001b[0mlevel_index\u001b[0m\u001b[0;34m.\u001b[0m\u001b[0mget_loc\u001b[0m\u001b[0;34m(\u001b[0m\u001b[0mkey\u001b[0m\u001b[0;34m)\u001b[0m\u001b[0;34m\u001b[0m\u001b[0;34m\u001b[0m\u001b[0m\n\u001b[0m\u001b[1;32m   2808\u001b[0m \u001b[0;34m\u001b[0m\u001b[0m\n\u001b[1;32m   2809\u001b[0m     \u001b[0;32mdef\u001b[0m \u001b[0mget_loc\u001b[0m\u001b[0;34m(\u001b[0m\u001b[0mself\u001b[0m\u001b[0;34m,\u001b[0m \u001b[0mkey\u001b[0m\u001b[0;34m,\u001b[0m \u001b[0mmethod\u001b[0m\u001b[0;34m=\u001b[0m\u001b[0;32mNone\u001b[0m\u001b[0;34m)\u001b[0m\u001b[0;34m:\u001b[0m\u001b[0;34m\u001b[0m\u001b[0;34m\u001b[0m\u001b[0m\n",
      "\u001b[0;32m/usr/local/lib/python3.9/site-packages/pandas/core/indexes/base.py\u001b[0m in \u001b[0;36mget_loc\u001b[0;34m(self, key, method, tolerance)\u001b[0m\n\u001b[1;32m   3080\u001b[0m                 \u001b[0;32mreturn\u001b[0m \u001b[0mself\u001b[0m\u001b[0;34m.\u001b[0m\u001b[0m_engine\u001b[0m\u001b[0;34m.\u001b[0m\u001b[0mget_loc\u001b[0m\u001b[0;34m(\u001b[0m\u001b[0mcasted_key\u001b[0m\u001b[0;34m)\u001b[0m\u001b[0;34m\u001b[0m\u001b[0;34m\u001b[0m\u001b[0m\n\u001b[1;32m   3081\u001b[0m             \u001b[0;32mexcept\u001b[0m \u001b[0mKeyError\u001b[0m \u001b[0;32mas\u001b[0m \u001b[0merr\u001b[0m\u001b[0;34m:\u001b[0m\u001b[0;34m\u001b[0m\u001b[0;34m\u001b[0m\u001b[0m\n\u001b[0;32m-> 3082\u001b[0;31m                 \u001b[0;32mraise\u001b[0m \u001b[0mKeyError\u001b[0m\u001b[0;34m(\u001b[0m\u001b[0mkey\u001b[0m\u001b[0;34m)\u001b[0m \u001b[0;32mfrom\u001b[0m \u001b[0merr\u001b[0m\u001b[0;34m\u001b[0m\u001b[0;34m\u001b[0m\u001b[0m\n\u001b[0m\u001b[1;32m   3083\u001b[0m \u001b[0;34m\u001b[0m\u001b[0m\n\u001b[1;32m   3084\u001b[0m         \u001b[0;32mif\u001b[0m \u001b[0mtolerance\u001b[0m \u001b[0;32mis\u001b[0m \u001b[0;32mnot\u001b[0m \u001b[0;32mNone\u001b[0m\u001b[0;34m:\u001b[0m\u001b[0;34m\u001b[0m\u001b[0;34m\u001b[0m\u001b[0m\n",
      "\u001b[0;31mKeyError\u001b[0m: 'angle'"
     ]
    }
   ],
   "source": [
    "diff = df.compare(df2)[\"angle\"][\"self\"]-df.compare(df2)[\"angle\"][\"other\"]\n",
    "#plt.plot(diff,kind=\"hist\",bins=10)\n",
    "ax = diff.plot(kind=\"hist\")\n",
    "ax.set_xlabel(\"angle difference [degrees]\")\n",
    "diff.mean()\n",
    "diff.std()"
   ]
  },
  {
   "cell_type": "code",
   "execution_count": 152,
   "id": "british-benjamin",
   "metadata": {},
   "outputs": [],
   "source": [
    "#df[df[\"angle\"]>0.35]"
   ]
  },
  {
   "cell_type": "code",
   "execution_count": 153,
   "id": "extraordinary-dynamics",
   "metadata": {},
   "outputs": [
    {
     "name": "stdout",
     "output_type": "stream",
     "text": [
      "0.10121863636363636\n",
      "0.5798838440768574\n"
     ]
    },
    {
     "data": {
      "text/plain": [
       "<matplotlib.legend.Legend at 0x14b82a970>"
      ]
     },
     "execution_count": 153,
     "metadata": {},
     "output_type": "execute_result"
    },
    {
     "data": {
      "image/png": "[encoded data removed]",
      "text/plain": [
       "<Figure size 432x288 with 1 Axes>"
      ]
     },
     "metadata": {
      "needs_background": "light"
     },
     "output_type": "display_data"
    }
   ],
   "source": [
    "\n",
    "\n",
    "def oddModule():\n",
    "    out=\"\"\n",
    "    labels = [\"(df['label'].str.find('{}')>=0)\".format(i) for i in [\"02\",\"04\",\"06\",\"08\",\"10\"]]\n",
    "    return \"|\".join(labels)\n",
    "\n",
    "def evenModule():\n",
    "    out=\"\"\n",
    "    labels = [\"(df['label'].str.find('{}')>=0)\".format(i) for i in [\"01\",\"03\",\"05\",\"07\",\"09\",\"11\"]]\n",
    "    return \"|\".join(labels)\n",
    "\n",
    "#df[(df['label'].str.find(\"04\")>=0)][\"angle\"].plot(kind=\"hist\")\n",
    "even = df[(eval(oddModule()))][\"angle\"]\n",
    "odd = df[(eval(evenModule()))][\"angle\"]\n",
    "print(even.mean())\n",
    "print(even.std())\n",
    "ax = plt.hist(even,bins=[0.012*i for i in range(50)],alpha=0.5,label=\"even\")\n",
    "#ax[0].set_xlabel(\"angle [degrees]\")\n",
    "plt.hist(odd,bins=[0.012*i for i in range(50)],alpha=0.5,label=\"odd\")\n",
    "plt.legend()"
   ]
  },
  {
   "cell_type": "markdown",
   "id": "moved-foster",
   "metadata": {},
   "source": [
    "# Comparison between the 2 measurements"
   ]
  },
  {
   "cell_type": "code",
   "execution_count": 154,
   "id": "filled-designation",
   "metadata": {},
   "outputs": [
    {
     "ename": "KeyError",
     "evalue": "'planeity'",
     "output_type": "error",
     "traceback": [
      "\u001b[0;31m---------------------------------------------------------------------------\u001b[0m",
      "\u001b[0;31mKeyError\u001b[0m                                  Traceback (most recent call last)",
      "\u001b[0;32m/usr/local/lib/python3.9/site-packages/pandas/core/indexes/base.py\u001b[0m in \u001b[0;36mget_loc\u001b[0;34m(self, key, method, tolerance)\u001b[0m\n\u001b[1;32m   3079\u001b[0m             \u001b[0;32mtry\u001b[0m\u001b[0;34m:\u001b[0m\u001b[0;34m\u001b[0m\u001b[0;34m\u001b[0m\u001b[0m\n\u001b[0;32m-> 3080\u001b[0;31m                 \u001b[0;32mreturn\u001b[0m \u001b[0mself\u001b[0m\u001b[0;34m.\u001b[0m\u001b[0m_engine\u001b[0m\u001b[0;34m.\u001b[0m\u001b[0mget_loc\u001b[0m\u001b[0;34m(\u001b[0m\u001b[0mcasted_key\u001b[0m\u001b[0;34m)\u001b[0m\u001b[0;34m\u001b[0m\u001b[0;34m\u001b[0m\u001b[0m\n\u001b[0m\u001b[1;32m   3081\u001b[0m             \u001b[0;32mexcept\u001b[0m \u001b[0mKeyError\u001b[0m \u001b[0;32mas\u001b[0m \u001b[0merr\u001b[0m\u001b[0;34m:\u001b[0m\u001b[0;34m\u001b[0m\u001b[0;34m\u001b[0m\u001b[0m\n",
      "\u001b[0;32mpandas/_libs/index.pyx\u001b[0m in \u001b[0;36mpandas._libs.index.IndexEngine.get_loc\u001b[0;34m()\u001b[0m\n",
      "\u001b[0;32mpandas/_libs/index.pyx\u001b[0m in \u001b[0;36mpandas._libs.index.IndexEngine.get_loc\u001b[0;34m()\u001b[0m\n",
      "\u001b[0;32mpandas/_libs/hashtable_class_helper.pxi\u001b[0m in \u001b[0;36mpandas._libs.hashtable.PyObjectHashTable.get_item\u001b[0;34m()\u001b[0m\n",
      "\u001b[0;32mpandas/_libs/hashtable_class_helper.pxi\u001b[0m in \u001b[0;36mpandas._libs.hashtable.PyObjectHashTable.get_item\u001b[0;34m()\u001b[0m\n",
      "\u001b[0;31mKeyError\u001b[0m: 'planeity'",
      "\nThe above exception was the direct cause of the following exception:\n",
      "\u001b[0;31mKeyError\u001b[0m                                  Traceback (most recent call last)",
      "\u001b[0;32m<ipython-input-154-0be0ba303857>\u001b[0m in \u001b[0;36m<module>\u001b[0;34m\u001b[0m\n\u001b[0;32m----> 1\u001b[0;31m \u001b[0mdiff\u001b[0m \u001b[0;34m=\u001b[0m \u001b[0mdf\u001b[0m\u001b[0;34m.\u001b[0m\u001b[0mcompare\u001b[0m\u001b[0;34m(\u001b[0m\u001b[0mdf2\u001b[0m\u001b[0;34m)\u001b[0m\u001b[0;34m[\u001b[0m\u001b[0;34m\"planeity\"\u001b[0m\u001b[0;34m]\u001b[0m\u001b[0;34m[\u001b[0m\u001b[0;34m\"self\"\u001b[0m\u001b[0;34m]\u001b[0m\u001b[0;34m-\u001b[0m\u001b[0mdf\u001b[0m\u001b[0;34m.\u001b[0m\u001b[0mcompare\u001b[0m\u001b[0;34m(\u001b[0m\u001b[0mdf2\u001b[0m\u001b[0;34m)\u001b[0m\u001b[0;34m[\u001b[0m\u001b[0;34m\"planeity\"\u001b[0m\u001b[0;34m]\u001b[0m\u001b[0;34m[\u001b[0m\u001b[0;34m\"other\"\u001b[0m\u001b[0;34m]\u001b[0m\u001b[0;34m\u001b[0m\u001b[0;34m\u001b[0m\u001b[0m\n\u001b[0m\u001b[1;32m      2\u001b[0m \u001b[0;31m#plt.plot(diff,kind=\"hist\",bins=10)\u001b[0m\u001b[0;34m\u001b[0m\u001b[0;34m\u001b[0m\u001b[0m\n\u001b[1;32m      3\u001b[0m \u001b[0max\u001b[0m \u001b[0;34m=\u001b[0m \u001b[0mdiff\u001b[0m\u001b[0;34m.\u001b[0m\u001b[0mplot\u001b[0m\u001b[0;34m(\u001b[0m\u001b[0mkind\u001b[0m\u001b[0;34m=\u001b[0m\u001b[0;34m\"hist\"\u001b[0m\u001b[0;34m,\u001b[0m\u001b[0mbins\u001b[0m\u001b[0;34m=\u001b[0m\u001b[0;36m30\u001b[0m\u001b[0;34m)\u001b[0m\u001b[0;34m\u001b[0m\u001b[0;34m\u001b[0m\u001b[0m\n\u001b[1;32m      4\u001b[0m \u001b[0max\u001b[0m\u001b[0;34m.\u001b[0m\u001b[0mset_xlabel\u001b[0m\u001b[0;34m(\u001b[0m\u001b[0;34m\"planarity [mm]\"\u001b[0m\u001b[0;34m)\u001b[0m\u001b[0;34m\u001b[0m\u001b[0;34m\u001b[0m\u001b[0m\n\u001b[1;32m      5\u001b[0m \u001b[0mdiff\u001b[0m\u001b[0;34m.\u001b[0m\u001b[0mmean\u001b[0m\u001b[0;34m(\u001b[0m\u001b[0;34m)\u001b[0m\u001b[0;34m\u001b[0m\u001b[0;34m\u001b[0m\u001b[0m\n",
      "\u001b[0;32m/usr/local/lib/python3.9/site-packages/pandas/core/frame.py\u001b[0m in \u001b[0;36m__getitem__\u001b[0;34m(self, key)\u001b[0m\n\u001b[1;32m   3021\u001b[0m         \u001b[0;32mif\u001b[0m \u001b[0mis_single_key\u001b[0m\u001b[0;34m:\u001b[0m\u001b[0;34m\u001b[0m\u001b[0;34m\u001b[0m\u001b[0m\n\u001b[1;32m   3022\u001b[0m             \u001b[0;32mif\u001b[0m \u001b[0mself\u001b[0m\u001b[0;34m.\u001b[0m\u001b[0mcolumns\u001b[0m\u001b[0;34m.\u001b[0m\u001b[0mnlevels\u001b[0m \u001b[0;34m>\u001b[0m \u001b[0;36m1\u001b[0m\u001b[0;34m:\u001b[0m\u001b[0;34m\u001b[0m\u001b[0;34m\u001b[0m\u001b[0m\n\u001b[0;32m-> 3023\u001b[0;31m                 \u001b[0;32mreturn\u001b[0m \u001b[0mself\u001b[0m\u001b[0;34m.\u001b[0m\u001b[0m_getitem_multilevel\u001b[0m\u001b[0;34m(\u001b[0m\u001b[0mkey\u001b[0m\u001b[0;34m)\u001b[0m\u001b[0;34m\u001b[0m\u001b[0;34m\u001b[0m\u001b[0m\n\u001b[0m\u001b[1;32m   3024\u001b[0m             \u001b[0mindexer\u001b[0m \u001b[0;34m=\u001b[0m \u001b[0mself\u001b[0m\u001b[0;34m.\u001b[0m\u001b[0mcolumns\u001b[0m\u001b[0;34m.\u001b[0m\u001b[0mget_loc\u001b[0m\u001b[0;34m(\u001b[0m\u001b[0mkey\u001b[0m\u001b[0;34m)\u001b[0m\u001b[0;34m\u001b[0m\u001b[0;34m\u001b[0m\u001b[0m\n\u001b[1;32m   3025\u001b[0m             \u001b[0;32mif\u001b[0m \u001b[0mis_integer\u001b[0m\u001b[0;34m(\u001b[0m\u001b[0mindexer\u001b[0m\u001b[0;34m)\u001b[0m\u001b[0;34m:\u001b[0m\u001b[0;34m\u001b[0m\u001b[0;34m\u001b[0m\u001b[0m\n",
      "\u001b[0;32m/usr/local/lib/python3.9/site-packages/pandas/core/frame.py\u001b[0m in \u001b[0;36m_getitem_multilevel\u001b[0;34m(self, key)\u001b[0m\n\u001b[1;32m   3072\u001b[0m     \u001b[0;32mdef\u001b[0m \u001b[0m_getitem_multilevel\u001b[0m\u001b[0;34m(\u001b[0m\u001b[0mself\u001b[0m\u001b[0;34m,\u001b[0m \u001b[0mkey\u001b[0m\u001b[0;34m)\u001b[0m\u001b[0;34m:\u001b[0m\u001b[0;34m\u001b[0m\u001b[0;34m\u001b[0m\u001b[0m\n\u001b[1;32m   3073\u001b[0m         \u001b[0;31m# self.columns is a MultiIndex\u001b[0m\u001b[0;34m\u001b[0m\u001b[0;34m\u001b[0m\u001b[0m\n\u001b[0;32m-> 3074\u001b[0;31m         \u001b[0mloc\u001b[0m \u001b[0;34m=\u001b[0m \u001b[0mself\u001b[0m\u001b[0;34m.\u001b[0m\u001b[0mcolumns\u001b[0m\u001b[0;34m.\u001b[0m\u001b[0mget_loc\u001b[0m\u001b[0;34m(\u001b[0m\u001b[0mkey\u001b[0m\u001b[0;34m)\u001b[0m\u001b[0;34m\u001b[0m\u001b[0;34m\u001b[0m\u001b[0m\n\u001b[0m\u001b[1;32m   3075\u001b[0m         \u001b[0;32mif\u001b[0m \u001b[0misinstance\u001b[0m\u001b[0;34m(\u001b[0m\u001b[0mloc\u001b[0m\u001b[0;34m,\u001b[0m \u001b[0;34m(\u001b[0m\u001b[0mslice\u001b[0m\u001b[0;34m,\u001b[0m \u001b[0mnp\u001b[0m\u001b[0;34m.\u001b[0m\u001b[0mndarray\u001b[0m\u001b[0;34m)\u001b[0m\u001b[0;34m)\u001b[0m\u001b[0;34m:\u001b[0m\u001b[0;34m\u001b[0m\u001b[0;34m\u001b[0m\u001b[0m\n\u001b[1;32m   3076\u001b[0m             \u001b[0mnew_columns\u001b[0m \u001b[0;34m=\u001b[0m \u001b[0mself\u001b[0m\u001b[0;34m.\u001b[0m\u001b[0mcolumns\u001b[0m\u001b[0;34m[\u001b[0m\u001b[0mloc\u001b[0m\u001b[0;34m]\u001b[0m\u001b[0;34m\u001b[0m\u001b[0;34m\u001b[0m\u001b[0m\n",
      "\u001b[0;32m/usr/local/lib/python3.9/site-packages/pandas/core/indexes/multi.py\u001b[0m in \u001b[0;36mget_loc\u001b[0;34m(self, key, method)\u001b[0m\n\u001b[1;32m   2872\u001b[0m \u001b[0;34m\u001b[0m\u001b[0m\n\u001b[1;32m   2873\u001b[0m         \u001b[0;32mif\u001b[0m \u001b[0;32mnot\u001b[0m \u001b[0misinstance\u001b[0m\u001b[0;34m(\u001b[0m\u001b[0mkey\u001b[0m\u001b[0;34m,\u001b[0m \u001b[0mtuple\u001b[0m\u001b[0;34m)\u001b[0m\u001b[0;34m:\u001b[0m\u001b[0;34m\u001b[0m\u001b[0;34m\u001b[0m\u001b[0m\n\u001b[0;32m-> 2874\u001b[0;31m             \u001b[0mloc\u001b[0m \u001b[0;34m=\u001b[0m \u001b[0mself\u001b[0m\u001b[0;34m.\u001b[0m\u001b[0m_get_level_indexer\u001b[0m\u001b[0;34m(\u001b[0m\u001b[0mkey\u001b[0m\u001b[0;34m,\u001b[0m \u001b[0mlevel\u001b[0m\u001b[0;34m=\u001b[0m\u001b[0;36m0\u001b[0m\u001b[0;34m)\u001b[0m\u001b[0;34m\u001b[0m\u001b[0;34m\u001b[0m\u001b[0m\n\u001b[0m\u001b[1;32m   2875\u001b[0m             \u001b[0;32mreturn\u001b[0m \u001b[0m_maybe_to_slice\u001b[0m\u001b[0;34m(\u001b[0m\u001b[0mloc\u001b[0m\u001b[0;34m)\u001b[0m\u001b[0;34m\u001b[0m\u001b[0;34m\u001b[0m\u001b[0m\n\u001b[1;32m   2876\u001b[0m \u001b[0;34m\u001b[0m\u001b[0m\n",
      "\u001b[0;32m/usr/local/lib/python3.9/site-packages/pandas/core/indexes/multi.py\u001b[0m in \u001b[0;36m_get_level_indexer\u001b[0;34m(self, key, level, indexer)\u001b[0m\n\u001b[1;32m   3154\u001b[0m         \u001b[0;32melse\u001b[0m\u001b[0;34m:\u001b[0m\u001b[0;34m\u001b[0m\u001b[0;34m\u001b[0m\u001b[0m\n\u001b[1;32m   3155\u001b[0m \u001b[0;34m\u001b[0m\u001b[0m\n\u001b[0;32m-> 3156\u001b[0;31m             \u001b[0midx\u001b[0m \u001b[0;34m=\u001b[0m \u001b[0mself\u001b[0m\u001b[0;34m.\u001b[0m\u001b[0m_get_loc_single_level_index\u001b[0m\u001b[0;34m(\u001b[0m\u001b[0mlevel_index\u001b[0m\u001b[0;34m,\u001b[0m \u001b[0mkey\u001b[0m\u001b[0;34m)\u001b[0m\u001b[0;34m\u001b[0m\u001b[0;34m\u001b[0m\u001b[0m\n\u001b[0m\u001b[1;32m   3157\u001b[0m \u001b[0;34m\u001b[0m\u001b[0m\n\u001b[1;32m   3158\u001b[0m             \u001b[0;32mif\u001b[0m \u001b[0mlevel\u001b[0m \u001b[0;34m>\u001b[0m \u001b[0;36m0\u001b[0m \u001b[0;32mor\u001b[0m \u001b[0mself\u001b[0m\u001b[0;34m.\u001b[0m\u001b[0mlexsort_depth\u001b[0m \u001b[0;34m==\u001b[0m \u001b[0;36m0\u001b[0m\u001b[0;34m:\u001b[0m\u001b[0;34m\u001b[0m\u001b[0;34m\u001b[0m\u001b[0m\n",
      "\u001b[0;32m/usr/local/lib/python3.9/site-packages/pandas/core/indexes/multi.py\u001b[0m in \u001b[0;36m_get_loc_single_level_index\u001b[0;34m(self, level_index, key)\u001b[0m\n\u001b[1;32m   2805\u001b[0m             \u001b[0;32mreturn\u001b[0m \u001b[0;34m-\u001b[0m\u001b[0;36m1\u001b[0m\u001b[0;34m\u001b[0m\u001b[0;34m\u001b[0m\u001b[0m\n\u001b[1;32m   2806\u001b[0m         \u001b[0;32melse\u001b[0m\u001b[0;34m:\u001b[0m\u001b[0;34m\u001b[0m\u001b[0;34m\u001b[0m\u001b[0m\n\u001b[0;32m-> 2807\u001b[0;31m             \u001b[0;32mreturn\u001b[0m \u001b[0mlevel_index\u001b[0m\u001b[0;34m.\u001b[0m\u001b[0mget_loc\u001b[0m\u001b[0;34m(\u001b[0m\u001b[0mkey\u001b[0m\u001b[0;34m)\u001b[0m\u001b[0;34m\u001b[0m\u001b[0;34m\u001b[0m\u001b[0m\n\u001b[0m\u001b[1;32m   2808\u001b[0m \u001b[0;34m\u001b[0m\u001b[0m\n\u001b[1;32m   2809\u001b[0m     \u001b[0;32mdef\u001b[0m \u001b[0mget_loc\u001b[0m\u001b[0;34m(\u001b[0m\u001b[0mself\u001b[0m\u001b[0;34m,\u001b[0m \u001b[0mkey\u001b[0m\u001b[0;34m,\u001b[0m \u001b[0mmethod\u001b[0m\u001b[0;34m=\u001b[0m\u001b[0;32mNone\u001b[0m\u001b[0;34m)\u001b[0m\u001b[0;34m:\u001b[0m\u001b[0;34m\u001b[0m\u001b[0;34m\u001b[0m\u001b[0m\n",
      "\u001b[0;32m/usr/local/lib/python3.9/site-packages/pandas/core/indexes/base.py\u001b[0m in \u001b[0;36mget_loc\u001b[0;34m(self, key, method, tolerance)\u001b[0m\n\u001b[1;32m   3080\u001b[0m                 \u001b[0;32mreturn\u001b[0m \u001b[0mself\u001b[0m\u001b[0;34m.\u001b[0m\u001b[0m_engine\u001b[0m\u001b[0;34m.\u001b[0m\u001b[0mget_loc\u001b[0m\u001b[0;34m(\u001b[0m\u001b[0mcasted_key\u001b[0m\u001b[0;34m)\u001b[0m\u001b[0;34m\u001b[0m\u001b[0;34m\u001b[0m\u001b[0m\n\u001b[1;32m   3081\u001b[0m             \u001b[0;32mexcept\u001b[0m \u001b[0mKeyError\u001b[0m \u001b[0;32mas\u001b[0m \u001b[0merr\u001b[0m\u001b[0;34m:\u001b[0m\u001b[0;34m\u001b[0m\u001b[0;34m\u001b[0m\u001b[0m\n\u001b[0;32m-> 3082\u001b[0;31m                 \u001b[0;32mraise\u001b[0m \u001b[0mKeyError\u001b[0m\u001b[0;34m(\u001b[0m\u001b[0mkey\u001b[0m\u001b[0;34m)\u001b[0m \u001b[0;32mfrom\u001b[0m \u001b[0merr\u001b[0m\u001b[0;34m\u001b[0m\u001b[0;34m\u001b[0m\u001b[0m\n\u001b[0m\u001b[1;32m   3083\u001b[0m \u001b[0;34m\u001b[0m\u001b[0m\n\u001b[1;32m   3084\u001b[0m         \u001b[0;32mif\u001b[0m \u001b[0mtolerance\u001b[0m \u001b[0;32mis\u001b[0m \u001b[0;32mnot\u001b[0m \u001b[0;32mNone\u001b[0m\u001b[0;34m:\u001b[0m\u001b[0;34m\u001b[0m\u001b[0;34m\u001b[0m\u001b[0m\n",
      "\u001b[0;31mKeyError\u001b[0m: 'planeity'"
     ]
    }
   ],
   "source": [
    "diff = df.compare(df2)[\"planeity\"][\"self\"]-df.compare(df2)[\"planeity\"][\"other\"]\n",
    "#plt.plot(diff,kind=\"hist\",bins=10)\n",
    "ax = diff.plot(kind=\"hist\",bins=30)\n",
    "ax.set_xlabel(\"planarity [mm]\")\n",
    "diff.mean()\n",
    "diff.std()"
   ]
  },
  {
   "cell_type": "markdown",
   "id": "foster-activity",
   "metadata": {},
   "source": [
    "## Planeity of inserts"
   ]
  },
  {
   "cell_type": "raw",
   "id": "special-bacon",
   "metadata": {},
   "source": []
  },
  {
   "cell_type": "code",
   "execution_count": 155,
   "id": "juvenile-danger",
   "metadata": {},
   "outputs": [
    {
     "data": {
      "text/plain": [
       "Text(0.5, 0, 'planarity [mm]')"
      ]
     },
     "execution_count": 155,
     "metadata": {},
     "output_type": "execute_result"
    },
    {
     "data": {
      "image/png": "[encoded data removed]",
      "text/plain": [
       "<Figure size 432x288 with 1 Axes>"
      ]
     },
     "metadata": {
      "needs_background": "light"
     },
     "output_type": "display_data"
    }
   ],
   "source": [
    "ax = df[\"planeity\"].plot(kind=\"hist\",bins=30)\n",
    "ax.set_xlabel(\"planarity [mm]\")"
   ]
  },
  {
   "cell_type": "code",
   "execution_count": 156,
   "id": "growing-medication",
   "metadata": {},
   "outputs": [
    {
     "data": {
      "text/html": [
       "<div>\n",
       "<style scoped>\n",
       "    .dataframe tbody tr th:only-of-type {\n",
       "        vertical-align: middle;\n",
       "    }\n",
       "\n",
       "    .dataframe tbody tr th {\n",
       "        vertical-align: top;\n",
       "    }\n",
       "\n",
       "    .dataframe thead th {\n",
       "        text-align: right;\n",
       "    }\n",
       "</style>\n",
       "<table border=\"1\" class=\"dataframe\">\n",
       "  <thead>\n",
       "    <tr style=\"text-align: right;\">\n",
       "      <th></th>\n",
       "      <th>label</th>\n",
       "      <th>angle</th>\n",
       "      <th>planeity</th>\n",
       "    </tr>\n",
       "  </thead>\n",
       "  <tbody>\n",
       "  </tbody>\n",
       "</table>\n",
       "</div>"
      ],
      "text/plain": [
       "Empty DataFrame\n",
       "Columns: [label, angle, planeity]\n",
       "Index: []"
      ]
     },
     "execution_count": 156,
     "metadata": {},
     "output_type": "execute_result"
    }
   ],
   "source": [
    "df[df[\"planeity\"]>0.1]"
   ]
  },
  {
   "cell_type": "code",
   "execution_count": 157,
   "id": "rocky-header",
   "metadata": {},
   "outputs": [
    {
     "data": {
      "text/plain": [
       "angle       0.101219\n",
       "planeity    0.042269\n",
       "dtype: float64"
      ]
     },
     "execution_count": 157,
     "metadata": {},
     "output_type": "execute_result"
    }
   ],
   "source": [
    "df[df[\"planeity\"]<0.1].mean()"
   ]
  },
  {
   "cell_type": "code",
   "execution_count": 158,
   "id": "freelance-romantic",
   "metadata": {},
   "outputs": [
    {
     "data": {
      "text/plain": [
       "Text(0.5, 0, 'planarity [mm]')"
      ]
     },
     "execution_count": 158,
     "metadata": {},
     "output_type": "execute_result"
    },
    {
     "data": {
      "image/png": "[encoded data removed]",
      "text/plain": [
       "<Figure size 432x288 with 1 Axes>"
      ]
     },
     "metadata": {
      "needs_background": "light"
     },
     "output_type": "display_data"
    }
   ],
   "source": [
    "ax = df[df[\"planeity\"]<0.1][\"planeity\"].plot(kind=\"hist\",bins=30)\n",
    "ax.set_xlabel(\"planarity [mm]\")"
   ]
  },
  {
   "cell_type": "code",
   "execution_count": 159,
   "id": "imported-patient",
   "metadata": {},
   "outputs": [
    {
     "ename": "KeyError",
     "evalue": "'planeity'",
     "output_type": "error",
     "traceback": [
      "\u001b[0;31m---------------------------------------------------------------------------\u001b[0m",
      "\u001b[0;31mKeyError\u001b[0m                                  Traceback (most recent call last)",
      "\u001b[0;32m<ipython-input-159-c7016b22ff56>\u001b[0m in \u001b[0;36m<module>\u001b[0;34m\u001b[0m\n\u001b[0;32m----> 1\u001b[0;31m \u001b[0max2\u001b[0m \u001b[0;34m=\u001b[0m\u001b[0;34m(\u001b[0m\u001b[0;34m(\u001b[0m\u001b[0mdf\u001b[0m\u001b[0;34m[\u001b[0m\u001b[0;34m'label'\u001b[0m\u001b[0;34m]\u001b[0m\u001b[0;34m.\u001b[0m\u001b[0mstr\u001b[0m\u001b[0;34m.\u001b[0m\u001b[0mendswith\u001b[0m\u001b[0;34m(\u001b[0m\u001b[0;34m\"S\"\u001b[0m\u001b[0;34m)\u001b[0m\u001b[0;34m==\u001b[0m\u001b[0;32mFalse\u001b[0m\u001b[0;34m)\u001b[0m\u001b[0;34m&\u001b[0m\u001b[0;34m(\u001b[0m\u001b[0mdf\u001b[0m\u001b[0;34m[\u001b[0m\u001b[0;34m'label'\u001b[0m\u001b[0;34m]\u001b[0m\u001b[0;34m.\u001b[0m\u001b[0mstr\u001b[0m\u001b[0;34m.\u001b[0m\u001b[0mendswith\u001b[0m\u001b[0;34m(\u001b[0m\u001b[0;34m\"E\"\u001b[0m\u001b[0;34m)\u001b[0m\u001b[0;34m==\u001b[0m\u001b[0;32mFalse\u001b[0m\u001b[0;34m)\u001b[0m\u001b[0;34m)\u001b[0m\u001b[0;34m[\u001b[0m\u001b[0;34m\"planeity\"\u001b[0m\u001b[0;34m]\u001b[0m\u001b[0;34m.\u001b[0m\u001b[0mplot\u001b[0m\u001b[0;34m(\u001b[0m\u001b[0mkind\u001b[0m\u001b[0;34m=\u001b[0m\u001b[0;34m\"hist\"\u001b[0m\u001b[0;34m)\u001b[0m\u001b[0;34m\u001b[0m\u001b[0;34m\u001b[0m\u001b[0m\n\u001b[0m\u001b[1;32m      2\u001b[0m \u001b[0max2\u001b[0m\u001b[0;34m.\u001b[0m\u001b[0mset_xlabel\u001b[0m\u001b[0;34m(\u001b[0m\u001b[0;34m\"planeity [mm]\"\u001b[0m\u001b[0;34m)\u001b[0m\u001b[0;34m\u001b[0m\u001b[0;34m\u001b[0m\u001b[0m\n",
      "\u001b[0;32m/usr/local/lib/python3.9/site-packages/pandas/core/series.py\u001b[0m in \u001b[0;36m__getitem__\u001b[0;34m(self, key)\u001b[0m\n\u001b[1;32m    822\u001b[0m \u001b[0;34m\u001b[0m\u001b[0m\n\u001b[1;32m    823\u001b[0m         \u001b[0;32melif\u001b[0m \u001b[0mkey_is_scalar\u001b[0m\u001b[0;34m:\u001b[0m\u001b[0;34m\u001b[0m\u001b[0;34m\u001b[0m\u001b[0m\n\u001b[0;32m--> 824\u001b[0;31m             \u001b[0;32mreturn\u001b[0m \u001b[0mself\u001b[0m\u001b[0;34m.\u001b[0m\u001b[0m_get_value\u001b[0m\u001b[0;34m(\u001b[0m\u001b[0mkey\u001b[0m\u001b[0;34m)\u001b[0m\u001b[0;34m\u001b[0m\u001b[0;34m\u001b[0m\u001b[0m\n\u001b[0m\u001b[1;32m    825\u001b[0m \u001b[0;34m\u001b[0m\u001b[0m\n\u001b[1;32m    826\u001b[0m         \u001b[0;32mif\u001b[0m \u001b[0mis_hashable\u001b[0m\u001b[0;34m(\u001b[0m\u001b[0mkey\u001b[0m\u001b[0;34m)\u001b[0m\u001b[0;34m:\u001b[0m\u001b[0;34m\u001b[0m\u001b[0;34m\u001b[0m\u001b[0m\n",
      "\u001b[0;32m/usr/local/lib/python3.9/site-packages/pandas/core/series.py\u001b[0m in \u001b[0;36m_get_value\u001b[0;34m(self, label, takeable)\u001b[0m\n\u001b[1;32m    930\u001b[0m \u001b[0;34m\u001b[0m\u001b[0m\n\u001b[1;32m    931\u001b[0m         \u001b[0;31m# Similar to Index.get_value, but we do not fall back to positional\u001b[0m\u001b[0;34m\u001b[0m\u001b[0;34m\u001b[0m\u001b[0m\n\u001b[0;32m--> 932\u001b[0;31m         \u001b[0mloc\u001b[0m \u001b[0;34m=\u001b[0m \u001b[0mself\u001b[0m\u001b[0;34m.\u001b[0m\u001b[0mindex\u001b[0m\u001b[0;34m.\u001b[0m\u001b[0mget_loc\u001b[0m\u001b[0;34m(\u001b[0m\u001b[0mlabel\u001b[0m\u001b[0;34m)\u001b[0m\u001b[0;34m\u001b[0m\u001b[0;34m\u001b[0m\u001b[0m\n\u001b[0m\u001b[1;32m    933\u001b[0m         \u001b[0;32mreturn\u001b[0m \u001b[0mself\u001b[0m\u001b[0;34m.\u001b[0m\u001b[0mindex\u001b[0m\u001b[0;34m.\u001b[0m\u001b[0m_get_values_for_loc\u001b[0m\u001b[0;34m(\u001b[0m\u001b[0mself\u001b[0m\u001b[0;34m,\u001b[0m \u001b[0mloc\u001b[0m\u001b[0;34m,\u001b[0m \u001b[0mlabel\u001b[0m\u001b[0;34m)\u001b[0m\u001b[0;34m\u001b[0m\u001b[0;34m\u001b[0m\u001b[0m\n\u001b[1;32m    934\u001b[0m \u001b[0;34m\u001b[0m\u001b[0m\n",
      "\u001b[0;32m/usr/local/lib/python3.9/site-packages/pandas/core/indexes/range.py\u001b[0m in \u001b[0;36mget_loc\u001b[0;34m(self, key, method, tolerance)\u001b[0m\n\u001b[1;32m    352\u001b[0m                 \u001b[0;32mexcept\u001b[0m \u001b[0mValueError\u001b[0m \u001b[0;32mas\u001b[0m \u001b[0merr\u001b[0m\u001b[0;34m:\u001b[0m\u001b[0;34m\u001b[0m\u001b[0;34m\u001b[0m\u001b[0m\n\u001b[1;32m    353\u001b[0m                     \u001b[0;32mraise\u001b[0m \u001b[0mKeyError\u001b[0m\u001b[0;34m(\u001b[0m\u001b[0mkey\u001b[0m\u001b[0;34m)\u001b[0m \u001b[0;32mfrom\u001b[0m \u001b[0merr\u001b[0m\u001b[0;34m\u001b[0m\u001b[0;34m\u001b[0m\u001b[0m\n\u001b[0;32m--> 354\u001b[0;31m             \u001b[0;32mraise\u001b[0m \u001b[0mKeyError\u001b[0m\u001b[0;34m(\u001b[0m\u001b[0mkey\u001b[0m\u001b[0;34m)\u001b[0m\u001b[0;34m\u001b[0m\u001b[0;34m\u001b[0m\u001b[0m\n\u001b[0m\u001b[1;32m    355\u001b[0m         \u001b[0;32mreturn\u001b[0m \u001b[0msuper\u001b[0m\u001b[0;34m(\u001b[0m\u001b[0;34m)\u001b[0m\u001b[0;34m.\u001b[0m\u001b[0mget_loc\u001b[0m\u001b[0;34m(\u001b[0m\u001b[0mkey\u001b[0m\u001b[0;34m,\u001b[0m \u001b[0mmethod\u001b[0m\u001b[0;34m=\u001b[0m\u001b[0mmethod\u001b[0m\u001b[0;34m,\u001b[0m \u001b[0mtolerance\u001b[0m\u001b[0;34m=\u001b[0m\u001b[0mtolerance\u001b[0m\u001b[0;34m)\u001b[0m\u001b[0;34m\u001b[0m\u001b[0;34m\u001b[0m\u001b[0m\n\u001b[1;32m    356\u001b[0m \u001b[0;34m\u001b[0m\u001b[0m\n",
      "\u001b[0;31mKeyError\u001b[0m: 'planeity'"
     ]
    }
   ],
   "source": [
    "ax2 =((df['label'].str.endswith(\"S\")==False)&(df['label'].str.endswith(\"E\")==False))[\"planeity\"].plot(kind=\"hist\")\n",
    "ax2.set_xlabel(\"planeity [mm]\")\n"
   ]
  },
  {
   "cell_type": "markdown",
   "id": "younger-samoa",
   "metadata": {},
   "source": []
  },
  {
   "cell_type": "code",
   "execution_count": null,
   "id": "light-tiffany",
   "metadata": {},
   "outputs": [],
   "source": []
  },
  {
   "cell_type": "markdown",
   "id": "inclusive-devon",
   "metadata": {},
   "source": [
    "# Module planarity"
   ]
  },
  {
   "cell_type": "code",
   "execution_count": 160,
   "id": "removed-forum",
   "metadata": {},
   "outputs": [
    {
     "data": {
      "text/plain": [
       "Text(0.5, 0, 'angle [degrees]')"
      ]
     },
     "execution_count": 160,
     "metadata": {},
     "output_type": "execute_result"
    },
    {
     "data": {
      "image/png": "[encoded data removed]",
      "text/plain": [
       "<Figure size 432x288 with 1 Axes>"
      ]
     },
     "metadata": {
      "needs_background": "light"
     },
     "output_type": "display_data"
    }
   ],
   "source": [
    "dfm = pd.read_csv(\"reportModule-v4.csv\")\n",
    "dfm2 = pd.read_csv(\"reportModule-v2.csv\")\n",
    "ax = dfm[\"angle\"].plot(kind=\"hist\",bins=10)\n",
    "ax.set_xlabel(\"angle [degrees]\")\n"
   ]
  },
  {
   "cell_type": "code",
   "execution_count": 161,
   "id": "international-capability",
   "metadata": {},
   "outputs": [
    {
     "data": {
      "text/plain": [
       "Text(0.5, 0, 'planeity [mm]')"
      ]
     },
     "execution_count": 161,
     "metadata": {},
     "output_type": "execute_result"
    },
    {
     "data": {
      "image/png": "[encoded data removed]",
      "text/plain": [
       "<Figure size 432x288 with 1 Axes>"
      ]
     },
     "metadata": {
      "needs_background": "light"
     },
     "output_type": "display_data"
    }
   ],
   "source": [
    "ax = dfm[\"planeity\"].plot(kind=\"hist\",bins=50)\n",
    "ax.set_xlabel(\"planeity [mm]\")"
   ]
  },
  {
   "cell_type": "code",
   "execution_count": 162,
   "id": "neither-calgary",
   "metadata": {},
   "outputs": [
    {
     "data": {
      "text/html": [
       "<div>\n",
       "<style scoped>\n",
       "    .dataframe tbody tr th:only-of-type {\n",
       "        vertical-align: middle;\n",
       "    }\n",
       "\n",
       "    .dataframe tbody tr th {\n",
       "        vertical-align: top;\n",
       "    }\n",
       "\n",
       "    .dataframe thead th {\n",
       "        text-align: right;\n",
       "    }\n",
       "</style>\n",
       "<table border=\"1\" class=\"dataframe\">\n",
       "  <thead>\n",
       "    <tr style=\"text-align: right;\">\n",
       "      <th></th>\n",
       "      <th>label</th>\n",
       "      <th>angle</th>\n",
       "      <th>planeity</th>\n",
       "    </tr>\n",
       "  </thead>\n",
       "  <tbody>\n",
       "    <tr>\n",
       "      <th>0</th>\n",
       "      <td>E02</td>\n",
       "      <td>-22.82267</td>\n",
       "      <td>108.92725</td>\n",
       "    </tr>\n",
       "    <tr>\n",
       "      <th>1</th>\n",
       "      <td>E04</td>\n",
       "      <td>-25.57612</td>\n",
       "      <td>81.19105</td>\n",
       "    </tr>\n",
       "    <tr>\n",
       "      <th>2</th>\n",
       "      <td>E06</td>\n",
       "      <td>24.75296</td>\n",
       "      <td>111.05196</td>\n",
       "    </tr>\n",
       "    <tr>\n",
       "      <th>3</th>\n",
       "      <td>E08</td>\n",
       "      <td>26.98723</td>\n",
       "      <td>98.42470</td>\n",
       "    </tr>\n",
       "    <tr>\n",
       "      <th>4</th>\n",
       "      <td>E10</td>\n",
       "      <td>26.68823</td>\n",
       "      <td>86.56905</td>\n",
       "    </tr>\n",
       "  </tbody>\n",
       "</table>\n",
       "</div>"
      ],
      "text/plain": [
       "  label     angle   planeity\n",
       "0   E02 -22.82267  108.92725\n",
       "1   E04 -25.57612   81.19105\n",
       "2   E06  24.75296  111.05196\n",
       "3   E08  26.98723   98.42470\n",
       "4   E10  26.68823   86.56905"
      ]
     },
     "execution_count": 162,
     "metadata": {},
     "output_type": "execute_result"
    }
   ],
   "source": [
    "dfm[dfm[\"planeity\"]>1]"
   ]
  },
  {
   "cell_type": "code",
   "execution_count": 163,
   "id": "certified-above",
   "metadata": {},
   "outputs": [
    {
     "data": {
      "text/plain": [
       "Text(0.5, 0, 'planeity [mm]')"
      ]
     },
     "execution_count": 163,
     "metadata": {},
     "output_type": "execute_result"
    },
    {
     "data": {
      "image/png": "[encoded data removed]",
      "text/plain": [
       "<Figure size 432x288 with 1 Axes>"
      ]
     },
     "metadata": {
      "needs_background": "light"
     },
     "output_type": "display_data"
    }
   ],
   "source": [
    "ax = dfm[dfm[\"planeity\"]<1][\"planeity\"].plot(kind=\"hist\",bins=10)\n",
    "ax.set_xlabel(\"planeity [mm]\")"
   ]
  },
  {
   "cell_type": "markdown",
   "id": "deadly-arthritis",
   "metadata": {},
   "source": [
    "# Comparison between the 2 measurements"
   ]
  },
  {
   "cell_type": "code",
   "execution_count": 164,
   "id": "persistent-mobility",
   "metadata": {},
   "outputs": [
    {
     "ename": "ValueError",
     "evalue": "Can only compare identically-labeled DataFrame objects",
     "output_type": "error",
     "traceback": [
      "\u001b[0;31m---------------------------------------------------------------------------\u001b[0m",
      "\u001b[0;31mValueError\u001b[0m                                Traceback (most recent call last)",
      "\u001b[0;32m<ipython-input-164-44e15521806c>\u001b[0m in \u001b[0;36m<module>\u001b[0;34m\u001b[0m\n\u001b[0;32m----> 1\u001b[0;31m \u001b[0mdiff\u001b[0m \u001b[0;34m=\u001b[0m \u001b[0mdfm\u001b[0m\u001b[0;34m.\u001b[0m\u001b[0mcompare\u001b[0m\u001b[0;34m(\u001b[0m\u001b[0mdfm2\u001b[0m\u001b[0;34m)\u001b[0m\u001b[0;34m[\u001b[0m\u001b[0;34m\"planeity\"\u001b[0m\u001b[0;34m]\u001b[0m\u001b[0;34m[\u001b[0m\u001b[0;34m\"self\"\u001b[0m\u001b[0;34m]\u001b[0m\u001b[0;34m-\u001b[0m\u001b[0mdfm\u001b[0m\u001b[0;34m.\u001b[0m\u001b[0mcompare\u001b[0m\u001b[0;34m(\u001b[0m\u001b[0mdfm2\u001b[0m\u001b[0;34m)\u001b[0m\u001b[0;34m[\u001b[0m\u001b[0;34m\"planeity\"\u001b[0m\u001b[0;34m]\u001b[0m\u001b[0;34m[\u001b[0m\u001b[0;34m\"other\"\u001b[0m\u001b[0;34m]\u001b[0m\u001b[0;34m\u001b[0m\u001b[0;34m\u001b[0m\u001b[0m\n\u001b[0m\u001b[1;32m      2\u001b[0m \u001b[0mprint\u001b[0m\u001b[0;34m(\u001b[0m\u001b[0mdfm\u001b[0m\u001b[0;34m.\u001b[0m\u001b[0mcompare\u001b[0m\u001b[0;34m(\u001b[0m\u001b[0mdfm2\u001b[0m\u001b[0;34m)\u001b[0m\u001b[0;34m[\u001b[0m\u001b[0;34m\"planeity\"\u001b[0m\u001b[0;34m]\u001b[0m\u001b[0;34m)\u001b[0m\u001b[0;34m\u001b[0m\u001b[0;34m\u001b[0m\u001b[0m\n\u001b[1;32m      3\u001b[0m \u001b[0;31m#plt.plot(diff,kind=\"hist\",bins=10)\u001b[0m\u001b[0;34m\u001b[0m\u001b[0;34m\u001b[0m\u001b[0m\n\u001b[1;32m      4\u001b[0m \u001b[0max\u001b[0m \u001b[0;34m=\u001b[0m \u001b[0mdiff\u001b[0m\u001b[0;34m.\u001b[0m\u001b[0mplot\u001b[0m\u001b[0;34m(\u001b[0m\u001b[0mkind\u001b[0m\u001b[0;34m=\u001b[0m\u001b[0;34m\"hist\"\u001b[0m\u001b[0;34m,\u001b[0m\u001b[0mbins\u001b[0m\u001b[0;34m=\u001b[0m\u001b[0;36m30\u001b[0m\u001b[0;34m)\u001b[0m\u001b[0;34m\u001b[0m\u001b[0;34m\u001b[0m\u001b[0m\n\u001b[1;32m      5\u001b[0m \u001b[0max\u001b[0m\u001b[0;34m.\u001b[0m\u001b[0mset_xlabel\u001b[0m\u001b[0;34m(\u001b[0m\u001b[0;34m\"planarity [mm]\"\u001b[0m\u001b[0;34m)\u001b[0m\u001b[0;34m\u001b[0m\u001b[0;34m\u001b[0m\u001b[0m\n",
      "\u001b[0;32m/usr/local/lib/python3.9/site-packages/pandas/core/frame.py\u001b[0m in \u001b[0;36mcompare\u001b[0;34m(self, other, align_axis, keep_shape, keep_equal)\u001b[0m\n\u001b[1;32m   6210\u001b[0m         \u001b[0mkeep_equal\u001b[0m\u001b[0;34m:\u001b[0m \u001b[0mbool\u001b[0m \u001b[0;34m=\u001b[0m \u001b[0;32mFalse\u001b[0m\u001b[0;34m,\u001b[0m\u001b[0;34m\u001b[0m\u001b[0;34m\u001b[0m\u001b[0m\n\u001b[1;32m   6211\u001b[0m     ) -> DataFrame:\n\u001b[0;32m-> 6212\u001b[0;31m         return super().compare(\n\u001b[0m\u001b[1;32m   6213\u001b[0m             \u001b[0mother\u001b[0m\u001b[0;34m=\u001b[0m\u001b[0mother\u001b[0m\u001b[0;34m,\u001b[0m\u001b[0;34m\u001b[0m\u001b[0;34m\u001b[0m\u001b[0m\n\u001b[1;32m   6214\u001b[0m             \u001b[0malign_axis\u001b[0m\u001b[0;34m=\u001b[0m\u001b[0malign_axis\u001b[0m\u001b[0;34m,\u001b[0m\u001b[0;34m\u001b[0m\u001b[0;34m\u001b[0m\u001b[0m\n",
      "\u001b[0;32m/usr/local/lib/python3.9/site-packages/pandas/core/generic.py\u001b[0m in \u001b[0;36mcompare\u001b[0;34m(self, other, align_axis, keep_shape, keep_equal)\u001b[0m\n\u001b[1;32m   8651\u001b[0m             )\n\u001b[1;32m   8652\u001b[0m \u001b[0;34m\u001b[0m\u001b[0m\n\u001b[0;32m-> 8653\u001b[0;31m         \u001b[0mmask\u001b[0m \u001b[0;34m=\u001b[0m \u001b[0;34m~\u001b[0m\u001b[0;34m(\u001b[0m\u001b[0;34m(\u001b[0m\u001b[0mself\u001b[0m \u001b[0;34m==\u001b[0m \u001b[0mother\u001b[0m\u001b[0;34m)\u001b[0m \u001b[0;34m|\u001b[0m \u001b[0;34m(\u001b[0m\u001b[0mself\u001b[0m\u001b[0;34m.\u001b[0m\u001b[0misna\u001b[0m\u001b[0;34m(\u001b[0m\u001b[0;34m)\u001b[0m \u001b[0;34m&\u001b[0m \u001b[0mother\u001b[0m\u001b[0;34m.\u001b[0m\u001b[0misna\u001b[0m\u001b[0;34m(\u001b[0m\u001b[0;34m)\u001b[0m\u001b[0;34m)\u001b[0m\u001b[0;34m)\u001b[0m\u001b[0;34m\u001b[0m\u001b[0;34m\u001b[0m\u001b[0m\n\u001b[0m\u001b[1;32m   8654\u001b[0m         \u001b[0mkeys\u001b[0m \u001b[0;34m=\u001b[0m \u001b[0;34m[\u001b[0m\u001b[0;34m\"self\"\u001b[0m\u001b[0;34m,\u001b[0m \u001b[0;34m\"other\"\u001b[0m\u001b[0;34m]\u001b[0m\u001b[0;34m\u001b[0m\u001b[0;34m\u001b[0m\u001b[0m\n\u001b[1;32m   8655\u001b[0m \u001b[0;34m\u001b[0m\u001b[0m\n",
      "\u001b[0;32m/usr/local/lib/python3.9/site-packages/pandas/core/ops/common.py\u001b[0m in \u001b[0;36mnew_method\u001b[0;34m(self, other)\u001b[0m\n\u001b[1;32m     63\u001b[0m         \u001b[0mother\u001b[0m \u001b[0;34m=\u001b[0m \u001b[0mitem_from_zerodim\u001b[0m\u001b[0;34m(\u001b[0m\u001b[0mother\u001b[0m\u001b[0;34m)\u001b[0m\u001b[0;34m\u001b[0m\u001b[0;34m\u001b[0m\u001b[0m\n\u001b[1;32m     64\u001b[0m \u001b[0;34m\u001b[0m\u001b[0m\n\u001b[0;32m---> 65\u001b[0;31m         \u001b[0;32mreturn\u001b[0m \u001b[0mmethod\u001b[0m\u001b[0;34m(\u001b[0m\u001b[0mself\u001b[0m\u001b[0;34m,\u001b[0m \u001b[0mother\u001b[0m\u001b[0;34m)\u001b[0m\u001b[0;34m\u001b[0m\u001b[0;34m\u001b[0m\u001b[0m\n\u001b[0m\u001b[1;32m     66\u001b[0m \u001b[0;34m\u001b[0m\u001b[0m\n\u001b[1;32m     67\u001b[0m     \u001b[0;32mreturn\u001b[0m \u001b[0mnew_method\u001b[0m\u001b[0;34m\u001b[0m\u001b[0;34m\u001b[0m\u001b[0m\n",
      "\u001b[0;32m/usr/local/lib/python3.9/site-packages/pandas/core/arraylike.py\u001b[0m in \u001b[0;36m__eq__\u001b[0;34m(self, other)\u001b[0m\n\u001b[1;32m     27\u001b[0m     \u001b[0;34m@\u001b[0m\u001b[0munpack_zerodim_and_defer\u001b[0m\u001b[0;34m(\u001b[0m\u001b[0;34m\"__eq__\"\u001b[0m\u001b[0;34m)\u001b[0m\u001b[0;34m\u001b[0m\u001b[0;34m\u001b[0m\u001b[0m\n\u001b[1;32m     28\u001b[0m     \u001b[0;32mdef\u001b[0m \u001b[0m__eq__\u001b[0m\u001b[0;34m(\u001b[0m\u001b[0mself\u001b[0m\u001b[0;34m,\u001b[0m \u001b[0mother\u001b[0m\u001b[0;34m)\u001b[0m\u001b[0;34m:\u001b[0m\u001b[0;34m\u001b[0m\u001b[0;34m\u001b[0m\u001b[0m\n\u001b[0;32m---> 29\u001b[0;31m         \u001b[0;32mreturn\u001b[0m \u001b[0mself\u001b[0m\u001b[0;34m.\u001b[0m\u001b[0m_cmp_method\u001b[0m\u001b[0;34m(\u001b[0m\u001b[0mother\u001b[0m\u001b[0;34m,\u001b[0m \u001b[0moperator\u001b[0m\u001b[0;34m.\u001b[0m\u001b[0meq\u001b[0m\u001b[0;34m)\u001b[0m\u001b[0;34m\u001b[0m\u001b[0;34m\u001b[0m\u001b[0m\n\u001b[0m\u001b[1;32m     30\u001b[0m \u001b[0;34m\u001b[0m\u001b[0m\n\u001b[1;32m     31\u001b[0m     \u001b[0;34m@\u001b[0m\u001b[0munpack_zerodim_and_defer\u001b[0m\u001b[0;34m(\u001b[0m\u001b[0;34m\"__ne__\"\u001b[0m\u001b[0;34m)\u001b[0m\u001b[0;34m\u001b[0m\u001b[0;34m\u001b[0m\u001b[0m\n",
      "\u001b[0;32m/usr/local/lib/python3.9/site-packages/pandas/core/frame.py\u001b[0m in \u001b[0;36m_cmp_method\u001b[0;34m(self, other, op)\u001b[0m\n\u001b[1;32m   5963\u001b[0m         \u001b[0maxis\u001b[0m \u001b[0;34m=\u001b[0m \u001b[0;36m1\u001b[0m  \u001b[0;31m# only relevant for Series other case\u001b[0m\u001b[0;34m\u001b[0m\u001b[0;34m\u001b[0m\u001b[0m\n\u001b[1;32m   5964\u001b[0m \u001b[0;34m\u001b[0m\u001b[0m\n\u001b[0;32m-> 5965\u001b[0;31m         \u001b[0mself\u001b[0m\u001b[0;34m,\u001b[0m \u001b[0mother\u001b[0m \u001b[0;34m=\u001b[0m \u001b[0mops\u001b[0m\u001b[0;34m.\u001b[0m\u001b[0malign_method_FRAME\u001b[0m\u001b[0;34m(\u001b[0m\u001b[0mself\u001b[0m\u001b[0;34m,\u001b[0m \u001b[0mother\u001b[0m\u001b[0;34m,\u001b[0m \u001b[0maxis\u001b[0m\u001b[0;34m,\u001b[0m \u001b[0mflex\u001b[0m\u001b[0;34m=\u001b[0m\u001b[0;32mFalse\u001b[0m\u001b[0;34m,\u001b[0m \u001b[0mlevel\u001b[0m\u001b[0;34m=\u001b[0m\u001b[0;32mNone\u001b[0m\u001b[0;34m)\u001b[0m\u001b[0;34m\u001b[0m\u001b[0;34m\u001b[0m\u001b[0m\n\u001b[0m\u001b[1;32m   5966\u001b[0m \u001b[0;34m\u001b[0m\u001b[0m\n\u001b[1;32m   5967\u001b[0m         \u001b[0;31m# See GH#4537 for discussion of scalar op behavior\u001b[0m\u001b[0;34m\u001b[0m\u001b[0;34m\u001b[0m\u001b[0m\n",
      "\u001b[0;32m/usr/local/lib/python3.9/site-packages/pandas/core/ops/__init__.py\u001b[0m in \u001b[0;36malign_method_FRAME\u001b[0;34m(left, right, axis, flex, level)\u001b[0m\n\u001b[1;32m    267\u001b[0m                 \u001b[0mleft\u001b[0m\u001b[0;34m,\u001b[0m \u001b[0mright\u001b[0m \u001b[0;34m=\u001b[0m \u001b[0mleft\u001b[0m\u001b[0;34m.\u001b[0m\u001b[0malign\u001b[0m\u001b[0;34m(\u001b[0m\u001b[0mright\u001b[0m\u001b[0;34m,\u001b[0m \u001b[0mjoin\u001b[0m\u001b[0;34m=\u001b[0m\u001b[0;34m\"outer\"\u001b[0m\u001b[0;34m,\u001b[0m \u001b[0mlevel\u001b[0m\u001b[0;34m=\u001b[0m\u001b[0mlevel\u001b[0m\u001b[0;34m,\u001b[0m \u001b[0mcopy\u001b[0m\u001b[0;34m=\u001b[0m\u001b[0;32mFalse\u001b[0m\u001b[0;34m)\u001b[0m\u001b[0;34m\u001b[0m\u001b[0;34m\u001b[0m\u001b[0m\n\u001b[1;32m    268\u001b[0m             \u001b[0;32melse\u001b[0m\u001b[0;34m:\u001b[0m\u001b[0;34m\u001b[0m\u001b[0;34m\u001b[0m\u001b[0m\n\u001b[0;32m--> 269\u001b[0;31m                 raise ValueError(\n\u001b[0m\u001b[1;32m    270\u001b[0m                     \u001b[0;34m\"Can only compare identically-labeled DataFrame objects\"\u001b[0m\u001b[0;34m\u001b[0m\u001b[0;34m\u001b[0m\u001b[0m\n\u001b[1;32m    271\u001b[0m                 )\n",
      "\u001b[0;31mValueError\u001b[0m: Can only compare identically-labeled DataFrame objects"
     ]
    }
   ],
   "source": [
    "diff = dfm.compare(dfm2)[\"planeity\"][\"self\"]-dfm.compare(dfm2)[\"planeity\"][\"other\"]\n",
    "print(dfm.compare(dfm2)[\"planeity\"])\n",
    "#plt.plot(diff,kind=\"hist\",bins=10)\n",
    "ax = diff.plot(kind=\"hist\",bins=30)\n",
    "ax.set_xlabel(\"planarity [mm]\")\n",
    "diff.mean()\n",
    "diff.std()"
   ]
  },
  {
   "cell_type": "markdown",
   "id": "rapid-increase",
   "metadata": {},
   "source": [
    "## Holes positions"
   ]
  },
  {
   "cell_type": "code",
   "execution_count": 165,
   "id": "brief-maximum",
   "metadata": {},
   "outputs": [],
   "source": [
    "dfh = pd.read_csv(\"Proto2/Holes.csv\",\";\")"
   ]
  },
  {
   "cell_type": "code",
   "execution_count": 166,
   "id": "serial-argentina",
   "metadata": {},
   "outputs": [
    {
     "name": "stdout",
     "output_type": "stream",
     "text": [
      "Index(['Module', 'A-x', 'A-y', 'B-x', 'B-y', 'C-x', 'C-y', 'D-x', 'D-y'], dtype='object')\n"
     ]
    },
    {
     "data": {
      "text/html": [
       "<div>\n",
       "<style scoped>\n",
       "    .dataframe tbody tr th:only-of-type {\n",
       "        vertical-align: middle;\n",
       "    }\n",
       "\n",
       "    .dataframe tbody tr th {\n",
       "        vertical-align: top;\n",
       "    }\n",
       "\n",
       "    .dataframe thead th {\n",
       "        text-align: right;\n",
       "    }\n",
       "</style>\n",
       "<table border=\"1\" class=\"dataframe\">\n",
       "  <thead>\n",
       "    <tr style=\"text-align: right;\">\n",
       "      <th></th>\n",
       "      <th>Module</th>\n",
       "      <th>A-x</th>\n",
       "      <th>A-y</th>\n",
       "      <th>B-x</th>\n",
       "      <th>B-y</th>\n",
       "      <th>C-x</th>\n",
       "      <th>C-y</th>\n",
       "      <th>D-x</th>\n",
       "      <th>D-y</th>\n",
       "    </tr>\n",
       "  </thead>\n",
       "  <tbody>\n",
       "    <tr>\n",
       "      <th>0</th>\n",
       "      <td>4</td>\n",
       "      <td>0</td>\n",
       "      <td>0</td>\n",
       "      <td>0</td>\n",
       "      <td>102.93</td>\n",
       "      <td>93.02</td>\n",
       "      <td>102.83</td>\n",
       "      <td>93.01</td>\n",
       "      <td>0.07</td>\n",
       "    </tr>\n",
       "    <tr>\n",
       "      <th>1</th>\n",
       "      <td>8</td>\n",
       "      <td>0</td>\n",
       "      <td>0</td>\n",
       "      <td>0</td>\n",
       "      <td>103.01</td>\n",
       "      <td>93.02</td>\n",
       "      <td>102.91</td>\n",
       "      <td>92.98</td>\n",
       "      <td>0.06</td>\n",
       "    </tr>\n",
       "    <tr>\n",
       "      <th>2</th>\n",
       "      <td>9</td>\n",
       "      <td>0</td>\n",
       "      <td>0</td>\n",
       "      <td>0</td>\n",
       "      <td>102.96</td>\n",
       "      <td>93.02</td>\n",
       "      <td>102.85</td>\n",
       "      <td>92.99</td>\n",
       "      <td>0.05</td>\n",
       "    </tr>\n",
       "    <tr>\n",
       "      <th>3</th>\n",
       "      <td>5</td>\n",
       "      <td>0</td>\n",
       "      <td>0</td>\n",
       "      <td>0</td>\n",
       "      <td>102.90</td>\n",
       "      <td>92.97</td>\n",
       "      <td>103.01</td>\n",
       "      <td>92.97</td>\n",
       "      <td>0.12</td>\n",
       "    </tr>\n",
       "  </tbody>\n",
       "</table>\n",
       "</div>"
      ],
      "text/plain": [
       "   Module  A-x  A-y  B-x     B-y    C-x     C-y    D-x   D-y\n",
       "0       4    0    0    0  102.93  93.02  102.83  93.01  0.07\n",
       "1       8    0    0    0  103.01  93.02  102.91  92.98  0.06\n",
       "2       9    0    0    0  102.96  93.02  102.85  92.99  0.05\n",
       "3       5    0    0    0  102.90  92.97  103.01  92.97  0.12"
      ]
     },
     "execution_count": 166,
     "metadata": {},
     "output_type": "execute_result"
    }
   ],
   "source": [
    "print(dfh.keys())\n",
    "dfh"
   ]
  },
  {
   "cell_type": "markdown",
   "id": "processed-surface",
   "metadata": {},
   "source": [
    "## Entraxe A-B  C-D"
   ]
  },
  {
   "cell_type": "code",
   "execution_count": 167,
   "id": "alive-botswana",
   "metadata": {
    "scrolled": true
   },
   "outputs": [
    {
     "data": {
      "text/plain": [
       "<AxesSubplot:ylabel='Frequency'>"
      ]
     },
     "execution_count": 167,
     "metadata": {},
     "output_type": "execute_result"
    },
    {
     "data": {
      "image/png": "[encoded data removed]",
      "text/plain": [
       "<Figure size 432x288 with 1 Axes>"
      ]
     },
     "metadata": {
      "needs_background": "light"
     },
     "output_type": "display_data"
    }
   ],
   "source": [
    "(dfh[\"B-y\"]-dfh[\"A-y\"]).append(dfh[\"C-y\"]-dfh[\"D-y\"]).plot(kind=\"hist\")"
   ]
  },
  {
   "cell_type": "code",
   "execution_count": 168,
   "id": "broad-valve",
   "metadata": {},
   "outputs": [
    {
     "name": "stdout",
     "output_type": "stream",
     "text": [
      "mean =  102.8875\n",
      "stdev =  0.08241879119992747\n"
     ]
    },
    {
     "data": {
      "image/png": "[encoded data removed]",
      "text/plain": [
       "<Figure size 432x288 with 1 Axes>"
      ]
     },
     "metadata": {
      "needs_background": "light"
     },
     "output_type": "display_data"
    }
   ],
   "source": [
    "a = (dfh[\"B-y\"]-dfh[\"A-y\"]).append(dfh[\"C-y\"]-dfh[\"D-y\"])\n",
    "a.plot(kind=\"hist\")\n",
    "print(\"mean = \",a.mean())\n",
    "print(\"stdev = \",(a.std()))"
   ]
  },
  {
   "cell_type": "code",
   "execution_count": 169,
   "id": "infrared-backup",
   "metadata": {},
   "outputs": [
    {
     "name": "stdout",
     "output_type": "stream",
     "text": [
      "mean =  92.9975\n",
      "stdev =  0.022519832529190965\n"
     ]
    },
    {
     "data": {
      "image/png": "[encoded data removed]",
      "text/plain": [
       "<Figure size 432x288 with 1 Axes>"
      ]
     },
     "metadata": {
      "needs_background": "light"
     },
     "output_type": "display_data"
    }
   ],
   "source": [
    "a = (dfh[\"D-x\"]-dfh[\"B-x\"]).append(dfh[\"C-x\"]-dfh[\"A-x\"])\n",
    "a.plot(kind=\"hist\")\n",
    "print(\"mean = \",a.mean())\n",
    "print(\"stdev = \",(a.std()))"
   ]
  },
  {
   "cell_type": "code",
   "execution_count": null,
   "id": "adjusted-technician",
   "metadata": {},
   "outputs": [],
   "source": []
  },
  {
   "cell_type": "code",
   "execution_count": 170,
   "id": "radical-particular",
   "metadata": {},
   "outputs": [],
   "source": [
    "import pandas as pd\n",
    "import matplotlib.pyplot as plt\n",
    "dfp = pd.read_csv(\"points.csv\")"
   ]
  },
  {
   "cell_type": "code",
   "execution_count": 171,
   "id": "prescription-extraction",
   "metadata": {},
   "outputs": [
    {
     "data": {
      "text/html": [
       "<div>\n",
       "<style scoped>\n",
       "    .dataframe tbody tr th:only-of-type {\n",
       "        vertical-align: middle;\n",
       "    }\n",
       "\n",
       "    .dataframe tbody tr th {\n",
       "        vertical-align: top;\n",
       "    }\n",
       "\n",
       "    .dataframe thead th {\n",
       "        text-align: right;\n",
       "    }\n",
       "</style>\n",
       "<table border=\"1\" class=\"dataframe\">\n",
       "  <thead>\n",
       "    <tr style=\"text-align: right;\">\n",
       "      <th></th>\n",
       "      <th>letter</th>\n",
       "      <th>module</th>\n",
       "      <th>face</th>\n",
       "      <th>x</th>\n",
       "      <th>y</th>\n",
       "      <th>z</th>\n",
       "    </tr>\n",
       "  </thead>\n",
       "  <tbody>\n",
       "    <tr>\n",
       "      <th>0</th>\n",
       "      <td>A</td>\n",
       "      <td>2</td>\n",
       "      <td>F1</td>\n",
       "      <td>-1071.232</td>\n",
       "      <td>2.057</td>\n",
       "      <td>131.412</td>\n",
       "    </tr>\n",
       "    <tr>\n",
       "      <th>1</th>\n",
       "      <td>A</td>\n",
       "      <td>2</td>\n",
       "      <td>F2</td>\n",
       "      <td>-1056.550</td>\n",
       "      <td>2.057</td>\n",
       "      <td>131.411</td>\n",
       "    </tr>\n",
       "    <tr>\n",
       "      <th>2</th>\n",
       "      <td>A</td>\n",
       "      <td>2</td>\n",
       "      <td>F3</td>\n",
       "      <td>-1056.595</td>\n",
       "      <td>2.040</td>\n",
       "      <td>125.955</td>\n",
       "    </tr>\n",
       "    <tr>\n",
       "      <th>3</th>\n",
       "      <td>A</td>\n",
       "      <td>2</td>\n",
       "      <td>F4</td>\n",
       "      <td>-1063.219</td>\n",
       "      <td>1.966</td>\n",
       "      <td>125.985</td>\n",
       "    </tr>\n",
       "    <tr>\n",
       "      <th>4</th>\n",
       "      <td>A</td>\n",
       "      <td>2</td>\n",
       "      <td>F5</td>\n",
       "      <td>-1072.127</td>\n",
       "      <td>1.976</td>\n",
       "      <td>128.924</td>\n",
       "    </tr>\n",
       "    <tr>\n",
       "      <th>...</th>\n",
       "      <td>...</td>\n",
       "      <td>...</td>\n",
       "      <td>...</td>\n",
       "      <td>...</td>\n",
       "      <td>...</td>\n",
       "      <td>...</td>\n",
       "    </tr>\n",
       "    <tr>\n",
       "      <th>242</th>\n",
       "      <td>E</td>\n",
       "      <td>10</td>\n",
       "      <td>H2</td>\n",
       "      <td>-180.064</td>\n",
       "      <td>1.989</td>\n",
       "      <td>27.180</td>\n",
       "    </tr>\n",
       "    <tr>\n",
       "      <th>243</th>\n",
       "      <td>E</td>\n",
       "      <td>10</td>\n",
       "      <td>H3</td>\n",
       "      <td>-179.992</td>\n",
       "      <td>2.053</td>\n",
       "      <td>25.499</td>\n",
       "    </tr>\n",
       "    <tr>\n",
       "      <th>244</th>\n",
       "      <td>E</td>\n",
       "      <td>10</td>\n",
       "      <td>H4</td>\n",
       "      <td>-181.585</td>\n",
       "      <td>2.025</td>\n",
       "      <td>24.311</td>\n",
       "    </tr>\n",
       "    <tr>\n",
       "      <th>245</th>\n",
       "      <td>E</td>\n",
       "      <td>10</td>\n",
       "      <td>H5</td>\n",
       "      <td>-184.527</td>\n",
       "      <td>1.985</td>\n",
       "      <td>25.623</td>\n",
       "    </tr>\n",
       "    <tr>\n",
       "      <th>246</th>\n",
       "      <td>E</td>\n",
       "      <td>10</td>\n",
       "      <td>H6</td>\n",
       "      <td>-184.623</td>\n",
       "      <td>2.052</td>\n",
       "      <td>27.239</td>\n",
       "    </tr>\n",
       "  </tbody>\n",
       "</table>\n",
       "<p>247 rows × 6 columns</p>\n",
       "</div>"
      ],
      "text/plain": [
       "    letter  module face         x      y        z\n",
       "0        A       2   F1 -1071.232  2.057  131.412\n",
       "1        A       2   F2 -1056.550  2.057  131.411\n",
       "2        A       2   F3 -1056.595  2.040  125.955\n",
       "3        A       2   F4 -1063.219  1.966  125.985\n",
       "4        A       2   F5 -1072.127  1.976  128.924\n",
       "..     ...     ...  ...       ...    ...      ...\n",
       "242      E      10   H2  -180.064  1.989   27.180\n",
       "243      E      10   H3  -179.992  2.053   25.499\n",
       "244      E      10   H4  -181.585  2.025   24.311\n",
       "245      E      10   H5  -184.527  1.985   25.623\n",
       "246      E      10   H6  -184.623  2.052   27.239\n",
       "\n",
       "[247 rows x 6 columns]"
      ]
     },
     "execution_count": 171,
     "metadata": {},
     "output_type": "execute_result"
    }
   ],
   "source": [
    "dfp"
   ]
  },
  {
   "cell_type": "code",
   "execution_count": 200,
   "id": "behind-process",
   "metadata": {},
   "outputs": [
    {
     "data": {
      "text/html": [
       "<div>\n",
       "<style scoped>\n",
       "    .dataframe tbody tr th:only-of-type {\n",
       "        vertical-align: middle;\n",
       "    }\n",
       "\n",
       "    .dataframe tbody tr th {\n",
       "        vertical-align: top;\n",
       "    }\n",
       "\n",
       "    .dataframe thead th {\n",
       "        text-align: right;\n",
       "    }\n",
       "</style>\n",
       "<table border=\"1\" class=\"dataframe\">\n",
       "  <thead>\n",
       "    <tr style=\"text-align: right;\">\n",
       "      <th></th>\n",
       "      <th>letter</th>\n",
       "      <th>module</th>\n",
       "      <th>face</th>\n",
       "      <th>x</th>\n",
       "      <th>y</th>\n",
       "      <th>z</th>\n",
       "      <th>point</th>\n",
       "    </tr>\n",
       "  </thead>\n",
       "  <tbody>\n",
       "    <tr>\n",
       "      <th>43</th>\n",
       "      <td>E</td>\n",
       "      <td>2</td>\n",
       "      <td>F1</td>\n",
       "      <td>-973.108</td>\n",
       "      <td>1.968</td>\n",
       "      <td>28.019</td>\n",
       "      <td>E02F1</td>\n",
       "    </tr>\n",
       "    <tr>\n",
       "      <th>44</th>\n",
       "      <td>E</td>\n",
       "      <td>2</td>\n",
       "      <td>F2</td>\n",
       "      <td>-965.870</td>\n",
       "      <td>1.964</td>\n",
       "      <td>28.030</td>\n",
       "      <td>E02F2</td>\n",
       "    </tr>\n",
       "    <tr>\n",
       "      <th>45</th>\n",
       "      <td>E</td>\n",
       "      <td>2</td>\n",
       "      <td>F3</td>\n",
       "      <td>-956.880</td>\n",
       "      <td>2.045</td>\n",
       "      <td>25.881</td>\n",
       "      <td>E02F3</td>\n",
       "    </tr>\n",
       "    <tr>\n",
       "      <th>46</th>\n",
       "      <td>E</td>\n",
       "      <td>2</td>\n",
       "      <td>F4</td>\n",
       "      <td>-957.561</td>\n",
       "      <td>2.062</td>\n",
       "      <td>23.215</td>\n",
       "      <td>E02F4</td>\n",
       "    </tr>\n",
       "    <tr>\n",
       "      <th>47</th>\n",
       "      <td>E</td>\n",
       "      <td>2</td>\n",
       "      <td>F5</td>\n",
       "      <td>-972.684</td>\n",
       "      <td>2.060</td>\n",
       "      <td>23.192</td>\n",
       "      <td>E02F5</td>\n",
       "    </tr>\n",
       "    <tr>\n",
       "      <th>48</th>\n",
       "      <td>E</td>\n",
       "      <td>2</td>\n",
       "      <td>H1</td>\n",
       "      <td>-967.452</td>\n",
       "      <td>2.038</td>\n",
       "      <td>28.097</td>\n",
       "      <td>E02H1</td>\n",
       "    </tr>\n",
       "    <tr>\n",
       "      <th>49</th>\n",
       "      <td>E</td>\n",
       "      <td>2</td>\n",
       "      <td>H2</td>\n",
       "      <td>-965.314</td>\n",
       "      <td>1.965</td>\n",
       "      <td>27.180</td>\n",
       "      <td>E02H2</td>\n",
       "    </tr>\n",
       "    <tr>\n",
       "      <th>50</th>\n",
       "      <td>E</td>\n",
       "      <td>2</td>\n",
       "      <td>H3</td>\n",
       "      <td>-965.242</td>\n",
       "      <td>2.046</td>\n",
       "      <td>25.499</td>\n",
       "      <td>E02H3</td>\n",
       "    </tr>\n",
       "    <tr>\n",
       "      <th>51</th>\n",
       "      <td>E</td>\n",
       "      <td>2</td>\n",
       "      <td>H4</td>\n",
       "      <td>-966.835</td>\n",
       "      <td>2.002</td>\n",
       "      <td>24.311</td>\n",
       "      <td>E02H4</td>\n",
       "    </tr>\n",
       "    <tr>\n",
       "      <th>52</th>\n",
       "      <td>E</td>\n",
       "      <td>2</td>\n",
       "      <td>H5</td>\n",
       "      <td>-969.777</td>\n",
       "      <td>1.964</td>\n",
       "      <td>25.623</td>\n",
       "      <td>E02H5</td>\n",
       "    </tr>\n",
       "    <tr>\n",
       "      <th>53</th>\n",
       "      <td>E</td>\n",
       "      <td>2</td>\n",
       "      <td>H6</td>\n",
       "      <td>-969.873</td>\n",
       "      <td>2.039</td>\n",
       "      <td>27.239</td>\n",
       "      <td>E02H6</td>\n",
       "    </tr>\n",
       "    <tr>\n",
       "      <th>97</th>\n",
       "      <td>E</td>\n",
       "      <td>4</td>\n",
       "      <td>F1</td>\n",
       "      <td>-774.058</td>\n",
       "      <td>1.977</td>\n",
       "      <td>28.019</td>\n",
       "      <td>E04F1</td>\n",
       "    </tr>\n",
       "    <tr>\n",
       "      <th>98</th>\n",
       "      <td>E</td>\n",
       "      <td>4</td>\n",
       "      <td>F2</td>\n",
       "      <td>-766.820</td>\n",
       "      <td>1.973</td>\n",
       "      <td>28.030</td>\n",
       "      <td>E04F2</td>\n",
       "    </tr>\n",
       "    <tr>\n",
       "      <th>99</th>\n",
       "      <td>E</td>\n",
       "      <td>4</td>\n",
       "      <td>F3</td>\n",
       "      <td>-757.830</td>\n",
       "      <td>2.010</td>\n",
       "      <td>25.881</td>\n",
       "      <td>E04F3</td>\n",
       "    </tr>\n",
       "    <tr>\n",
       "      <th>100</th>\n",
       "      <td>E</td>\n",
       "      <td>4</td>\n",
       "      <td>F4</td>\n",
       "      <td>-758.511</td>\n",
       "      <td>1.979</td>\n",
       "      <td>23.215</td>\n",
       "      <td>E04F4</td>\n",
       "    </tr>\n",
       "    <tr>\n",
       "      <th>101</th>\n",
       "      <td>E</td>\n",
       "      <td>4</td>\n",
       "      <td>F5</td>\n",
       "      <td>-773.634</td>\n",
       "      <td>2.070</td>\n",
       "      <td>23.192</td>\n",
       "      <td>E04F5</td>\n",
       "    </tr>\n",
       "    <tr>\n",
       "      <th>102</th>\n",
       "      <td>E</td>\n",
       "      <td>4</td>\n",
       "      <td>H1</td>\n",
       "      <td>-768.402</td>\n",
       "      <td>1.974</td>\n",
       "      <td>28.097</td>\n",
       "      <td>E04H1</td>\n",
       "    </tr>\n",
       "    <tr>\n",
       "      <th>103</th>\n",
       "      <td>E</td>\n",
       "      <td>4</td>\n",
       "      <td>H2</td>\n",
       "      <td>-766.264</td>\n",
       "      <td>1.971</td>\n",
       "      <td>27.180</td>\n",
       "      <td>E04H2</td>\n",
       "    </tr>\n",
       "    <tr>\n",
       "      <th>104</th>\n",
       "      <td>E</td>\n",
       "      <td>4</td>\n",
       "      <td>H3</td>\n",
       "      <td>-766.192</td>\n",
       "      <td>2.035</td>\n",
       "      <td>25.499</td>\n",
       "      <td>E04H3</td>\n",
       "    </tr>\n",
       "    <tr>\n",
       "      <th>105</th>\n",
       "      <td>E</td>\n",
       "      <td>4</td>\n",
       "      <td>H4</td>\n",
       "      <td>-767.785</td>\n",
       "      <td>2.005</td>\n",
       "      <td>24.311</td>\n",
       "      <td>E04H4</td>\n",
       "    </tr>\n",
       "    <tr>\n",
       "      <th>106</th>\n",
       "      <td>E</td>\n",
       "      <td>4</td>\n",
       "      <td>H5</td>\n",
       "      <td>-770.727</td>\n",
       "      <td>1.976</td>\n",
       "      <td>25.623</td>\n",
       "      <td>E04H5</td>\n",
       "    </tr>\n",
       "    <tr>\n",
       "      <th>107</th>\n",
       "      <td>E</td>\n",
       "      <td>4</td>\n",
       "      <td>H6</td>\n",
       "      <td>-770.823</td>\n",
       "      <td>2.022</td>\n",
       "      <td>27.239</td>\n",
       "      <td>E04H6</td>\n",
       "    </tr>\n",
       "    <tr>\n",
       "      <th>146</th>\n",
       "      <td>E</td>\n",
       "      <td>6</td>\n",
       "      <td>H1</td>\n",
       "      <td>-570.722</td>\n",
       "      <td>2.052</td>\n",
       "      <td>28.097</td>\n",
       "      <td>E06H1</td>\n",
       "    </tr>\n",
       "    <tr>\n",
       "      <th>147</th>\n",
       "      <td>E</td>\n",
       "      <td>6</td>\n",
       "      <td>H2</td>\n",
       "      <td>-568.584</td>\n",
       "      <td>1.974</td>\n",
       "      <td>27.180</td>\n",
       "      <td>E06H2</td>\n",
       "    </tr>\n",
       "    <tr>\n",
       "      <th>148</th>\n",
       "      <td>E</td>\n",
       "      <td>6</td>\n",
       "      <td>H3</td>\n",
       "      <td>-568.512</td>\n",
       "      <td>2.049</td>\n",
       "      <td>25.499</td>\n",
       "      <td>E06H3</td>\n",
       "    </tr>\n",
       "    <tr>\n",
       "      <th>149</th>\n",
       "      <td>E</td>\n",
       "      <td>6</td>\n",
       "      <td>H4</td>\n",
       "      <td>-570.105</td>\n",
       "      <td>2.012</td>\n",
       "      <td>24.311</td>\n",
       "      <td>E06H4</td>\n",
       "    </tr>\n",
       "    <tr>\n",
       "      <th>150</th>\n",
       "      <td>E</td>\n",
       "      <td>6</td>\n",
       "      <td>H5</td>\n",
       "      <td>-573.047</td>\n",
       "      <td>1.979</td>\n",
       "      <td>25.623</td>\n",
       "      <td>E06H5</td>\n",
       "    </tr>\n",
       "    <tr>\n",
       "      <th>151</th>\n",
       "      <td>E</td>\n",
       "      <td>6</td>\n",
       "      <td>H6</td>\n",
       "      <td>-573.143</td>\n",
       "      <td>2.053</td>\n",
       "      <td>27.239</td>\n",
       "      <td>E06H6</td>\n",
       "    </tr>\n",
       "    <tr>\n",
       "      <th>191</th>\n",
       "      <td>E</td>\n",
       "      <td>8</td>\n",
       "      <td>F1</td>\n",
       "      <td>-381.358</td>\n",
       "      <td>1.981</td>\n",
       "      <td>28.019</td>\n",
       "      <td>E08F1</td>\n",
       "    </tr>\n",
       "    <tr>\n",
       "      <th>192</th>\n",
       "      <td>E</td>\n",
       "      <td>8</td>\n",
       "      <td>F2</td>\n",
       "      <td>-374.120</td>\n",
       "      <td>1.988</td>\n",
       "      <td>28.030</td>\n",
       "      <td>E08F2</td>\n",
       "    </tr>\n",
       "    <tr>\n",
       "      <th>193</th>\n",
       "      <td>E</td>\n",
       "      <td>8</td>\n",
       "      <td>H1</td>\n",
       "      <td>-375.702</td>\n",
       "      <td>1.983</td>\n",
       "      <td>28.097</td>\n",
       "      <td>E08H1</td>\n",
       "    </tr>\n",
       "    <tr>\n",
       "      <th>194</th>\n",
       "      <td>E</td>\n",
       "      <td>8</td>\n",
       "      <td>H2</td>\n",
       "      <td>-373.564</td>\n",
       "      <td>1.977</td>\n",
       "      <td>27.180</td>\n",
       "      <td>E08H2</td>\n",
       "    </tr>\n",
       "    <tr>\n",
       "      <th>195</th>\n",
       "      <td>E</td>\n",
       "      <td>8</td>\n",
       "      <td>H3</td>\n",
       "      <td>-373.492</td>\n",
       "      <td>2.036</td>\n",
       "      <td>25.499</td>\n",
       "      <td>E08H3</td>\n",
       "    </tr>\n",
       "    <tr>\n",
       "      <th>196</th>\n",
       "      <td>E</td>\n",
       "      <td>8</td>\n",
       "      <td>H4</td>\n",
       "      <td>-375.085</td>\n",
       "      <td>2.016</td>\n",
       "      <td>24.311</td>\n",
       "      <td>E08H4</td>\n",
       "    </tr>\n",
       "    <tr>\n",
       "      <th>197</th>\n",
       "      <td>E</td>\n",
       "      <td>8</td>\n",
       "      <td>H5</td>\n",
       "      <td>-378.027</td>\n",
       "      <td>1.984</td>\n",
       "      <td>25.623</td>\n",
       "      <td>E08H5</td>\n",
       "    </tr>\n",
       "    <tr>\n",
       "      <th>198</th>\n",
       "      <td>E</td>\n",
       "      <td>8</td>\n",
       "      <td>H6</td>\n",
       "      <td>-378.123</td>\n",
       "      <td>2.037</td>\n",
       "      <td>27.239</td>\n",
       "      <td>E08H6</td>\n",
       "    </tr>\n",
       "    <tr>\n",
       "      <th>238</th>\n",
       "      <td>E</td>\n",
       "      <td>10</td>\n",
       "      <td>F1</td>\n",
       "      <td>-187.858</td>\n",
       "      <td>1.985</td>\n",
       "      <td>28.019</td>\n",
       "      <td>E010F1</td>\n",
       "    </tr>\n",
       "    <tr>\n",
       "      <th>239</th>\n",
       "      <td>E</td>\n",
       "      <td>10</td>\n",
       "      <td>F2</td>\n",
       "      <td>-180.620</td>\n",
       "      <td>1.994</td>\n",
       "      <td>28.030</td>\n",
       "      <td>E010F2</td>\n",
       "    </tr>\n",
       "    <tr>\n",
       "      <th>240</th>\n",
       "      <td>E</td>\n",
       "      <td>10</td>\n",
       "      <td>F5</td>\n",
       "      <td>-187.434</td>\n",
       "      <td>2.089</td>\n",
       "      <td>23.192</td>\n",
       "      <td>E010F5</td>\n",
       "    </tr>\n",
       "    <tr>\n",
       "      <th>241</th>\n",
       "      <td>E</td>\n",
       "      <td>10</td>\n",
       "      <td>H1</td>\n",
       "      <td>-182.202</td>\n",
       "      <td>1.992</td>\n",
       "      <td>28.097</td>\n",
       "      <td>E010H1</td>\n",
       "    </tr>\n",
       "    <tr>\n",
       "      <th>242</th>\n",
       "      <td>E</td>\n",
       "      <td>10</td>\n",
       "      <td>H2</td>\n",
       "      <td>-180.064</td>\n",
       "      <td>1.989</td>\n",
       "      <td>27.180</td>\n",
       "      <td>E010H2</td>\n",
       "    </tr>\n",
       "    <tr>\n",
       "      <th>243</th>\n",
       "      <td>E</td>\n",
       "      <td>10</td>\n",
       "      <td>H3</td>\n",
       "      <td>-179.992</td>\n",
       "      <td>2.053</td>\n",
       "      <td>25.499</td>\n",
       "      <td>E010H3</td>\n",
       "    </tr>\n",
       "    <tr>\n",
       "      <th>244</th>\n",
       "      <td>E</td>\n",
       "      <td>10</td>\n",
       "      <td>H4</td>\n",
       "      <td>-181.585</td>\n",
       "      <td>2.025</td>\n",
       "      <td>24.311</td>\n",
       "      <td>E010H4</td>\n",
       "    </tr>\n",
       "    <tr>\n",
       "      <th>245</th>\n",
       "      <td>E</td>\n",
       "      <td>10</td>\n",
       "      <td>H5</td>\n",
       "      <td>-184.527</td>\n",
       "      <td>1.985</td>\n",
       "      <td>25.623</td>\n",
       "      <td>E010H5</td>\n",
       "    </tr>\n",
       "    <tr>\n",
       "      <th>246</th>\n",
       "      <td>E</td>\n",
       "      <td>10</td>\n",
       "      <td>H6</td>\n",
       "      <td>-184.623</td>\n",
       "      <td>2.052</td>\n",
       "      <td>27.239</td>\n",
       "      <td>E010H6</td>\n",
       "    </tr>\n",
       "  </tbody>\n",
       "</table>\n",
       "</div>"
      ],
      "text/plain": [
       "    letter  module face        x      y       z   point\n",
       "43       E       2   F1 -973.108  1.968  28.019   E02F1\n",
       "44       E       2   F2 -965.870  1.964  28.030   E02F2\n",
       "45       E       2   F3 -956.880  2.045  25.881   E02F3\n",
       "46       E       2   F4 -957.561  2.062  23.215   E02F4\n",
       "47       E       2   F5 -972.684  2.060  23.192   E02F5\n",
       "48       E       2   H1 -967.452  2.038  28.097   E02H1\n",
       "49       E       2   H2 -965.314  1.965  27.180   E02H2\n",
       "50       E       2   H3 -965.242  2.046  25.499   E02H3\n",
       "51       E       2   H4 -966.835  2.002  24.311   E02H4\n",
       "52       E       2   H5 -969.777  1.964  25.623   E02H5\n",
       "53       E       2   H6 -969.873  2.039  27.239   E02H6\n",
       "97       E       4   F1 -774.058  1.977  28.019   E04F1\n",
       "98       E       4   F2 -766.820  1.973  28.030   E04F2\n",
       "99       E       4   F3 -757.830  2.010  25.881   E04F3\n",
       "100      E       4   F4 -758.511  1.979  23.215   E04F4\n",
       "101      E       4   F5 -773.634  2.070  23.192   E04F5\n",
       "102      E       4   H1 -768.402  1.974  28.097   E04H1\n",
       "103      E       4   H2 -766.264  1.971  27.180   E04H2\n",
       "104      E       4   H3 -766.192  2.035  25.499   E04H3\n",
       "105      E       4   H4 -767.785  2.005  24.311   E04H4\n",
       "106      E       4   H5 -770.727  1.976  25.623   E04H5\n",
       "107      E       4   H6 -770.823  2.022  27.239   E04H6\n",
       "146      E       6   H1 -570.722  2.052  28.097   E06H1\n",
       "147      E       6   H2 -568.584  1.974  27.180   E06H2\n",
       "148      E       6   H3 -568.512  2.049  25.499   E06H3\n",
       "149      E       6   H4 -570.105  2.012  24.311   E06H4\n",
       "150      E       6   H5 -573.047  1.979  25.623   E06H5\n",
       "151      E       6   H6 -573.143  2.053  27.239   E06H6\n",
       "191      E       8   F1 -381.358  1.981  28.019   E08F1\n",
       "192      E       8   F2 -374.120  1.988  28.030   E08F2\n",
       "193      E       8   H1 -375.702  1.983  28.097   E08H1\n",
       "194      E       8   H2 -373.564  1.977  27.180   E08H2\n",
       "195      E       8   H3 -373.492  2.036  25.499   E08H3\n",
       "196      E       8   H4 -375.085  2.016  24.311   E08H4\n",
       "197      E       8   H5 -378.027  1.984  25.623   E08H5\n",
       "198      E       8   H6 -378.123  2.037  27.239   E08H6\n",
       "238      E      10   F1 -187.858  1.985  28.019  E010F1\n",
       "239      E      10   F2 -180.620  1.994  28.030  E010F2\n",
       "240      E      10   F5 -187.434  2.089  23.192  E010F5\n",
       "241      E      10   H1 -182.202  1.992  28.097  E010H1\n",
       "242      E      10   H2 -180.064  1.989  27.180  E010H2\n",
       "243      E      10   H3 -179.992  2.053  25.499  E010H3\n",
       "244      E      10   H4 -181.585  2.025  24.311  E010H4\n",
       "245      E      10   H5 -184.527  1.985  25.623  E010H5\n",
       "246      E      10   H6 -184.623  2.052  27.239  E010H6"
      ]
     },
     "execution_count": 200,
     "metadata": {},
     "output_type": "execute_result"
    }
   ],
   "source": [
    "#dfp[dfp[\"face\"].str.startswith('E')]\n",
    "dfp[dfp[\"letter\"].str.match('E')]"
   ]
  },
  {
   "cell_type": "code",
   "execution_count": 173,
   "id": "going-klein",
   "metadata": {},
   "outputs": [
    {
     "data": {
      "text/plain": [
       "0.03618288680494066"
      ]
     },
     "execution_count": 173,
     "metadata": {},
     "output_type": "execute_result"
    }
   ],
   "source": [
    "#(dfp[(dfp[\"face\"].str.startswith('H'))&(dfp[\"letter\"].str.match('B'))][\"y\"])\n",
    "(dfp[(dfp[\"y\"]<4)&(dfp[\"face\"].str.startswith('H'))][\"y\"]).std()"
   ]
  },
  {
   "cell_type": "code",
   "execution_count": 174,
   "id": "finite-grant",
   "metadata": {},
   "outputs": [
    {
     "data": {
      "text/plain": [
       "<matplotlib.legend.Legend at 0x149348a30>"
      ]
     },
     "execution_count": 174,
     "metadata": {},
     "output_type": "execute_result"
    },
    {
     "data": {
      "image/png": "[encoded data removed]",
      "text/plain": [
       "<Figure size 432x288 with 1 Axes>"
      ]
     },
     "metadata": {
      "needs_background": "light"
     },
     "output_type": "display_data"
    }
   ],
   "source": [
    "y = (dfp[(dfp[\"face\"].str.startswith('H'))&(dfp[\"letter\"].str.match('B'))][\"x\"])\n",
    "x = abs(dfp[(dfp[\"face\"].str.startswith('H'))&(dfp[\"letter\"].str.match('B'))][\"y\"])\n",
    "ax = plt.plot(y,x,linestyle = 'None', marker='o',label=\"B inserts\",markersize=3)\n",
    "y = (dfp[(dfp[\"face\"].str.startswith('H'))&(dfp[\"letter\"].str.match('A'))][\"x\"])\n",
    "x = abs(dfp[(dfp[\"face\"].str.startswith('H'))&(dfp[\"letter\"].str.match('A'))][\"y\"])\n",
    "ax = plt.plot(y,x,linestyle = 'None', marker='o',label=\"A inserts\",markersize=3)\n",
    "#y = abs(dfp[(dfp[\"face\"].str.startswith('H'))&(dfp[\"letter\"].str.match('C'))][\"y\"])\n",
    "#x= abs(dfp[(dfp[\"face\"].str.startswith('H'))&(dfp[\"letter\"].str.match('C'))][\"z\"])\n",
    "#ax = plt.plot(x,y,linestyle = 'None', marker='s',label=\"C inserts\")\n",
    "plt.legend()"
   ]
  },
  {
   "cell_type": "code",
   "execution_count": 175,
   "id": "reported-parker",
   "metadata": {},
   "outputs": [
    {
     "data": {
      "text/plain": [
       "<matplotlib.legend.Legend at 0x1495584f0>"
      ]
     },
     "execution_count": 175,
     "metadata": {},
     "output_type": "execute_result"
    },
    {
     "data": {
      "image/png": "[encoded data removed]",
      "text/plain": [
       "<Figure size 432x288 with 1 Axes>"
      ]
     },
     "metadata": {
      "needs_background": "light"
     },
     "output_type": "display_data"
    }
   ],
   "source": [
    "x = (dfp[(dfp[\"module\"]==10)&(dfp[\"face\"].str.startswith('H'))&(dfp[\"letter\"].str.match('D'))][\"x\"])\n",
    "y = abs(dfp[(dfp[\"module\"]==10)&(dfp[\"face\"].str.startswith('H'))&(dfp[\"letter\"].str.match('D'))][\"y\"])\n",
    "ax = plt.plot(x,y,linestyle = 'None', marker='o',label=\"module 10\",markersize=3)\n",
    "plt.xlabel(\"x\")\n",
    "plt.ylabel(\"y\")\n",
    "#x = (dfp[(dfp[\"module\"]==2)&(dfp[\"face\"].str.startswith('H'))&(dfp[\"letter\"].str.match('D'))][\"x\"]+780)\n",
    "#y = abs(dfp[(dfp[\"module\"]==2)&(dfp[\"face\"].str.startswith('H'))&(dfp[\"letter\"].str.match('D'))][\"y\"])\n",
    "#ax = plt.plot(x,y,linestyle = 'None', marker='o',label=\"module 2\",markersize=3)\n",
    "#y = (dfp[(dfp[\"module\"]==10)&(dfp[\"face\"].str.startswith('H'))&(dfp[\"letter\"].str.match('E'))][\"y\"])\n",
    "#x = abs(dfp[(dfp[\"module\"]==10)&(dfp[\"face\"].str.startswith('H'))&(dfp[\"letter\"].str.match('E'))][\"x\"])\n",
    "#ax = plt.plot(x,y,linestyle = 'None', marker='o',label=\"E inserts\",markersize=3)\n",
    "plt.legend()"
   ]
  },
  {
   "cell_type": "code",
   "execution_count": 176,
   "id": "instrumental-opening",
   "metadata": {},
   "outputs": [
    {
     "data": {
      "text/plain": [
       "<matplotlib.legend.Legend at 0x14c016970>"
      ]
     },
     "execution_count": 176,
     "metadata": {},
     "output_type": "execute_result"
    },
    {
     "data": {
      "image/png": "[encoded data removed]",
      "text/plain": [
       "<Figure size 432x288 with 1 Axes>"
      ]
     },
     "metadata": {
      "needs_background": "light"
     },
     "output_type": "display_data"
    }
   ],
   "source": [
    "x = (dfp[(dfp[\"module\"]==10)&(dfp[\"face\"].str.startswith('H'))&(dfp[\"letter\"].str.match('D'))][\"x\"])\n",
    "y = abs(dfp[(dfp[\"module\"]==10)&(dfp[\"face\"].str.startswith('H'))&(dfp[\"letter\"].str.match('D'))][\"z\"])\n",
    "ax = plt.plot(x,y,linestyle = 'None', marker='o',label=\"module 10\",markersize=3)\n",
    "plt.xlabel(\"x\")\n",
    "plt.ylabel(\"z\")\n",
    "#x = (dfp[(dfp[\"module\"]==2)&(dfp[\"face\"].str.startswith('H'))&(dfp[\"letter\"].str.match('D'))][\"x\"]+780)\n",
    "#y = abs(dfp[(dfp[\"module\"]==2)&(dfp[\"face\"].str.startswith('H'))&(dfp[\"letter\"].str.match('D'))][\"y\"])\n",
    "#ax = plt.plot(x,y,linestyle = 'None', marker='o',label=\"module 2\",markersize=3)\n",
    "#y = (dfp[(dfp[\"module\"]==10)&(dfp[\"face\"].str.startswith('H'))&(dfp[\"letter\"].str.match('E'))][\"y\"])\n",
    "#x = abs(dfp[(dfp[\"module\"]==10)&(dfp[\"face\"].str.startswith('H'))&(dfp[\"letter\"].str.match('E'))][\"x\"])\n",
    "#ax = plt.plot(x,y,linestyle = 'None', marker='o',label=\"E inserts\",markersize=3)\n",
    "plt.legend()"
   ]
  },
  {
   "cell_type": "code",
   "execution_count": 177,
   "id": "mobile-gnome",
   "metadata": {},
   "outputs": [
    {
     "name": "stdout",
     "output_type": "stream",
     "text": [
      "module 2 angle -1.2618847833659976\n",
      "module 4 angle 0.0029861052621783825\n",
      "module 6 angle -0.010300548305408325\n",
      "module 8 angle 0.059967271820849925\n",
      "module 10 angle -0.10217097916022518\n"
     ]
    },
    {
     "data": {
      "text/plain": [
       "<matplotlib.legend.Legend at 0x14c13ed90>"
      ]
     },
     "execution_count": 177,
     "metadata": {},
     "output_type": "execute_result"
    },
    {
     "data": {
      "image/png": "[encoded data removed]",
      "text/plain": [
       "<Figure size 432x288 with 1 Axes>"
      ]
     },
     "metadata": {
      "needs_background": "light"
     },
     "output_type": "display_data"
    }
   ],
   "source": [
    "from scipy.optimize import curve_fit\n",
    "import math as m\n",
    "import numpy as np\n",
    "\n",
    "def f(x, a, b):\n",
    "    return a + b*x\n",
    "\n",
    "def GetAngle(x, y):\n",
    "    pars, cov_pars = curve_fit(f, x, y)\n",
    "    return m.degrees(m.asin(pars[1]))\n",
    "\n",
    "def ViewInsert(xaxis,yaxis,module,insert,face,fit=True):\n",
    "    x = (dfp[(dfp[\"module\"]==module)&(dfp[\"face\"].str.startswith(face))&(dfp[\"letter\"].str.match(insert))][xaxis])\n",
    "    y = abs(dfp[(dfp[\"module\"]==module)&(dfp[\"face\"].str.startswith(face))&(dfp[\"letter\"].str.match(insert))][yaxis])\n",
    "    ax = plt.plot(x,y,linestyle = 'None', marker='o',label=\"module \"+str(module),markersize=3)\n",
    "    plt.xlabel(xaxis)\n",
    "    plt.ylabel(yaxis)\n",
    "    if fit:\n",
    "        angle = GetAngle(x,y)\n",
    "        print(\"module\",module,\"angle\",angle)\n",
    "    \n",
    "for module in range(2,11,2):\n",
    "    ViewInsert(\"z\",\"y\",module,\"D\",\"H\")    \n",
    "\n",
    "\n",
    "plt.legend()"
   ]
  },
  {
   "cell_type": "code",
   "execution_count": 178,
   "id": "solid-princess",
   "metadata": {},
   "outputs": [
    {
     "name": "stdout",
     "output_type": "stream",
     "text": [
      "module 2 angle -1.2618847833659976\n",
      "module 4 angle 0.0029861052621783825\n",
      "module 6 angle -0.010300548305408325\n",
      "module 8 angle 0.059967271820849925\n",
      "module 10 angle -0.10217097916022518\n"
     ]
    },
    {
     "data": {
      "text/plain": [
       "<matplotlib.legend.Legend at 0x14c0f4400>"
      ]
     },
     "execution_count": 178,
     "metadata": {},
     "output_type": "execute_result"
    },
    {
     "data": {
      "image/png": "[encoded data removed]",
      "text/plain": [
       "<Figure size 432x288 with 1 Axes>"
      ]
     },
     "metadata": {
      "needs_background": "light"
     },
     "output_type": "display_data"
    }
   ],
   "source": [
    "#for module in range(1,10,2):\n",
    "for module in range(2,11,2):\n",
    "\n",
    "    ViewInsert(\"z\",\"y\",module,\"D\",\"H\")    \n",
    "\n",
    "\n",
    "plt.legend()"
   ]
  },
  {
   "cell_type": "code",
   "execution_count": 179,
   "id": "focal-treasure",
   "metadata": {},
   "outputs": [
    {
     "name": "stdout",
     "output_type": "stream",
     "text": [
      "module 2 angle 0.16090572530664668\n",
      "module 2 angle 0.16076152774069735\n",
      "module 2 angle -0.30935133854576014\n",
      "module 2 angle -1.2618847833659976\n",
      "module 2 angle 0.3246819844870001\n",
      "module 4 angle 0.08446688616017133\n",
      "module 4 angle 0.13637968952124663\n",
      "module 4 angle -0.2381853684927319\n",
      "module 4 angle 0.0029861052621783825\n",
      "module 4 angle -0.4202732903165727\n",
      "module 6 angle 0.09815172308398418\n",
      "module 6 angle 0.24583766403949595\n",
      "module 6 angle -0.3163662780147508\n",
      "module 6 angle -0.010300548305408325\n",
      "module 6 angle 0.3948016755301384\n",
      "module 8 angle -1.368279573581772\n",
      "module 8 angle 0.325870507497309\n",
      "module 8 angle 0.6955671525110345\n",
      "module 8 angle 0.059967271820849925\n",
      "module 8 angle -0.3845251106818454\n",
      "module 10 angle -1.1186094410379306\n",
      "module 10 angle -0.051056466228782696\n",
      "module 10 angle 0.4151821864093897\n",
      "module 10 angle -0.10217097916022518\n",
      "module 10 angle -0.34382839665874226\n"
     ]
    },
    {
     "data": {
      "image/png": "[encoded data removed]",
      "text/plain": [
       "<Figure size 432x288 with 1 Axes>"
      ]
     },
     "metadata": {
      "needs_background": "light"
     },
     "output_type": "display_data"
    }
   ],
   "source": [
    "for module in range(2,11,2):\n",
    "    ViewInsert(\"z\",\"y\",module,\"A\",\"H\")   \n",
    "    ViewInsert(\"z\",\"y\",module,\"B\",\"H\")\n",
    "    ViewInsert(\"z\",\"y\",module,\"C\",\"H\")\n",
    "    ViewInsert(\"z\",\"y\",module,\"D\",\"H\")\n",
    "    ViewInsert(\"z\",\"y\",module,\"E\",\"H\")\n",
    "\n",
    "#plt.legend()"
   ]
  },
  {
   "cell_type": "code",
   "execution_count": 180,
   "id": "hungry-simpson",
   "metadata": {},
   "outputs": [
    {
     "data": {
      "image/png": "[encoded data removed]",
      "text/plain": [
       "<Figure size 432x288 with 1 Axes>"
      ]
     },
     "metadata": {
      "needs_background": "light"
     },
     "output_type": "display_data"
    }
   ],
   "source": [
    "for module in range(2,11,2):\n",
    "    ViewInsert(\"x\",\"y\",module,\"D\",\"H1\",fit=False)  \n",
    "    ViewInsert(\"x\",\"y\",module,\"E\",\"H1\",fit=False)  "
   ]
  },
  {
   "cell_type": "code",
   "execution_count": 181,
   "id": "underlying-cancer",
   "metadata": {},
   "outputs": [
    {
     "name": "stdout",
     "output_type": "stream",
     "text": [
      "module 10 angle 0.0008408292893045923\n",
      "module 10 angle 0.0011664570267264096\n",
      "module 10 angle 0.002523613252768133\n"
     ]
    },
    {
     "data": {
      "text/plain": [
       "<matplotlib.legend.Legend at 0x14c219640>"
      ]
     },
     "execution_count": 181,
     "metadata": {},
     "output_type": "execute_result"
    },
    {
     "data": {
      "image/png": "[encoded data removed]",
      "text/plain": [
       "<Figure size 432x288 with 1 Axes>"
      ]
     },
     "metadata": {
      "needs_background": "light"
     },
     "output_type": "display_data"
    }
   ],
   "source": [
    "def ViewInsert2(xaxis,yaxis,moduleType,insert,face,label,fit=True):\n",
    "    x = (dfp[(dfp[\"module\"]%2==moduleType)&(dfp[\"face\"].str.startswith(face))&(dfp[\"letter\"].str.match(insert))][xaxis])\n",
    "    y = abs(dfp[(dfp[\"module\"]%2==moduleType)&(dfp[\"face\"].str.startswith(face))&(dfp[\"letter\"].str.match(insert))][yaxis])\n",
    "    ax = plt.plot(x,y,linestyle = 'None', marker='o',label=label,markersize=3)\n",
    "    plt.xlabel(xaxis)\n",
    "    plt.ylabel(yaxis)\n",
    "    if fit:\n",
    "        angle = GetAngle(x,y)\n",
    "        print(\"module\",module,\"angle\",angle)\n",
    "\n",
    "\n",
    "ViewInsert2(\"x\",\"y\",0,\"A\",\"H1\",\"A\",fit=True)  \n",
    "ViewInsert2(\"x\",\"y\",0,\"B\",\"H1\",\"B\",fit=True)  \n",
    "ViewInsert2(\"x\",\"y\",0,\"C\",\"H1\",\"C\",fit=True)  \n",
    "plt.legend()"
   ]
  },
  {
   "cell_type": "code",
   "execution_count": 182,
   "id": "formed-contents",
   "metadata": {},
   "outputs": [
    {
     "name": "stdout",
     "output_type": "stream",
     "text": [
      "module 10 angle 0.001254649417498019\n",
      "module 10 angle -0.002419319167835356\n"
     ]
    },
    {
     "data": {
      "text/plain": [
       "<matplotlib.legend.Legend at 0x14c39ffa0>"
      ]
     },
     "execution_count": 182,
     "metadata": {},
     "output_type": "execute_result"
    },
    {
     "data": {
      "image/png": "[encoded data removed]",
      "text/plain": [
       "<Figure size 432x288 with 1 Axes>"
      ]
     },
     "metadata": {
      "needs_background": "light"
     },
     "output_type": "display_data"
    }
   ],
   "source": [
    "ViewInsert2(\"x\",\"y\",0,\"D\",\"H1\",\"D\",fit=True)  \n",
    "ViewInsert2(\"x\",\"y\",0,\"E\",\"H1\",\"E\",fit=True)  \n",
    "plt.legend()"
   ]
  },
  {
   "cell_type": "code",
   "execution_count": 183,
   "id": "romance-airport",
   "metadata": {},
   "outputs": [
    {
     "data": {
      "image/png": "[encoded data removed]",
      "text/plain": [
       "<Figure size 432x288 with 1 Axes>"
      ]
     },
     "metadata": {
      "needs_background": "light"
     },
     "output_type": "display_data"
    }
   ],
   "source": [
    "for module in range(1,11,2):\n",
    "    ViewInsert(\"x\",\"y\",module,\"D\",\"H1\",fit=False) "
   ]
  },
  {
   "cell_type": "code",
   "execution_count": 184,
   "id": "average-twelve",
   "metadata": {},
   "outputs": [
    {
     "data": {
      "text/plain": [
       "<matplotlib.legend.Legend at 0x14c087e20>"
      ]
     },
     "execution_count": 184,
     "metadata": {},
     "output_type": "execute_result"
    },
    {
     "data": {
      "image/png": "[encoded data removed]",
      "text/plain": [
       "<Figure size 432x288 with 1 Axes>"
      ]
     },
     "metadata": {
      "needs_background": "light"
     },
     "output_type": "display_data"
    }
   ],
   "source": [
    "y = (dfp[(dfp[\"face\"].str.startswith('H'))&(dfp[\"letter\"].str.match('B'))][\"y\"])\n",
    "x = abs(dfp[(dfp[\"face\"].str.startswith('H'))&(dfp[\"letter\"].str.match('B'))][\"z\"])\n",
    "ax = plt.plot(x,y,linestyle = 'None', marker='o',label=\"B inserts\",markersize=3)\n",
    "y = (dfp[(dfp[\"face\"].str.startswith('H'))&(dfp[\"letter\"].str.match('A'))][\"y\"])\n",
    "x = abs(dfp[(dfp[\"face\"].str.startswith('H'))&(dfp[\"letter\"].str.match('A'))][\"z\"])\n",
    "ax = plt.plot(x,y,linestyle = 'None', marker='o',label=\"A inserts\",markersize=3)\n",
    "#y = abs(dfp[(dfp[\"face\"].str.startswith('H'))&(dfp[\"letter\"].str.match('C'))][\"y\"])\n",
    "#x= abs(dfp[(dfp[\"face\"].str.startswith('H'))&(dfp[\"letter\"].str.match('C'))][\"z\"])\n",
    "#ax = plt.plot(x,y,linestyle = 'None', marker='s',label=\"C inserts\")\n",
    "plt.legend()"
   ]
  },
  {
   "cell_type": "code",
   "execution_count": 185,
   "id": "quiet-relay",
   "metadata": {},
   "outputs": [
    {
     "data": {
      "text/html": [
       "<div>\n",
       "<style scoped>\n",
       "    .dataframe tbody tr th:only-of-type {\n",
       "        vertical-align: middle;\n",
       "    }\n",
       "\n",
       "    .dataframe tbody tr th {\n",
       "        vertical-align: top;\n",
       "    }\n",
       "\n",
       "    .dataframe thead th {\n",
       "        text-align: right;\n",
       "    }\n",
       "</style>\n",
       "<table border=\"1\" class=\"dataframe\">\n",
       "  <thead>\n",
       "    <tr style=\"text-align: right;\">\n",
       "      <th></th>\n",
       "      <th>letter</th>\n",
       "      <th>module</th>\n",
       "      <th>face</th>\n",
       "      <th>x</th>\n",
       "      <th>y</th>\n",
       "      <th>z</th>\n",
       "    </tr>\n",
       "  </thead>\n",
       "  <tbody>\n",
       "  </tbody>\n",
       "</table>\n",
       "</div>"
      ],
      "text/plain": [
       "Empty DataFrame\n",
       "Columns: [letter, module, face, x, y, z]\n",
       "Index: []"
      ]
     },
     "execution_count": 185,
     "metadata": {},
     "output_type": "execute_result"
    }
   ],
   "source": [
    "dfp[(dfp[\"face\"].str.startswith('H'))&(dfp[\"letter\"].str.match('B'))&(dfp['y']<1)]\n"
   ]
  },
  {
   "cell_type": "code",
   "execution_count": 186,
   "id": "white-shower",
   "metadata": {},
   "outputs": [
    {
     "data": {
      "text/plain": [
       "<matplotlib.legend.Legend at 0x14c4cef70>"
      ]
     },
     "execution_count": 186,
     "metadata": {},
     "output_type": "execute_result"
    },
    {
     "data": {
      "image/png": "[encoded data removed]",
      "text/plain": [
       "<Figure size 432x288 with 1 Axes>"
      ]
     },
     "metadata": {
      "needs_background": "light"
     },
     "output_type": "display_data"
    }
   ],
   "source": [
    "y = (dfp[(dfp[\"face\"].str.startswith('H'))&(dfp[\"letter\"].str.match('D'))][\"y\"])\n",
    "x = abs(dfp[(dfp[\"face\"].str.startswith('H'))&(dfp[\"letter\"].str.match('D'))][\"z\"])\n",
    "ax = plt.plot(x,y,linestyle = 'None', marker='o',label=\"D inserts\",markersize=3)\n",
    "y = (dfp[(dfp[\"face\"].str.startswith('H'))&(dfp[\"letter\"].str.match('E'))][\"y\"])\n",
    "x = abs(dfp[(dfp[\"face\"].str.startswith('H'))&(dfp[\"letter\"].str.match('E'))][\"z\"])\n",
    "ax = plt.plot(x,y,linestyle = 'None', marker='o',label=\"E inserts\",markersize=3)\n",
    "plt.legend()"
   ]
  },
  {
   "cell_type": "code",
   "execution_count": 187,
   "id": "legislative-booking",
   "metadata": {},
   "outputs": [
    {
     "data": {
      "text/html": [
       "<div>\n",
       "<style scoped>\n",
       "    .dataframe tbody tr th:only-of-type {\n",
       "        vertical-align: middle;\n",
       "    }\n",
       "\n",
       "    .dataframe tbody tr th {\n",
       "        vertical-align: top;\n",
       "    }\n",
       "\n",
       "    .dataframe thead th {\n",
       "        text-align: right;\n",
       "    }\n",
       "</style>\n",
       "<table border=\"1\" class=\"dataframe\">\n",
       "  <thead>\n",
       "    <tr style=\"text-align: right;\">\n",
       "      <th></th>\n",
       "      <th>letter</th>\n",
       "      <th>module</th>\n",
       "      <th>face</th>\n",
       "      <th>x</th>\n",
       "      <th>y</th>\n",
       "      <th>z</th>\n",
       "    </tr>\n",
       "  </thead>\n",
       "  <tbody>\n",
       "    <tr>\n",
       "      <th>48</th>\n",
       "      <td>E</td>\n",
       "      <td>2</td>\n",
       "      <td>H1</td>\n",
       "      <td>-967.452</td>\n",
       "      <td>2.038</td>\n",
       "      <td>28.097</td>\n",
       "    </tr>\n",
       "    <tr>\n",
       "      <th>49</th>\n",
       "      <td>E</td>\n",
       "      <td>2</td>\n",
       "      <td>H2</td>\n",
       "      <td>-965.314</td>\n",
       "      <td>1.965</td>\n",
       "      <td>27.180</td>\n",
       "    </tr>\n",
       "    <tr>\n",
       "      <th>50</th>\n",
       "      <td>E</td>\n",
       "      <td>2</td>\n",
       "      <td>H3</td>\n",
       "      <td>-965.242</td>\n",
       "      <td>2.046</td>\n",
       "      <td>25.499</td>\n",
       "    </tr>\n",
       "    <tr>\n",
       "      <th>51</th>\n",
       "      <td>E</td>\n",
       "      <td>2</td>\n",
       "      <td>H4</td>\n",
       "      <td>-966.835</td>\n",
       "      <td>2.002</td>\n",
       "      <td>24.311</td>\n",
       "    </tr>\n",
       "    <tr>\n",
       "      <th>52</th>\n",
       "      <td>E</td>\n",
       "      <td>2</td>\n",
       "      <td>H5</td>\n",
       "      <td>-969.777</td>\n",
       "      <td>1.964</td>\n",
       "      <td>25.623</td>\n",
       "    </tr>\n",
       "    <tr>\n",
       "      <th>53</th>\n",
       "      <td>E</td>\n",
       "      <td>2</td>\n",
       "      <td>H6</td>\n",
       "      <td>-969.873</td>\n",
       "      <td>2.039</td>\n",
       "      <td>27.239</td>\n",
       "    </tr>\n",
       "    <tr>\n",
       "      <th>102</th>\n",
       "      <td>E</td>\n",
       "      <td>4</td>\n",
       "      <td>H1</td>\n",
       "      <td>-768.402</td>\n",
       "      <td>1.974</td>\n",
       "      <td>28.097</td>\n",
       "    </tr>\n",
       "    <tr>\n",
       "      <th>103</th>\n",
       "      <td>E</td>\n",
       "      <td>4</td>\n",
       "      <td>H2</td>\n",
       "      <td>-766.264</td>\n",
       "      <td>1.971</td>\n",
       "      <td>27.180</td>\n",
       "    </tr>\n",
       "    <tr>\n",
       "      <th>104</th>\n",
       "      <td>E</td>\n",
       "      <td>4</td>\n",
       "      <td>H3</td>\n",
       "      <td>-766.192</td>\n",
       "      <td>2.035</td>\n",
       "      <td>25.499</td>\n",
       "    </tr>\n",
       "    <tr>\n",
       "      <th>105</th>\n",
       "      <td>E</td>\n",
       "      <td>4</td>\n",
       "      <td>H4</td>\n",
       "      <td>-767.785</td>\n",
       "      <td>2.005</td>\n",
       "      <td>24.311</td>\n",
       "    </tr>\n",
       "    <tr>\n",
       "      <th>106</th>\n",
       "      <td>E</td>\n",
       "      <td>4</td>\n",
       "      <td>H5</td>\n",
       "      <td>-770.727</td>\n",
       "      <td>1.976</td>\n",
       "      <td>25.623</td>\n",
       "    </tr>\n",
       "    <tr>\n",
       "      <th>107</th>\n",
       "      <td>E</td>\n",
       "      <td>4</td>\n",
       "      <td>H6</td>\n",
       "      <td>-770.823</td>\n",
       "      <td>2.022</td>\n",
       "      <td>27.239</td>\n",
       "    </tr>\n",
       "    <tr>\n",
       "      <th>146</th>\n",
       "      <td>E</td>\n",
       "      <td>6</td>\n",
       "      <td>H1</td>\n",
       "      <td>-570.722</td>\n",
       "      <td>2.052</td>\n",
       "      <td>28.097</td>\n",
       "    </tr>\n",
       "    <tr>\n",
       "      <th>147</th>\n",
       "      <td>E</td>\n",
       "      <td>6</td>\n",
       "      <td>H2</td>\n",
       "      <td>-568.584</td>\n",
       "      <td>1.974</td>\n",
       "      <td>27.180</td>\n",
       "    </tr>\n",
       "    <tr>\n",
       "      <th>148</th>\n",
       "      <td>E</td>\n",
       "      <td>6</td>\n",
       "      <td>H3</td>\n",
       "      <td>-568.512</td>\n",
       "      <td>2.049</td>\n",
       "      <td>25.499</td>\n",
       "    </tr>\n",
       "    <tr>\n",
       "      <th>149</th>\n",
       "      <td>E</td>\n",
       "      <td>6</td>\n",
       "      <td>H4</td>\n",
       "      <td>-570.105</td>\n",
       "      <td>2.012</td>\n",
       "      <td>24.311</td>\n",
       "    </tr>\n",
       "    <tr>\n",
       "      <th>150</th>\n",
       "      <td>E</td>\n",
       "      <td>6</td>\n",
       "      <td>H5</td>\n",
       "      <td>-573.047</td>\n",
       "      <td>1.979</td>\n",
       "      <td>25.623</td>\n",
       "    </tr>\n",
       "    <tr>\n",
       "      <th>151</th>\n",
       "      <td>E</td>\n",
       "      <td>6</td>\n",
       "      <td>H6</td>\n",
       "      <td>-573.143</td>\n",
       "      <td>2.053</td>\n",
       "      <td>27.239</td>\n",
       "    </tr>\n",
       "    <tr>\n",
       "      <th>193</th>\n",
       "      <td>E</td>\n",
       "      <td>8</td>\n",
       "      <td>H1</td>\n",
       "      <td>-375.702</td>\n",
       "      <td>1.983</td>\n",
       "      <td>28.097</td>\n",
       "    </tr>\n",
       "    <tr>\n",
       "      <th>194</th>\n",
       "      <td>E</td>\n",
       "      <td>8</td>\n",
       "      <td>H2</td>\n",
       "      <td>-373.564</td>\n",
       "      <td>1.977</td>\n",
       "      <td>27.180</td>\n",
       "    </tr>\n",
       "    <tr>\n",
       "      <th>195</th>\n",
       "      <td>E</td>\n",
       "      <td>8</td>\n",
       "      <td>H3</td>\n",
       "      <td>-373.492</td>\n",
       "      <td>2.036</td>\n",
       "      <td>25.499</td>\n",
       "    </tr>\n",
       "    <tr>\n",
       "      <th>196</th>\n",
       "      <td>E</td>\n",
       "      <td>8</td>\n",
       "      <td>H4</td>\n",
       "      <td>-375.085</td>\n",
       "      <td>2.016</td>\n",
       "      <td>24.311</td>\n",
       "    </tr>\n",
       "    <tr>\n",
       "      <th>197</th>\n",
       "      <td>E</td>\n",
       "      <td>8</td>\n",
       "      <td>H5</td>\n",
       "      <td>-378.027</td>\n",
       "      <td>1.984</td>\n",
       "      <td>25.623</td>\n",
       "    </tr>\n",
       "    <tr>\n",
       "      <th>198</th>\n",
       "      <td>E</td>\n",
       "      <td>8</td>\n",
       "      <td>H6</td>\n",
       "      <td>-378.123</td>\n",
       "      <td>2.037</td>\n",
       "      <td>27.239</td>\n",
       "    </tr>\n",
       "    <tr>\n",
       "      <th>241</th>\n",
       "      <td>E</td>\n",
       "      <td>10</td>\n",
       "      <td>H1</td>\n",
       "      <td>-182.202</td>\n",
       "      <td>1.992</td>\n",
       "      <td>28.097</td>\n",
       "    </tr>\n",
       "    <tr>\n",
       "      <th>242</th>\n",
       "      <td>E</td>\n",
       "      <td>10</td>\n",
       "      <td>H2</td>\n",
       "      <td>-180.064</td>\n",
       "      <td>1.989</td>\n",
       "      <td>27.180</td>\n",
       "    </tr>\n",
       "    <tr>\n",
       "      <th>243</th>\n",
       "      <td>E</td>\n",
       "      <td>10</td>\n",
       "      <td>H3</td>\n",
       "      <td>-179.992</td>\n",
       "      <td>2.053</td>\n",
       "      <td>25.499</td>\n",
       "    </tr>\n",
       "    <tr>\n",
       "      <th>244</th>\n",
       "      <td>E</td>\n",
       "      <td>10</td>\n",
       "      <td>H4</td>\n",
       "      <td>-181.585</td>\n",
       "      <td>2.025</td>\n",
       "      <td>24.311</td>\n",
       "    </tr>\n",
       "    <tr>\n",
       "      <th>245</th>\n",
       "      <td>E</td>\n",
       "      <td>10</td>\n",
       "      <td>H5</td>\n",
       "      <td>-184.527</td>\n",
       "      <td>1.985</td>\n",
       "      <td>25.623</td>\n",
       "    </tr>\n",
       "    <tr>\n",
       "      <th>246</th>\n",
       "      <td>E</td>\n",
       "      <td>10</td>\n",
       "      <td>H6</td>\n",
       "      <td>-184.623</td>\n",
       "      <td>2.052</td>\n",
       "      <td>27.239</td>\n",
       "    </tr>\n",
       "  </tbody>\n",
       "</table>\n",
       "</div>"
      ],
      "text/plain": [
       "    letter  module face        x      y       z\n",
       "48       E       2   H1 -967.452  2.038  28.097\n",
       "49       E       2   H2 -965.314  1.965  27.180\n",
       "50       E       2   H3 -965.242  2.046  25.499\n",
       "51       E       2   H4 -966.835  2.002  24.311\n",
       "52       E       2   H5 -969.777  1.964  25.623\n",
       "53       E       2   H6 -969.873  2.039  27.239\n",
       "102      E       4   H1 -768.402  1.974  28.097\n",
       "103      E       4   H2 -766.264  1.971  27.180\n",
       "104      E       4   H3 -766.192  2.035  25.499\n",
       "105      E       4   H4 -767.785  2.005  24.311\n",
       "106      E       4   H5 -770.727  1.976  25.623\n",
       "107      E       4   H6 -770.823  2.022  27.239\n",
       "146      E       6   H1 -570.722  2.052  28.097\n",
       "147      E       6   H2 -568.584  1.974  27.180\n",
       "148      E       6   H3 -568.512  2.049  25.499\n",
       "149      E       6   H4 -570.105  2.012  24.311\n",
       "150      E       6   H5 -573.047  1.979  25.623\n",
       "151      E       6   H6 -573.143  2.053  27.239\n",
       "193      E       8   H1 -375.702  1.983  28.097\n",
       "194      E       8   H2 -373.564  1.977  27.180\n",
       "195      E       8   H3 -373.492  2.036  25.499\n",
       "196      E       8   H4 -375.085  2.016  24.311\n",
       "197      E       8   H5 -378.027  1.984  25.623\n",
       "198      E       8   H6 -378.123  2.037  27.239\n",
       "241      E      10   H1 -182.202  1.992  28.097\n",
       "242      E      10   H2 -180.064  1.989  27.180\n",
       "243      E      10   H3 -179.992  2.053  25.499\n",
       "244      E      10   H4 -181.585  2.025  24.311\n",
       "245      E      10   H5 -184.527  1.985  25.623\n",
       "246      E      10   H6 -184.623  2.052  27.239"
      ]
     },
     "execution_count": 187,
     "metadata": {},
     "output_type": "execute_result"
    }
   ],
   "source": [
    "dfp[(dfp[\"face\"].str.startswith('H'))&(dfp[\"letter\"].str.match('E'))&(dfp['y']<13)]"
   ]
  },
  {
   "cell_type": "code",
   "execution_count": 188,
   "id": "afraid-addition",
   "metadata": {},
   "outputs": [
    {
     "data": {
      "text/plain": [
       "<matplotlib.legend.Legend at 0x14ac49610>"
      ]
     },
     "execution_count": 188,
     "metadata": {},
     "output_type": "execute_result"
    },
    {
     "data": {
      "image/png": "[encoded data removed]",
      "text/plain": [
       "<Figure size 432x288 with 1 Axes>"
      ]
     },
     "metadata": {
      "needs_background": "light"
     },
     "output_type": "display_data"
    }
   ],
   "source": [
    "def plot(xvar,yvar,insertlabel,facelabel):\n",
    "    y = abs(dfp[(dfp[\"face\"].str.startswith(facelabel))&(dfp[\"letter\"].str.match(insertlabel))][yvar])\n",
    "    x = abs(dfp[(dfp[\"face\"].str.startswith(facelabel))&(dfp[\"letter\"].str.match(insertlabel))][xvar])\n",
    "    plotlabel = f\"insert {insertlabel} - face {facelabel}\"\n",
    "    ax = plt.plot(x,y,linestyle = 'None', marker='o',label=plotlabel,markersize=3)\n",
    "\n",
    "#faces = [\"F\",\"H\",\"S\",\"E\"]\n",
    "faces = [\"F\",\"H\"]\n",
    "faces = [\"F\"]\n",
    "for f in faces:\n",
    "    plot(\"z\",\"y\",\"E\",f)\n",
    "plt.legend()"
   ]
  },
  {
   "cell_type": "code",
   "execution_count": 189,
   "id": "casual-paint",
   "metadata": {},
   "outputs": [
    {
     "data": {
      "text/html": [
       "<div>\n",
       "<style scoped>\n",
       "    .dataframe tbody tr th:only-of-type {\n",
       "        vertical-align: middle;\n",
       "    }\n",
       "\n",
       "    .dataframe tbody tr th {\n",
       "        vertical-align: top;\n",
       "    }\n",
       "\n",
       "    .dataframe thead th {\n",
       "        text-align: right;\n",
       "    }\n",
       "</style>\n",
       "<table border=\"1\" class=\"dataframe\">\n",
       "  <thead>\n",
       "    <tr style=\"text-align: right;\">\n",
       "      <th></th>\n",
       "      <th>letter</th>\n",
       "      <th>module</th>\n",
       "      <th>face</th>\n",
       "      <th>x</th>\n",
       "      <th>y</th>\n",
       "      <th>z</th>\n",
       "    </tr>\n",
       "  </thead>\n",
       "  <tbody>\n",
       "  </tbody>\n",
       "</table>\n",
       "</div>"
      ],
      "text/plain": [
       "Empty DataFrame\n",
       "Columns: [letter, module, face, x, y, z]\n",
       "Index: []"
      ]
     },
     "execution_count": 189,
     "metadata": {},
     "output_type": "execute_result"
    }
   ],
   "source": [
    "dfp[(dfp[\"face\"].str.startswith('F'))&(dfp[\"letter\"].str.match('C'))&(abs(dfp['y'])>13.5\n",
    "                                                                    )]"
   ]
  },
  {
   "cell_type": "code",
   "execution_count": 190,
   "id": "white-graham",
   "metadata": {},
   "outputs": [
    {
     "data": {
      "text/plain": [
       "<matplotlib.legend.Legend at 0x14c54beb0>"
      ]
     },
     "execution_count": 190,
     "metadata": {},
     "output_type": "execute_result"
    },
    {
     "data": {
      "image/png": "[encoded data removed]",
      "text/plain": [
       "<Figure size 432x288 with 1 Axes>"
      ]
     },
     "metadata": {
      "needs_background": "light"
     },
     "output_type": "display_data"
    }
   ],
   "source": [
    "y = (dfp[(dfp[\"module\"]==10)&(dfp[\"face\"].str.startswith('H'))&(dfp[\"letter\"].str.match('D'))][\"y\"])\n",
    "x = abs(dfp[(dfp[\"module\"]==10)&(dfp[\"face\"].str.startswith('H'))&(dfp[\"letter\"].str.match('D'))][\"z\"])\n",
    "ax = plt.plot(x,y,linestyle = 'None', marker='o',label=\"module 10\",markersize=3)\n",
    "y = (dfp[(dfp[\"module\"]==2)&(dfp[\"face\"].str.startswith('H'))&(dfp[\"letter\"].str.match('D'))][\"y\"])\n",
    "x = abs(dfp[(dfp[\"module\"]==2)&(dfp[\"face\"].str.startswith('H'))&(dfp[\"letter\"].str.match('D'))][\"z\"])\n",
    "ax = plt.plot(x,y,linestyle = 'None', marker='o',label=\"module 2\",markersize=3)\n",
    "#y = (dfp[(dfp[\"module\"]==10)&(dfp[\"face\"].str.startswith('H'))&(dfp[\"letter\"].str.match('E'))][\"y\"])\n",
    "#x = abs(dfp[(dfp[\"module\"]==10)&(dfp[\"face\"].str.startswith('H'))&(dfp[\"letter\"].str.match('E'))][\"x\"])\n",
    "#ax = plt.plot(x,y,linestyle = 'None', marker='o',label=\"E inserts\",markersize=3)\n",
    "plt.legend()"
   ]
  },
  {
   "cell_type": "code",
   "execution_count": 191,
   "id": "fabulous-damages",
   "metadata": {},
   "outputs": [
    {
     "data": {
      "text/html": [
       "<div>\n",
       "<style scoped>\n",
       "    .dataframe tbody tr th:only-of-type {\n",
       "        vertical-align: middle;\n",
       "    }\n",
       "\n",
       "    .dataframe tbody tr th {\n",
       "        vertical-align: top;\n",
       "    }\n",
       "\n",
       "    .dataframe thead th {\n",
       "        text-align: right;\n",
       "    }\n",
       "</style>\n",
       "<table border=\"1\" class=\"dataframe\">\n",
       "  <thead>\n",
       "    <tr style=\"text-align: right;\">\n",
       "      <th></th>\n",
       "      <th>letter</th>\n",
       "      <th>module</th>\n",
       "      <th>face</th>\n",
       "      <th>x</th>\n",
       "      <th>y</th>\n",
       "      <th>z</th>\n",
       "    </tr>\n",
       "  </thead>\n",
       "  <tbody>\n",
       "    <tr>\n",
       "      <th>37</th>\n",
       "      <td>D</td>\n",
       "      <td>2</td>\n",
       "      <td>H1</td>\n",
       "      <td>-1060.556</td>\n",
       "      <td>1.968</td>\n",
       "      <td>27.746</td>\n",
       "    </tr>\n",
       "    <tr>\n",
       "      <th>38</th>\n",
       "      <td>D</td>\n",
       "      <td>2</td>\n",
       "      <td>H2</td>\n",
       "      <td>-1057.743</td>\n",
       "      <td>1.962</td>\n",
       "      <td>26.971</td>\n",
       "    </tr>\n",
       "    <tr>\n",
       "      <th>39</th>\n",
       "      <td>D</td>\n",
       "      <td>2</td>\n",
       "      <td>H3</td>\n",
       "      <td>-1058.093</td>\n",
       "      <td>2.042</td>\n",
       "      <td>25.259</td>\n",
       "    </tr>\n",
       "    <tr>\n",
       "      <th>40</th>\n",
       "      <td>D</td>\n",
       "      <td>2</td>\n",
       "      <td>H4</td>\n",
       "      <td>-1060.559</td>\n",
       "      <td>2.065</td>\n",
       "      <td>23.989</td>\n",
       "    </tr>\n",
       "    <tr>\n",
       "      <th>41</th>\n",
       "      <td>D</td>\n",
       "      <td>2</td>\n",
       "      <td>H5</td>\n",
       "      <td>-1063.249</td>\n",
       "      <td>1.967</td>\n",
       "      <td>25.285</td>\n",
       "    </tr>\n",
       "    <tr>\n",
       "      <th>42</th>\n",
       "      <td>D</td>\n",
       "      <td>2</td>\n",
       "      <td>H6</td>\n",
       "      <td>-1063.251</td>\n",
       "      <td>2.043</td>\n",
       "      <td>26.533</td>\n",
       "    </tr>\n",
       "    <tr>\n",
       "      <th>91</th>\n",
       "      <td>D</td>\n",
       "      <td>4</td>\n",
       "      <td>H1</td>\n",
       "      <td>-861.506</td>\n",
       "      <td>1.972</td>\n",
       "      <td>27.746</td>\n",
       "    </tr>\n",
       "    <tr>\n",
       "      <th>92</th>\n",
       "      <td>D</td>\n",
       "      <td>4</td>\n",
       "      <td>H2</td>\n",
       "      <td>-858.693</td>\n",
       "      <td>1.962</td>\n",
       "      <td>26.971</td>\n",
       "    </tr>\n",
       "    <tr>\n",
       "      <th>93</th>\n",
       "      <td>D</td>\n",
       "      <td>4</td>\n",
       "      <td>H3</td>\n",
       "      <td>-859.043</td>\n",
       "      <td>2.005</td>\n",
       "      <td>25.259</td>\n",
       "    </tr>\n",
       "    <tr>\n",
       "      <th>94</th>\n",
       "      <td>D</td>\n",
       "      <td>4</td>\n",
       "      <td>H4</td>\n",
       "      <td>-861.509</td>\n",
       "      <td>1.963</td>\n",
       "      <td>23.989</td>\n",
       "    </tr>\n",
       "    <tr>\n",
       "      <th>95</th>\n",
       "      <td>D</td>\n",
       "      <td>4</td>\n",
       "      <td>H5</td>\n",
       "      <td>-864.199</td>\n",
       "      <td>1.971</td>\n",
       "      <td>25.285</td>\n",
       "    </tr>\n",
       "    <tr>\n",
       "      <th>96</th>\n",
       "      <td>D</td>\n",
       "      <td>4</td>\n",
       "      <td>H6</td>\n",
       "      <td>-864.201</td>\n",
       "      <td>1.999</td>\n",
       "      <td>26.533</td>\n",
       "    </tr>\n",
       "    <tr>\n",
       "      <th>140</th>\n",
       "      <td>D</td>\n",
       "      <td>6</td>\n",
       "      <td>H1</td>\n",
       "      <td>-663.826</td>\n",
       "      <td>1.974</td>\n",
       "      <td>27.746</td>\n",
       "    </tr>\n",
       "    <tr>\n",
       "      <th>141</th>\n",
       "      <td>D</td>\n",
       "      <td>6</td>\n",
       "      <td>H2</td>\n",
       "      <td>-661.013</td>\n",
       "      <td>1.967</td>\n",
       "      <td>26.971</td>\n",
       "    </tr>\n",
       "    <tr>\n",
       "      <th>142</th>\n",
       "      <td>D</td>\n",
       "      <td>6</td>\n",
       "      <td>H3</td>\n",
       "      <td>-661.363</td>\n",
       "      <td>2.004</td>\n",
       "      <td>25.259</td>\n",
       "    </tr>\n",
       "    <tr>\n",
       "      <th>143</th>\n",
       "      <td>D</td>\n",
       "      <td>6</td>\n",
       "      <td>H4</td>\n",
       "      <td>-663.829</td>\n",
       "      <td>1.969</td>\n",
       "      <td>23.989</td>\n",
       "    </tr>\n",
       "    <tr>\n",
       "      <th>144</th>\n",
       "      <td>D</td>\n",
       "      <td>6</td>\n",
       "      <td>H5</td>\n",
       "      <td>-666.519</td>\n",
       "      <td>1.978</td>\n",
       "      <td>25.285</td>\n",
       "    </tr>\n",
       "    <tr>\n",
       "      <th>145</th>\n",
       "      <td>D</td>\n",
       "      <td>6</td>\n",
       "      <td>H6</td>\n",
       "      <td>-666.521</td>\n",
       "      <td>2.008</td>\n",
       "      <td>26.533</td>\n",
       "    </tr>\n",
       "    <tr>\n",
       "      <th>185</th>\n",
       "      <td>D</td>\n",
       "      <td>8</td>\n",
       "      <td>H1</td>\n",
       "      <td>-468.806</td>\n",
       "      <td>1.983</td>\n",
       "      <td>27.746</td>\n",
       "    </tr>\n",
       "    <tr>\n",
       "      <th>186</th>\n",
       "      <td>D</td>\n",
       "      <td>8</td>\n",
       "      <td>H2</td>\n",
       "      <td>-465.993</td>\n",
       "      <td>1.973</td>\n",
       "      <td>26.971</td>\n",
       "    </tr>\n",
       "    <tr>\n",
       "      <th>187</th>\n",
       "      <td>D</td>\n",
       "      <td>8</td>\n",
       "      <td>H3</td>\n",
       "      <td>-466.343</td>\n",
       "      <td>2.012</td>\n",
       "      <td>25.259</td>\n",
       "    </tr>\n",
       "    <tr>\n",
       "      <th>188</th>\n",
       "      <td>D</td>\n",
       "      <td>8</td>\n",
       "      <td>H4</td>\n",
       "      <td>-468.809</td>\n",
       "      <td>1.974</td>\n",
       "      <td>23.989</td>\n",
       "    </tr>\n",
       "    <tr>\n",
       "      <th>189</th>\n",
       "      <td>D</td>\n",
       "      <td>8</td>\n",
       "      <td>H5</td>\n",
       "      <td>-471.499</td>\n",
       "      <td>1.985</td>\n",
       "      <td>25.285</td>\n",
       "    </tr>\n",
       "    <tr>\n",
       "      <th>190</th>\n",
       "      <td>D</td>\n",
       "      <td>8</td>\n",
       "      <td>H6</td>\n",
       "      <td>-471.501</td>\n",
       "      <td>2.025</td>\n",
       "      <td>26.533</td>\n",
       "    </tr>\n",
       "    <tr>\n",
       "      <th>232</th>\n",
       "      <td>D</td>\n",
       "      <td>10</td>\n",
       "      <td>H1</td>\n",
       "      <td>-275.306</td>\n",
       "      <td>1.984</td>\n",
       "      <td>27.746</td>\n",
       "    </tr>\n",
       "    <tr>\n",
       "      <th>233</th>\n",
       "      <td>D</td>\n",
       "      <td>10</td>\n",
       "      <td>H2</td>\n",
       "      <td>-272.493</td>\n",
       "      <td>1.975</td>\n",
       "      <td>26.971</td>\n",
       "    </tr>\n",
       "    <tr>\n",
       "      <th>234</th>\n",
       "      <td>D</td>\n",
       "      <td>10</td>\n",
       "      <td>H3</td>\n",
       "      <td>-272.843</td>\n",
       "      <td>2.048</td>\n",
       "      <td>25.259</td>\n",
       "    </tr>\n",
       "    <tr>\n",
       "      <th>235</th>\n",
       "      <td>D</td>\n",
       "      <td>10</td>\n",
       "      <td>H4</td>\n",
       "      <td>-275.309</td>\n",
       "      <td>1.978</td>\n",
       "      <td>23.989</td>\n",
       "    </tr>\n",
       "    <tr>\n",
       "      <th>236</th>\n",
       "      <td>D</td>\n",
       "      <td>10</td>\n",
       "      <td>H5</td>\n",
       "      <td>-277.999</td>\n",
       "      <td>1.984</td>\n",
       "      <td>25.285</td>\n",
       "    </tr>\n",
       "    <tr>\n",
       "      <th>237</th>\n",
       "      <td>D</td>\n",
       "      <td>10</td>\n",
       "      <td>H6</td>\n",
       "      <td>-278.001</td>\n",
       "      <td>2.029</td>\n",
       "      <td>26.533</td>\n",
       "    </tr>\n",
       "  </tbody>\n",
       "</table>\n",
       "</div>"
      ],
      "text/plain": [
       "    letter  module face         x      y       z\n",
       "37       D       2   H1 -1060.556  1.968  27.746\n",
       "38       D       2   H2 -1057.743  1.962  26.971\n",
       "39       D       2   H3 -1058.093  2.042  25.259\n",
       "40       D       2   H4 -1060.559  2.065  23.989\n",
       "41       D       2   H5 -1063.249  1.967  25.285\n",
       "42       D       2   H6 -1063.251  2.043  26.533\n",
       "91       D       4   H1  -861.506  1.972  27.746\n",
       "92       D       4   H2  -858.693  1.962  26.971\n",
       "93       D       4   H3  -859.043  2.005  25.259\n",
       "94       D       4   H4  -861.509  1.963  23.989\n",
       "95       D       4   H5  -864.199  1.971  25.285\n",
       "96       D       4   H6  -864.201  1.999  26.533\n",
       "140      D       6   H1  -663.826  1.974  27.746\n",
       "141      D       6   H2  -661.013  1.967  26.971\n",
       "142      D       6   H3  -661.363  2.004  25.259\n",
       "143      D       6   H4  -663.829  1.969  23.989\n",
       "144      D       6   H5  -666.519  1.978  25.285\n",
       "145      D       6   H6  -666.521  2.008  26.533\n",
       "185      D       8   H1  -468.806  1.983  27.746\n",
       "186      D       8   H2  -465.993  1.973  26.971\n",
       "187      D       8   H3  -466.343  2.012  25.259\n",
       "188      D       8   H4  -468.809  1.974  23.989\n",
       "189      D       8   H5  -471.499  1.985  25.285\n",
       "190      D       8   H6  -471.501  2.025  26.533\n",
       "232      D      10   H1  -275.306  1.984  27.746\n",
       "233      D      10   H2  -272.493  1.975  26.971\n",
       "234      D      10   H3  -272.843  2.048  25.259\n",
       "235      D      10   H4  -275.309  1.978  23.989\n",
       "236      D      10   H5  -277.999  1.984  25.285\n",
       "237      D      10   H6  -278.001  2.029  26.533"
      ]
     },
     "execution_count": 191,
     "metadata": {},
     "output_type": "execute_result"
    }
   ],
   "source": [
    "dfp[(dfp[\"face\"].str.startswith('H'))&(dfp[\"letter\"].str.match('D'))]"
   ]
  },
  {
   "cell_type": "code",
   "execution_count": null,
   "id": "brazilian-secondary",
   "metadata": {},
   "outputs": [],
   "source": []
  },
  {
   "cell_type": "markdown",
   "id": "twenty-brazilian",
   "metadata": {},
   "source": [
    "# Comparison of points betweem the 2 measurements"
   ]
  },
  {
   "cell_type": "code",
   "execution_count": 192,
   "id": "nutritional-judge",
   "metadata": {},
   "outputs": [],
   "source": [
    "list=\"\"\"\n",
    "A03F5\n",
    "A05F1\n",
    "A05F5\n",
    "B03F2\n",
    "B03F3\n",
    "B03H2\n",
    "B03H3\n",
    "C01F2\n",
    "C03F1\n",
    "C05F1\n",
    "E03H2\n",
    "E03H3\n",
    "\"\"\"\n",
    "points=list.split()"
   ]
  },
  {
   "cell_type": "code",
   "execution_count": 193,
   "id": "psychological-cooling",
   "metadata": {},
   "outputs": [
    {
     "name": "stdout",
     "output_type": "stream",
     "text": [
      "['A03F5', 'A05F1', 'A05F5', 'B03F2', 'B03F3', 'B03H2', 'B03H3', 'C01F2', 'C03F1', 'C05F1', 'E03H2', 'E03H3']\n"
     ]
    }
   ],
   "source": [
    "print(points)"
   ]
  },
  {
   "cell_type": "code",
   "execution_count": 194,
   "id": "double-election",
   "metadata": {},
   "outputs": [
    {
     "data": {
      "text/html": [
       "<div>\n",
       "<style scoped>\n",
       "    .dataframe tbody tr th:only-of-type {\n",
       "        vertical-align: middle;\n",
       "    }\n",
       "\n",
       "    .dataframe tbody tr th {\n",
       "        vertical-align: top;\n",
       "    }\n",
       "\n",
       "    .dataframe thead th {\n",
       "        text-align: right;\n",
       "    }\n",
       "</style>\n",
       "<table border=\"1\" class=\"dataframe\">\n",
       "  <thead>\n",
       "    <tr style=\"text-align: right;\">\n",
       "      <th></th>\n",
       "      <th>letter</th>\n",
       "      <th>module</th>\n",
       "      <th>face</th>\n",
       "      <th>x</th>\n",
       "      <th>y</th>\n",
       "      <th>z</th>\n",
       "      <th>point</th>\n",
       "    </tr>\n",
       "  </thead>\n",
       "  <tbody>\n",
       "    <tr>\n",
       "      <th>0</th>\n",
       "      <td>A</td>\n",
       "      <td>2</td>\n",
       "      <td>F1</td>\n",
       "      <td>-1071.232</td>\n",
       "      <td>2.057</td>\n",
       "      <td>131.412</td>\n",
       "      <td>A02F1</td>\n",
       "    </tr>\n",
       "    <tr>\n",
       "      <th>1</th>\n",
       "      <td>A</td>\n",
       "      <td>2</td>\n",
       "      <td>F2</td>\n",
       "      <td>-1056.550</td>\n",
       "      <td>2.057</td>\n",
       "      <td>131.411</td>\n",
       "      <td>A02F2</td>\n",
       "    </tr>\n",
       "    <tr>\n",
       "      <th>2</th>\n",
       "      <td>A</td>\n",
       "      <td>2</td>\n",
       "      <td>F3</td>\n",
       "      <td>-1056.595</td>\n",
       "      <td>2.040</td>\n",
       "      <td>125.955</td>\n",
       "      <td>A02F3</td>\n",
       "    </tr>\n",
       "    <tr>\n",
       "      <th>3</th>\n",
       "      <td>A</td>\n",
       "      <td>2</td>\n",
       "      <td>F4</td>\n",
       "      <td>-1063.219</td>\n",
       "      <td>1.966</td>\n",
       "      <td>125.985</td>\n",
       "      <td>A02F4</td>\n",
       "    </tr>\n",
       "    <tr>\n",
       "      <th>4</th>\n",
       "      <td>A</td>\n",
       "      <td>2</td>\n",
       "      <td>F5</td>\n",
       "      <td>-1072.127</td>\n",
       "      <td>1.976</td>\n",
       "      <td>128.924</td>\n",
       "      <td>A02F5</td>\n",
       "    </tr>\n",
       "    <tr>\n",
       "      <th>...</th>\n",
       "      <td>...</td>\n",
       "      <td>...</td>\n",
       "      <td>...</td>\n",
       "      <td>...</td>\n",
       "      <td>...</td>\n",
       "      <td>...</td>\n",
       "      <td>...</td>\n",
       "    </tr>\n",
       "    <tr>\n",
       "      <th>242</th>\n",
       "      <td>E</td>\n",
       "      <td>10</td>\n",
       "      <td>H2</td>\n",
       "      <td>-180.064</td>\n",
       "      <td>1.989</td>\n",
       "      <td>27.180</td>\n",
       "      <td>E010H2</td>\n",
       "    </tr>\n",
       "    <tr>\n",
       "      <th>243</th>\n",
       "      <td>E</td>\n",
       "      <td>10</td>\n",
       "      <td>H3</td>\n",
       "      <td>-179.992</td>\n",
       "      <td>2.053</td>\n",
       "      <td>25.499</td>\n",
       "      <td>E010H3</td>\n",
       "    </tr>\n",
       "    <tr>\n",
       "      <th>244</th>\n",
       "      <td>E</td>\n",
       "      <td>10</td>\n",
       "      <td>H4</td>\n",
       "      <td>-181.585</td>\n",
       "      <td>2.025</td>\n",
       "      <td>24.311</td>\n",
       "      <td>E010H4</td>\n",
       "    </tr>\n",
       "    <tr>\n",
       "      <th>245</th>\n",
       "      <td>E</td>\n",
       "      <td>10</td>\n",
       "      <td>H5</td>\n",
       "      <td>-184.527</td>\n",
       "      <td>1.985</td>\n",
       "      <td>25.623</td>\n",
       "      <td>E010H5</td>\n",
       "    </tr>\n",
       "    <tr>\n",
       "      <th>246</th>\n",
       "      <td>E</td>\n",
       "      <td>10</td>\n",
       "      <td>H6</td>\n",
       "      <td>-184.623</td>\n",
       "      <td>2.052</td>\n",
       "      <td>27.239</td>\n",
       "      <td>E010H6</td>\n",
       "    </tr>\n",
       "  </tbody>\n",
       "</table>\n",
       "<p>247 rows × 7 columns</p>\n",
       "</div>"
      ],
      "text/plain": [
       "    letter  module face         x      y        z   point\n",
       "0        A       2   F1 -1071.232  2.057  131.412   A02F1\n",
       "1        A       2   F2 -1056.550  2.057  131.411   A02F2\n",
       "2        A       2   F3 -1056.595  2.040  125.955   A02F3\n",
       "3        A       2   F4 -1063.219  1.966  125.985   A02F4\n",
       "4        A       2   F5 -1072.127  1.976  128.924   A02F5\n",
       "..     ...     ...  ...       ...    ...      ...     ...\n",
       "242      E      10   H2  -180.064  1.989   27.180  E010H2\n",
       "243      E      10   H3  -179.992  2.053   25.499  E010H3\n",
       "244      E      10   H4  -181.585  2.025   24.311  E010H4\n",
       "245      E      10   H5  -184.527  1.985   25.623  E010H5\n",
       "246      E      10   H6  -184.623  2.052   27.239  E010H6\n",
       "\n",
       "[247 rows x 7 columns]"
      ]
     },
     "execution_count": 194,
     "metadata": {},
     "output_type": "execute_result"
    }
   ],
   "source": [
    "dfp = pd.read_csv(\"points.csv\")\n",
    "dfp2 = pd.read_csv(\"points-v2.csv\")\n",
    "dfp[\"point\"]=dfp[\"letter\"].astype(str)+\"0\"+dfp[\"module\"].astype(str)+dfp[\"face\"]\n",
    "dfp2[\"point\"]=dfp2[\"letter\"].astype(str)+\"0\"+dfp2[\"module\"].astype(str)+dfp2[\"face\"]\n",
    "\n",
    "dfp"
   ]
  },
  {
   "cell_type": "code",
   "execution_count": 195,
   "id": "outside-country",
   "metadata": {},
   "outputs": [
    {
     "name": "stdout",
     "output_type": "stream",
     "text": [
      "Empty DataFrame\n",
      "Columns: [letter, module, face, x, y, z, point]\n",
      "Index: []\n",
      "    letter  module face        x      y        z  point\n",
      "115      A       3   F5  955.342  3.042 -119.445  A03F5\n",
      "Empty DataFrame\n",
      "Columns: [letter, module, face, x, y, z, point]\n",
      "Index: []\n",
      "    letter  module face        x      y        z  point\n",
      "231      A       5   F1  758.318  3.336 -124.963  A05F1\n",
      "Empty DataFrame\n",
      "Columns: [letter, module, face, x, y, z, point]\n",
      "Index: []\n",
      "    letter  module face        x      y        z  point\n",
      "235      A       5   F5  758.152  2.978 -119.445  A05F5\n",
      "Empty DataFrame\n",
      "Columns: [letter, module, face, x, y, z, point]\n",
      "Index: []\n",
      "    letter  module face        x      y        z  point\n",
      "123      B       3   F2  874.047  0.534 -125.184  B03F2\n",
      "Empty DataFrame\n",
      "Columns: [letter, module, face, x, y, z, point]\n",
      "Index: []\n",
      "    letter  module face        x      y        z  point\n",
      "124      B       3   F3  874.301  1.153 -119.626  B03F3\n",
      "Empty DataFrame\n",
      "Columns: [letter, module, face, x, y, z, point]\n",
      "Index: []\n",
      "    letter  module face        x      y        z  point\n",
      "128      B       3   H2  873.424  0.793 -122.847  B03H2\n",
      "Empty DataFrame\n",
      "Columns: [letter, module, face, x, y, z, point]\n",
      "Index: []\n",
      "    letter  module face        x      y        z  point\n",
      "129      B       3   H3  873.634  0.977 -121.263  B03H3\n",
      "Empty DataFrame\n",
      "Columns: [letter, module, face, x, y, z, point]\n",
      "Index: []\n",
      "   letter  module face         x       y       z  point\n",
      "19      C       1   F2  1163.217  12.237 -22.218  C01F2\n",
      "Empty DataFrame\n",
      "Columns: [letter, module, face, x, y, z, point]\n",
      "Index: []\n",
      "    letter  module face        x       y       z  point\n",
      "133      C       3   F1  955.288  13.979 -22.223  C03F1\n",
      "Empty DataFrame\n",
      "Columns: [letter, module, face, x, y, z, point]\n",
      "Index: []\n",
      "    letter  module face        x       y       z  point\n",
      "253      C       5   F1  758.098  13.882 -22.223  C05F1\n",
      "Empty DataFrame\n",
      "Columns: [letter, module, face, x, y, z, point]\n",
      "Index: []\n",
      "    letter  module face        x       y       z  point\n",
      "159      E       3   H2  873.607  12.209 -21.144  E03H2\n",
      "Empty DataFrame\n",
      "Columns: [letter, module, face, x, y, z, point]\n",
      "Index: []\n",
      "    letter  module face        x      y       z  point\n",
      "160      E       3   H3  873.603  12.46 -18.947  E03H3\n"
     ]
    }
   ],
   "source": [
    "for p in points:\n",
    "    print(dfp[dfp[\"point\"].astype(str)==p])\n",
    "    print(dfp2[dfp2[\"point\"].astype(str)==p])"
   ]
  },
  {
   "cell_type": "code",
   "execution_count": 199,
   "id": "innocent-pakistan",
   "metadata": {},
   "outputs": [
    {
     "data": {
      "text/plain": [
       "<AxesSubplot:>"
      ]
     },
     "execution_count": 199,
     "metadata": {},
     "output_type": "execute_result"
    },
    {
     "data": {
      "image/png": "[encoded data removed]",
      "text/plain": [
       "<Figure size 432x288 with 1 Axes>"
      ]
     },
     "metadata": {
      "needs_background": "light"
     },
     "output_type": "display_data"
    }
   ],
   "source": [
    "dfp[\"y\"].plot()"
   ]
  },
  {
   "cell_type": "code",
   "execution_count": null,
   "id": "classified-recruitment",
   "metadata": {},
   "outputs": [],
   "source": []
  },
  {
   "cell_type": "code",
   "execution_count": null,
   "id": "distinct-seafood",
   "metadata": {},
   "outputs": [],
   "source": []
  },
  {
   "cell_type": "code",
   "execution_count": null,
   "id": "tight-think",
   "metadata": {},
   "outputs": [],
   "source": []
  },
  {
   "cell_type": "code",
   "execution_count": null,
   "id": "executive-calculation",
   "metadata": {},
   "outputs": [],
   "source": []
  },
  {
   "cell_type": "code",
   "execution_count": null,
   "id": "altered-kennedy",
   "metadata": {},
   "outputs": [],
   "source": []
  },
  {
   "cell_type": "code",
   "execution_count": null,
   "id": "intended-bones",
   "metadata": {},
   "outputs": [],
   "source": []
  }
 ],
 "metadata": {
  "kernelspec": {
   "display_name": "Python 3",
   "language": "python",
   "name": "python3"
  },
  "language_info": {
   "codemirror_mode": {
    "name": "ipython",
    "version": 3
   },
   "file_extension": ".py",
   "mimetype": "text/x-python",
   "name": "python",
   "nbconvert_exporter": "python",
   "pygments_lexer": "ipython3",
   "version": "3.9.7"
  }
 },
 "nbformat": 4,
 "nbformat_minor": 5
}
