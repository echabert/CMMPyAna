{
 "cells": [
  {
   "cell_type": "markdown",
   "id": "collectible-webmaster",
   "metadata": {},
   "source": [
    "# Analysis of metrology"
   ]
  },
  {
   "cell_type": "code",
   "execution_count": 2,
   "id": "fuzzy-connecticut",
   "metadata": {},
   "outputs": [],
   "source": [
    "import pandas as pd\n",
    "import matplotlib.pyplot as plt"
   ]
  },
  {
   "cell_type": "code",
   "execution_count": 4,
   "id": "american-tract",
   "metadata": {},
   "outputs": [],
   "source": [
    "df = pd.read_csv(\"reportInserts.csv\")"
   ]
  },
  {
   "cell_type": "code",
   "execution_count": 19,
   "id": "wanted-supervision",
   "metadata": {},
   "outputs": [
    {
     "name": "stdout",
     "output_type": "stream",
     "text": [
      "Index(['label', 'angle', 'planeity'], dtype='object')\n"
     ]
    }
   ],
   "source": [
    "print(df.keys())"
   ]
  },
  {
   "cell_type": "markdown",
   "id": "australian-frame",
   "metadata": {},
   "source": [
    "## Angles of inserts"
   ]
  },
  {
   "cell_type": "code",
   "execution_count": 29,
   "id": "controversial-final",
   "metadata": {},
   "outputs": [
    {
     "data": {
      "text/plain": [
       "Text(0.5, 0, 'angle [degrees]')"
      ]
     },
     "execution_count": 29,
     "metadata": {},
     "output_type": "execute_result"
    },
    {
     "data": {
      "image/png": "[encoded data removed]",
      "text/plain": [
       "<Figure size 432x288 with 1 Axes>"
      ]
     },
     "metadata": {
      "needs_background": "light"
     },
     "output_type": "display_data"
    }
   ],
   "source": [
    "ax = df[\"angle\"].plot(kind=\"hist\")\n",
    "ax.set_xlabel(\"angle [degrees]\")"
   ]
  },
  {
   "cell_type": "markdown",
   "id": "comparative-upper",
   "metadata": {},
   "source": [
    "## Planeity of inserts"
   ]
  },
  {
   "cell_type": "code",
   "execution_count": 37,
   "id": "hollow-acquisition",
   "metadata": {},
   "outputs": [
    {
     "data": {
      "text/plain": [
       "Text(0.5, 0, 'planeity [mm]')"
      ]
     },
     "execution_count": 37,
     "metadata": {},
     "output_type": "execute_result"
    },
    {
     "data": {
      "image/png": "[encoded data removed]",
      "text/plain": [
       "<Figure size 432x288 with 1 Axes>"
      ]
     },
     "metadata": {
      "needs_background": "light"
     },
     "output_type": "display_data"
    }
   ],
   "source": [
    "ax = df[\"planeity\"].plot(kind=\"hist\")\n",
    "ax.set_xlabel(\"planeity [mm]\")"
   ]
  },
  {
   "cell_type": "code",
   "execution_count": 35,
   "id": "acoustic-yemen",
   "metadata": {},
   "outputs": [
    {
     "data": {
      "text/plain": [
       "Text(0.5, 0, 'planeity [mm]')"
      ]
     },
     "execution_count": 35,
     "metadata": {},
     "output_type": "execute_result"
    },
    {
     "data": {
      "image/png": "[encoded data removed]",
      "text/plain": [
       "<Figure size 432x288 with 1 Axes>"
      ]
     },
     "metadata": {
      "needs_background": "light"
     },
     "output_type": "display_data"
    }
   ],
   "source": [
    "ax2 = df[(df['label'].str.endswith(\"S\")==False)&(df['label'].str.endswith(\"E\")==False)][\"planeity\"].plot(kind=\"hist\")\n",
    "ax2.set_xlabel(\"planeity [mm]\")"
   ]
  },
  {
   "cell_type": "markdown",
   "id": "western-hometown",
   "metadata": {},
   "source": []
  }
 ],
 "metadata": {
  "kernelspec": {
   "display_name": "Python 3",
   "language": "python",
   "name": "python3"
  },
  "language_info": {
   "codemirror_mode": {
    "name": "ipython",
    "version": 3
   },
   "file_extension": ".py",
   "mimetype": "text/x-python",
   "name": "python",
   "nbconvert_exporter": "python",
   "pygments_lexer": "ipython3",
   "version": "3.9.7"
  }
 },
 "nbformat": 4,
 "nbformat_minor": 5
}
