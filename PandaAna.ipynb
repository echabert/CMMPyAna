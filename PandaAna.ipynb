{
 "cells": [
  {
   "cell_type": "markdown",
   "id": "suspected-disorder",
   "metadata": {},
   "source": [
    "# Analysis of metrology"
   ]
  },
  {
   "cell_type": "code",
   "execution_count": 67,
   "id": "constant-skating",
   "metadata": {},
   "outputs": [],
   "source": [
    "import pandas as pd\n",
    "import matplotlib.pyplot as plt"
   ]
  },
  {
   "cell_type": "code",
   "execution_count": 68,
   "id": "collaborative-executive",
   "metadata": {},
   "outputs": [],
   "source": [
    "df = pd.read_csv(\"reportInserts.csv\")\n",
    "df2 = pd.read_csv(\"reportInserts-v2.csv\")"
   ]
  },
  {
   "cell_type": "code",
   "execution_count": 69,
   "id": "convenient-chemical",
   "metadata": {},
   "outputs": [
    {
     "name": "stdout",
     "output_type": "stream",
     "text": [
      "Index(['label', 'angle', 'planeity'], dtype='object')\n"
     ]
    }
   ],
   "source": [
    "print(df.keys())"
   ]
  },
  {
   "cell_type": "code",
   "execution_count": null,
   "id": "threatened-examination",
   "metadata": {},
   "outputs": [],
   "source": [
    "df[\"\"]"
   ]
  },
  {
   "cell_type": "markdown",
   "id": "naughty-hypothesis",
   "metadata": {},
   "source": [
    "## Angles of inserts"
   ]
  },
  {
   "cell_type": "code",
   "execution_count": 29,
   "id": "accessory-advancement",
   "metadata": {},
   "outputs": [
    {
     "data": {
      "text/plain": [
       "Text(0.5, 0, 'angle [degrees]')"
      ]
     },
     "execution_count": 29,
     "metadata": {},
     "output_type": "execute_result"
    },
    {
     "data": {
      "image/png": "[encoded data removed]",
      "text/plain": [
       "<Figure size 432x288 with 1 Axes>"
      ]
     },
     "metadata": {
      "needs_background": "light"
     },
     "output_type": "display_data"
    }
   ],
   "source": [
    "ax = df[\"angle\"].plot(kind=\"hist\",bins=30)\n",
    "ax.set_xlabel(\"angle [degrees]\")"
   ]
  },
  {
   "cell_type": "code",
   "execution_count": 30,
   "id": "driven-wallace",
   "metadata": {},
   "outputs": [
    {
     "data": {
      "text/plain": [
       "0.3219169696969697"
      ]
     },
     "execution_count": 30,
     "metadata": {},
     "output_type": "execute_result"
    }
   ],
   "source": [
    "df[df[\"angle\"]>0][\"angle\"].mean()"
   ]
  },
  {
   "cell_type": "markdown",
   "id": "ready-engagement",
   "metadata": {},
   "source": [
    "# Comparison of the 2 measurements"
   ]
  },
  {
   "cell_type": "code",
   "execution_count": 47,
   "id": "active-virtue",
   "metadata": {},
   "outputs": [
    {
     "data": {
      "text/plain": [
       "0.003979050520246213"
      ]
     },
     "execution_count": 47,
     "metadata": {},
     "output_type": "execute_result"
    },
    {
     "data": {
      "image/png": "[encoded data removed]",
      "text/plain": [
       "<Figure size 432x288 with 1 Axes>"
      ]
     },
     "metadata": {
      "needs_background": "light"
     },
     "output_type": "display_data"
    }
   ],
   "source": [
    "diff = df.compare(df2)[\"angle\"][\"self\"]-df.compare(df2)[\"angle\"][\"other\"]\n",
    "#plt.plot(diff,kind=\"hist\",bins=10)\n",
    "ax = diff.plot(kind=\"hist\")\n",
    "ax.set_xlabel(\"angle difference [degrees]\")\n",
    "diff.mean()\n",
    "diff.std()"
   ]
  },
  {
   "cell_type": "code",
   "execution_count": 23,
   "id": "british-benjamin",
   "metadata": {},
   "outputs": [],
   "source": [
    "#df[df[\"angle\"]>0.35]"
   ]
  },
  {
   "cell_type": "code",
   "execution_count": 8,
   "id": "extraordinary-dynamics",
   "metadata": {},
   "outputs": [
    {
     "name": "stdout",
     "output_type": "stream",
     "text": [
      "0.2549361363636364\n",
      "0.014710050861675008\n"
     ]
    },
    {
     "data": {
      "text/plain": [
       "<matplotlib.legend.Legend at 0x1245c40d0>"
      ]
     },
     "execution_count": 8,
     "metadata": {},
     "output_type": "execute_result"
    },
    {
     "data": {
      "image/png": "[encoded data removed]",
      "text/plain": [
       "<Figure size 432x288 with 1 Axes>"
      ]
     },
     "metadata": {
      "needs_background": "light"
     },
     "output_type": "display_data"
    }
   ],
   "source": [
    "\n",
    "\n",
    "def oddModule():\n",
    "    out=\"\"\n",
    "    labels = [\"(df['label'].str.find('{}')>=0)\".format(i) for i in [\"02\",\"04\",\"06\",\"08\",\"10\"]]\n",
    "    return \"|\".join(labels)\n",
    "\n",
    "def evenModule():\n",
    "    out=\"\"\n",
    "    labels = [\"(df['label'].str.find('{}')>=0)\".format(i) for i in [\"01\",\"03\",\"05\",\"07\",\"09\",\"11\"]]\n",
    "    return \"|\".join(labels)\n",
    "\n",
    "#df[(df['label'].str.find(\"04\")>=0)][\"angle\"].plot(kind=\"hist\")\n",
    "even = df[(eval(oddModule()))][\"angle\"]\n",
    "odd = df[(eval(evenModule()))][\"angle\"]\n",
    "print(even.mean())\n",
    "print(even.std())\n",
    "ax = plt.hist(even,bins=[0.012*i for i in range(50)],alpha=0.5,label=\"even\")\n",
    "#ax[0].set_xlabel(\"angle [degrees]\")\n",
    "plt.hist(odd,bins=[0.012*i for i in range(50)],alpha=0.5,label=\"odd\")\n",
    "plt.legend()"
   ]
  },
  {
   "cell_type": "markdown",
   "id": "characteristic-buyer",
   "metadata": {},
   "source": [
    "# Comparison between the 2 measurements"
   ]
  },
  {
   "cell_type": "code",
   "execution_count": 46,
   "id": "center-magazine",
   "metadata": {},
   "outputs": [
    {
     "data": {
      "text/plain": [
       "0.0026534385236193646"
      ]
     },
     "execution_count": 46,
     "metadata": {},
     "output_type": "execute_result"
    },
    {
     "data": {
      "image/png": "[encoded data removed]",
      "text/plain": [
       "<Figure size 432x288 with 1 Axes>"
      ]
     },
     "metadata": {
      "needs_background": "light"
     },
     "output_type": "display_data"
    }
   ],
   "source": [
    "diff = df.compare(df2)[\"planeity\"][\"self\"]-df.compare(df2)[\"planeity\"][\"other\"]\n",
    "#plt.plot(diff,kind=\"hist\",bins=10)\n",
    "ax = diff.plot(kind=\"hist\",bins=30)\n",
    "ax.set_xlabel(\"planarity [mm]\")\n",
    "diff.mean()\n",
    "diff.std()"
   ]
  },
  {
   "cell_type": "markdown",
   "id": "foster-activity",
   "metadata": {},
   "source": [
    "## Planeity of inserts"
   ]
  },
  {
   "cell_type": "raw",
   "id": "special-bacon",
   "metadata": {},
   "source": []
  },
  {
   "cell_type": "code",
   "execution_count": 9,
   "id": "juvenile-danger",
   "metadata": {},
   "outputs": [
    {
     "data": {
      "text/plain": [
       "Text(0.5, 0, 'planarity [mm]')"
      ]
     },
     "execution_count": 9,
     "metadata": {},
     "output_type": "execute_result"
    },
    {
     "data": {
      "image/png": "[encoded data removed]",
      "text/plain": [
       "<Figure size 432x288 with 1 Axes>"
      ]
     },
     "metadata": {
      "needs_background": "light"
     },
     "output_type": "display_data"
    }
   ],
   "source": [
    "ax = df[\"planeity\"].plot(kind=\"hist\",bins=30)\n",
    "ax.set_xlabel(\"planarity [mm]\")"
   ]
  },
  {
   "cell_type": "code",
   "execution_count": 11,
   "id": "growing-medication",
   "metadata": {},
   "outputs": [
    {
     "data": {
      "text/html": [
       "<div>\n",
       "<style scoped>\n",
       "    .dataframe tbody tr th:only-of-type {\n",
       "        vertical-align: middle;\n",
       "    }\n",
       "\n",
       "    .dataframe tbody tr th {\n",
       "        vertical-align: top;\n",
       "    }\n",
       "\n",
       "    .dataframe thead th {\n",
       "        text-align: right;\n",
       "    }\n",
       "</style>\n",
       "<table border=\"1\" class=\"dataframe\">\n",
       "  <thead>\n",
       "    <tr style=\"text-align: right;\">\n",
       "      <th></th>\n",
       "      <th>label</th>\n",
       "      <th>angle</th>\n",
       "      <th>planeity</th>\n",
       "    </tr>\n",
       "  </thead>\n",
       "  <tbody>\n",
       "    <tr>\n",
       "      <th>18</th>\n",
       "      <td>A03F</td>\n",
       "      <td>0.05747</td>\n",
       "      <td>0.10137</td>\n",
       "    </tr>\n",
       "    <tr>\n",
       "      <th>20</th>\n",
       "      <td>B03F</td>\n",
       "      <td>0.12898</td>\n",
       "      <td>0.33395</td>\n",
       "    </tr>\n",
       "    <tr>\n",
       "      <th>21</th>\n",
       "      <td>B03H</td>\n",
       "      <td>0.07386</td>\n",
       "      <td>0.57977</td>\n",
       "    </tr>\n",
       "    <tr>\n",
       "      <th>22</th>\n",
       "      <td>C03F</td>\n",
       "      <td>0.12501</td>\n",
       "      <td>0.22459</td>\n",
       "    </tr>\n",
       "    <tr>\n",
       "      <th>26</th>\n",
       "      <td>E03F</td>\n",
       "      <td>0.07722</td>\n",
       "      <td>0.32700</td>\n",
       "    </tr>\n",
       "    <tr>\n",
       "      <th>27</th>\n",
       "      <td>E03H</td>\n",
       "      <td>0.07017</td>\n",
       "      <td>0.56141</td>\n",
       "    </tr>\n",
       "    <tr>\n",
       "      <th>38</th>\n",
       "      <td>A05F</td>\n",
       "      <td>0.08312</td>\n",
       "      <td>0.18813</td>\n",
       "    </tr>\n",
       "    <tr>\n",
       "      <th>42</th>\n",
       "      <td>C05F</td>\n",
       "      <td>0.15490</td>\n",
       "      <td>0.22208</td>\n",
       "    </tr>\n",
       "  </tbody>\n",
       "</table>\n",
       "</div>"
      ],
      "text/plain": [
       "   label    angle  planeity\n",
       "18  A03F  0.05747   0.10137\n",
       "20  B03F  0.12898   0.33395\n",
       "21  B03H  0.07386   0.57977\n",
       "22  C03F  0.12501   0.22459\n",
       "26  E03F  0.07722   0.32700\n",
       "27  E03H  0.07017   0.56141\n",
       "38  A05F  0.08312   0.18813\n",
       "42  C05F  0.15490   0.22208"
      ]
     },
     "execution_count": 11,
     "metadata": {},
     "output_type": "execute_result"
    }
   ],
   "source": [
    "df[df[\"planeity\"]>0.1]"
   ]
  },
  {
   "cell_type": "code",
   "execution_count": 13,
   "id": "rocky-header",
   "metadata": {},
   "outputs": [
    {
     "data": {
      "text/plain": [
       "angle       0.339056\n",
       "planeity    0.005594\n",
       "dtype: float64"
      ]
     },
     "execution_count": 13,
     "metadata": {},
     "output_type": "execute_result"
    }
   ],
   "source": [
    "df[df[\"planeity\"]<0.1].mean()"
   ]
  },
  {
   "cell_type": "code",
   "execution_count": 14,
   "id": "freelance-romantic",
   "metadata": {},
   "outputs": [
    {
     "data": {
      "text/plain": [
       "Text(0.5, 0, 'planarity [mm]')"
      ]
     },
     "execution_count": 14,
     "metadata": {},
     "output_type": "execute_result"
    },
    {
     "data": {
      "image/png": "[encoded data removed]",
      "text/plain": [
       "<Figure size 432x288 with 1 Axes>"
      ]
     },
     "metadata": {
      "needs_background": "light"
     },
     "output_type": "display_data"
    }
   ],
   "source": [
    "ax = df[df[\"planeity\"]<0.1][\"planeity\"].plot(kind=\"hist\",bins=30)\n",
    "ax.set_xlabel(\"planarity [mm]\")"
   ]
  },
  {
   "cell_type": "code",
   "execution_count": 98,
   "id": "imported-patient",
   "metadata": {},
   "outputs": [
    {
     "ename": "KeyError",
     "evalue": "'planeity'",
     "output_type": "error",
     "traceback": [
      "\u001b[0;31m---------------------------------------------------------------------------\u001b[0m",
      "\u001b[0;31mKeyError\u001b[0m                                  Traceback (most recent call last)",
      "\u001b[0;32m<ipython-input-98-c7016b22ff56>\u001b[0m in \u001b[0;36m<module>\u001b[0;34m\u001b[0m\n\u001b[0;32m----> 1\u001b[0;31m \u001b[0max2\u001b[0m \u001b[0;34m=\u001b[0m\u001b[0;34m(\u001b[0m\u001b[0;34m(\u001b[0m\u001b[0mdf\u001b[0m\u001b[0;34m[\u001b[0m\u001b[0;34m'label'\u001b[0m\u001b[0;34m]\u001b[0m\u001b[0;34m.\u001b[0m\u001b[0mstr\u001b[0m\u001b[0;34m.\u001b[0m\u001b[0mendswith\u001b[0m\u001b[0;34m(\u001b[0m\u001b[0;34m\"S\"\u001b[0m\u001b[0;34m)\u001b[0m\u001b[0;34m==\u001b[0m\u001b[0;32mFalse\u001b[0m\u001b[0;34m)\u001b[0m\u001b[0;34m&\u001b[0m\u001b[0;34m(\u001b[0m\u001b[0mdf\u001b[0m\u001b[0;34m[\u001b[0m\u001b[0;34m'label'\u001b[0m\u001b[0;34m]\u001b[0m\u001b[0;34m.\u001b[0m\u001b[0mstr\u001b[0m\u001b[0;34m.\u001b[0m\u001b[0mendswith\u001b[0m\u001b[0;34m(\u001b[0m\u001b[0;34m\"E\"\u001b[0m\u001b[0;34m)\u001b[0m\u001b[0;34m==\u001b[0m\u001b[0;32mFalse\u001b[0m\u001b[0;34m)\u001b[0m\u001b[0;34m)\u001b[0m\u001b[0;34m[\u001b[0m\u001b[0;34m\"planeity\"\u001b[0m\u001b[0;34m]\u001b[0m\u001b[0;34m.\u001b[0m\u001b[0mplot\u001b[0m\u001b[0;34m(\u001b[0m\u001b[0mkind\u001b[0m\u001b[0;34m=\u001b[0m\u001b[0;34m\"hist\"\u001b[0m\u001b[0;34m)\u001b[0m\u001b[0;34m\u001b[0m\u001b[0;34m\u001b[0m\u001b[0m\n\u001b[0m\u001b[1;32m      2\u001b[0m \u001b[0max2\u001b[0m\u001b[0;34m.\u001b[0m\u001b[0mset_xlabel\u001b[0m\u001b[0;34m(\u001b[0m\u001b[0;34m\"planeity [mm]\"\u001b[0m\u001b[0;34m)\u001b[0m\u001b[0;34m\u001b[0m\u001b[0;34m\u001b[0m\u001b[0m\n",
      "\u001b[0;32m/usr/local/lib/python3.9/site-packages/pandas/core/series.py\u001b[0m in \u001b[0;36m__getitem__\u001b[0;34m(self, key)\u001b[0m\n\u001b[1;32m    822\u001b[0m \u001b[0;34m\u001b[0m\u001b[0m\n\u001b[1;32m    823\u001b[0m         \u001b[0;32melif\u001b[0m \u001b[0mkey_is_scalar\u001b[0m\u001b[0;34m:\u001b[0m\u001b[0;34m\u001b[0m\u001b[0;34m\u001b[0m\u001b[0m\n\u001b[0;32m--> 824\u001b[0;31m             \u001b[0;32mreturn\u001b[0m \u001b[0mself\u001b[0m\u001b[0;34m.\u001b[0m\u001b[0m_get_value\u001b[0m\u001b[0;34m(\u001b[0m\u001b[0mkey\u001b[0m\u001b[0;34m)\u001b[0m\u001b[0;34m\u001b[0m\u001b[0;34m\u001b[0m\u001b[0m\n\u001b[0m\u001b[1;32m    825\u001b[0m \u001b[0;34m\u001b[0m\u001b[0m\n\u001b[1;32m    826\u001b[0m         \u001b[0;32mif\u001b[0m \u001b[0mis_hashable\u001b[0m\u001b[0;34m(\u001b[0m\u001b[0mkey\u001b[0m\u001b[0;34m)\u001b[0m\u001b[0;34m:\u001b[0m\u001b[0;34m\u001b[0m\u001b[0;34m\u001b[0m\u001b[0m\n",
      "\u001b[0;32m/usr/local/lib/python3.9/site-packages/pandas/core/series.py\u001b[0m in \u001b[0;36m_get_value\u001b[0;34m(self, label, takeable)\u001b[0m\n\u001b[1;32m    930\u001b[0m \u001b[0;34m\u001b[0m\u001b[0m\n\u001b[1;32m    931\u001b[0m         \u001b[0;31m# Similar to Index.get_value, but we do not fall back to positional\u001b[0m\u001b[0;34m\u001b[0m\u001b[0;34m\u001b[0m\u001b[0m\n\u001b[0;32m--> 932\u001b[0;31m         \u001b[0mloc\u001b[0m \u001b[0;34m=\u001b[0m \u001b[0mself\u001b[0m\u001b[0;34m.\u001b[0m\u001b[0mindex\u001b[0m\u001b[0;34m.\u001b[0m\u001b[0mget_loc\u001b[0m\u001b[0;34m(\u001b[0m\u001b[0mlabel\u001b[0m\u001b[0;34m)\u001b[0m\u001b[0;34m\u001b[0m\u001b[0;34m\u001b[0m\u001b[0m\n\u001b[0m\u001b[1;32m    933\u001b[0m         \u001b[0;32mreturn\u001b[0m \u001b[0mself\u001b[0m\u001b[0;34m.\u001b[0m\u001b[0mindex\u001b[0m\u001b[0;34m.\u001b[0m\u001b[0m_get_values_for_loc\u001b[0m\u001b[0;34m(\u001b[0m\u001b[0mself\u001b[0m\u001b[0;34m,\u001b[0m \u001b[0mloc\u001b[0m\u001b[0;34m,\u001b[0m \u001b[0mlabel\u001b[0m\u001b[0;34m)\u001b[0m\u001b[0;34m\u001b[0m\u001b[0;34m\u001b[0m\u001b[0m\n\u001b[1;32m    934\u001b[0m \u001b[0;34m\u001b[0m\u001b[0m\n",
      "\u001b[0;32m/usr/local/lib/python3.9/site-packages/pandas/core/indexes/range.py\u001b[0m in \u001b[0;36mget_loc\u001b[0;34m(self, key, method, tolerance)\u001b[0m\n\u001b[1;32m    352\u001b[0m                 \u001b[0;32mexcept\u001b[0m \u001b[0mValueError\u001b[0m \u001b[0;32mas\u001b[0m \u001b[0merr\u001b[0m\u001b[0;34m:\u001b[0m\u001b[0;34m\u001b[0m\u001b[0;34m\u001b[0m\u001b[0m\n\u001b[1;32m    353\u001b[0m                     \u001b[0;32mraise\u001b[0m \u001b[0mKeyError\u001b[0m\u001b[0;34m(\u001b[0m\u001b[0mkey\u001b[0m\u001b[0;34m)\u001b[0m \u001b[0;32mfrom\u001b[0m \u001b[0merr\u001b[0m\u001b[0;34m\u001b[0m\u001b[0;34m\u001b[0m\u001b[0m\n\u001b[0;32m--> 354\u001b[0;31m             \u001b[0;32mraise\u001b[0m \u001b[0mKeyError\u001b[0m\u001b[0;34m(\u001b[0m\u001b[0mkey\u001b[0m\u001b[0;34m)\u001b[0m\u001b[0;34m\u001b[0m\u001b[0;34m\u001b[0m\u001b[0m\n\u001b[0m\u001b[1;32m    355\u001b[0m         \u001b[0;32mreturn\u001b[0m \u001b[0msuper\u001b[0m\u001b[0;34m(\u001b[0m\u001b[0;34m)\u001b[0m\u001b[0;34m.\u001b[0m\u001b[0mget_loc\u001b[0m\u001b[0;34m(\u001b[0m\u001b[0mkey\u001b[0m\u001b[0;34m,\u001b[0m \u001b[0mmethod\u001b[0m\u001b[0;34m=\u001b[0m\u001b[0mmethod\u001b[0m\u001b[0;34m,\u001b[0m \u001b[0mtolerance\u001b[0m\u001b[0;34m=\u001b[0m\u001b[0mtolerance\u001b[0m\u001b[0;34m)\u001b[0m\u001b[0;34m\u001b[0m\u001b[0;34m\u001b[0m\u001b[0m\n\u001b[1;32m    356\u001b[0m \u001b[0;34m\u001b[0m\u001b[0m\n",
      "\u001b[0;31mKeyError\u001b[0m: 'planeity'"
     ]
    }
   ],
   "source": [
    "ax2 =((df['label'].str.endswith(\"S\")==False)&(df['label'].str.endswith(\"E\")==False))[\"planeity\"].plot(kind=\"hist\")\n",
    "ax2.set_xlabel(\"planeity [mm]\")\n"
   ]
  },
  {
   "cell_type": "markdown",
   "id": "younger-samoa",
   "metadata": {},
   "source": []
  },
  {
   "cell_type": "code",
   "execution_count": null,
   "id": "light-tiffany",
   "metadata": {},
   "outputs": [],
   "source": []
  },
  {
   "cell_type": "markdown",
   "id": "inclusive-devon",
   "metadata": {},
   "source": [
    "# Module planarity"
   ]
  },
  {
   "cell_type": "code",
   "execution_count": 59,
   "id": "removed-forum",
   "metadata": {},
   "outputs": [
    {
     "data": {
      "text/plain": [
       "Text(0.5, 0, 'angle [degrees]')"
      ]
     },
     "execution_count": 59,
     "metadata": {},
     "output_type": "execute_result"
    },
    {
     "data": {
      "image/png": "[encoded data removed]",
      "text/plain": [
       "<Figure size 432x288 with 1 Axes>"
      ]
     },
     "metadata": {
      "needs_background": "light"
     },
     "output_type": "display_data"
    }
   ],
   "source": [
    "dfm = pd.read_csv(\"reportModule.csv\")\n",
    "dfm2 = pd.read_csv(\"reportModule-v2.csv\")\n",
    "ax = dfm[\"angle\"].plot(kind=\"hist\",bins=10)\n",
    "ax.set_xlabel(\"angle [degrees]\")\n"
   ]
  },
  {
   "cell_type": "code",
   "execution_count": 60,
   "id": "international-capability",
   "metadata": {},
   "outputs": [
    {
     "data": {
      "text/plain": [
       "Text(0.5, 0, 'planeity [mm]')"
      ]
     },
     "execution_count": 60,
     "metadata": {},
     "output_type": "execute_result"
    },
    {
     "data": {
      "image/png": "[encoded data removed]",
      "text/plain": [
       "<Figure size 432x288 with 1 Axes>"
      ]
     },
     "metadata": {
      "needs_background": "light"
     },
     "output_type": "display_data"
    }
   ],
   "source": [
    "ax = dfm[\"planeity\"].plot(kind=\"hist\",bins=50)\n",
    "ax.set_xlabel(\"planeity [mm]\")"
   ]
  },
  {
   "cell_type": "code",
   "execution_count": 61,
   "id": "neither-calgary",
   "metadata": {},
   "outputs": [
    {
     "data": {
      "text/html": [
       "<div>\n",
       "<style scoped>\n",
       "    .dataframe tbody tr th:only-of-type {\n",
       "        vertical-align: middle;\n",
       "    }\n",
       "\n",
       "    .dataframe tbody tr th {\n",
       "        vertical-align: top;\n",
       "    }\n",
       "\n",
       "    .dataframe thead th {\n",
       "        text-align: right;\n",
       "    }\n",
       "</style>\n",
       "<table border=\"1\" class=\"dataframe\">\n",
       "  <thead>\n",
       "    <tr style=\"text-align: right;\">\n",
       "      <th></th>\n",
       "      <th>label</th>\n",
       "      <th>angle</th>\n",
       "      <th>planeity</th>\n",
       "    </tr>\n",
       "  </thead>\n",
       "  <tbody>\n",
       "    <tr>\n",
       "      <th>0</th>\n",
       "      <td>E01</td>\n",
       "      <td>3.01178</td>\n",
       "      <td>6.37477</td>\n",
       "    </tr>\n",
       "    <tr>\n",
       "      <th>4</th>\n",
       "      <td>E05</td>\n",
       "      <td>4.55253</td>\n",
       "      <td>1.63316</td>\n",
       "    </tr>\n",
       "    <tr>\n",
       "      <th>5</th>\n",
       "      <td>E07</td>\n",
       "      <td>4.42051</td>\n",
       "      <td>1.93747</td>\n",
       "    </tr>\n",
       "  </tbody>\n",
       "</table>\n",
       "</div>"
      ],
      "text/plain": [
       "  label    angle  planeity\n",
       "0   E01  3.01178   6.37477\n",
       "4   E05  4.55253   1.63316\n",
       "5   E07  4.42051   1.93747"
      ]
     },
     "execution_count": 61,
     "metadata": {},
     "output_type": "execute_result"
    }
   ],
   "source": [
    "dfm[dfm[\"planeity\"]>1]"
   ]
  },
  {
   "cell_type": "code",
   "execution_count": 62,
   "id": "certified-above",
   "metadata": {},
   "outputs": [
    {
     "data": {
      "text/plain": [
       "Text(0.5, 0, 'planeity [mm]')"
      ]
     },
     "execution_count": 62,
     "metadata": {},
     "output_type": "execute_result"
    },
    {
     "data": {
      "image/png": "[encoded data removed]",
      "text/plain": [
       "<Figure size 432x288 with 1 Axes>"
      ]
     },
     "metadata": {
      "needs_background": "light"
     },
     "output_type": "display_data"
    }
   ],
   "source": [
    "ax = dfm[dfm[\"planeity\"]<1][\"planeity\"].plot(kind=\"hist\",bins=10)\n",
    "ax.set_xlabel(\"planeity [mm]\")"
   ]
  },
  {
   "cell_type": "markdown",
   "id": "necessary-shame",
   "metadata": {},
   "source": [
    "# Comparison between the 2 measurements"
   ]
  },
  {
   "cell_type": "code",
   "execution_count": 66,
   "id": "vital-ordering",
   "metadata": {},
   "outputs": [
    {
     "name": "stdout",
     "output_type": "stream",
     "text": [
      "      self    other\n",
      "0  6.37477  6.34767\n",
      "1  0.01417  0.00530\n",
      "2  0.47521  0.29701\n",
      "3  0.23269  0.23382\n",
      "4  1.63316  1.67081\n",
      "5  1.93747  1.94706\n",
      "6  0.09959  0.07874\n",
      "7  0.16453  0.16908\n",
      "8  0.22465  0.22364\n",
      "9  0.33209  0.32914\n"
     ]
    },
    {
     "data": {
      "text/plain": [
       "0.058767346980369214"
      ]
     },
     "execution_count": 66,
     "metadata": {},
     "output_type": "execute_result"
    },
    {
     "data": {
      "image/png": "[encoded data removed]",
      "text/plain": [
       "<Figure size 432x288 with 1 Axes>"
      ]
     },
     "metadata": {
      "needs_background": "light"
     },
     "output_type": "display_data"
    }
   ],
   "source": [
    "diff = dfm.compare(dfm2)[\"planeity\"][\"self\"]-dfm.compare(dfm2)[\"planeity\"][\"other\"]\n",
    "print(dfm.compare(dfm2)[\"planeity\"])\n",
    "#plt.plot(diff,kind=\"hist\",bins=10)\n",
    "ax = diff.plot(kind=\"hist\",bins=30)\n",
    "ax.set_xlabel(\"planarity [mm]\")\n",
    "diff.mean()\n",
    "diff.std()"
   ]
  },
  {
   "cell_type": "markdown",
   "id": "rapid-increase",
   "metadata": {},
   "source": [
    "## Holes positions"
   ]
  },
  {
   "cell_type": "code",
   "execution_count": 65,
   "id": "brief-maximum",
   "metadata": {},
   "outputs": [],
   "source": [
    "dfh = pd.read_csv(\"Proto2/Holes.csv\",\";\")"
   ]
  },
  {
   "cell_type": "code",
   "execution_count": 44,
   "id": "serial-argentina",
   "metadata": {},
   "outputs": [
    {
     "name": "stdout",
     "output_type": "stream",
     "text": [
      "Index(['Module', 'A-x', 'A-y', 'B-x', 'B-y', 'C-x', 'C-y', 'D-x', 'D-y'], dtype='object')\n"
     ]
    },
    {
     "data": {
      "text/html": [
       "<div>\n",
       "<style scoped>\n",
       "    .dataframe tbody tr th:only-of-type {\n",
       "        vertical-align: middle;\n",
       "    }\n",
       "\n",
       "    .dataframe tbody tr th {\n",
       "        vertical-align: top;\n",
       "    }\n",
       "\n",
       "    .dataframe thead th {\n",
       "        text-align: right;\n",
       "    }\n",
       "</style>\n",
       "<table border=\"1\" class=\"dataframe\">\n",
       "  <thead>\n",
       "    <tr style=\"text-align: right;\">\n",
       "      <th></th>\n",
       "      <th>Module</th>\n",
       "      <th>A-x</th>\n",
       "      <th>A-y</th>\n",
       "      <th>B-x</th>\n",
       "      <th>B-y</th>\n",
       "      <th>C-x</th>\n",
       "      <th>C-y</th>\n",
       "      <th>D-x</th>\n",
       "      <th>D-y</th>\n",
       "    </tr>\n",
       "  </thead>\n",
       "  <tbody>\n",
       "    <tr>\n",
       "      <th>0</th>\n",
       "      <td>4</td>\n",
       "      <td>0</td>\n",
       "      <td>0</td>\n",
       "      <td>0</td>\n",
       "      <td>102.93</td>\n",
       "      <td>93.02</td>\n",
       "      <td>102.83</td>\n",
       "      <td>93.01</td>\n",
       "      <td>0.07</td>\n",
       "    </tr>\n",
       "    <tr>\n",
       "      <th>1</th>\n",
       "      <td>8</td>\n",
       "      <td>0</td>\n",
       "      <td>0</td>\n",
       "      <td>0</td>\n",
       "      <td>103.01</td>\n",
       "      <td>93.02</td>\n",
       "      <td>102.91</td>\n",
       "      <td>92.98</td>\n",
       "      <td>0.06</td>\n",
       "    </tr>\n",
       "    <tr>\n",
       "      <th>2</th>\n",
       "      <td>9</td>\n",
       "      <td>0</td>\n",
       "      <td>0</td>\n",
       "      <td>0</td>\n",
       "      <td>102.96</td>\n",
       "      <td>93.02</td>\n",
       "      <td>102.85</td>\n",
       "      <td>92.99</td>\n",
       "      <td>0.05</td>\n",
       "    </tr>\n",
       "    <tr>\n",
       "      <th>3</th>\n",
       "      <td>5</td>\n",
       "      <td>0</td>\n",
       "      <td>0</td>\n",
       "      <td>0</td>\n",
       "      <td>102.90</td>\n",
       "      <td>92.97</td>\n",
       "      <td>103.01</td>\n",
       "      <td>92.97</td>\n",
       "      <td>0.12</td>\n",
       "    </tr>\n",
       "  </tbody>\n",
       "</table>\n",
       "</div>"
      ],
      "text/plain": [
       "   Module  A-x  A-y  B-x     B-y    C-x     C-y    D-x   D-y\n",
       "0       4    0    0    0  102.93  93.02  102.83  93.01  0.07\n",
       "1       8    0    0    0  103.01  93.02  102.91  92.98  0.06\n",
       "2       9    0    0    0  102.96  93.02  102.85  92.99  0.05\n",
       "3       5    0    0    0  102.90  92.97  103.01  92.97  0.12"
      ]
     },
     "execution_count": 44,
     "metadata": {},
     "output_type": "execute_result"
    }
   ],
   "source": [
    "print(dfh.keys())\n",
    "dfh"
   ]
  },
  {
   "cell_type": "markdown",
   "id": "processed-surface",
   "metadata": {},
   "source": [
    "## Entraxe A-B  C-D"
   ]
  },
  {
   "cell_type": "code",
   "execution_count": 45,
   "id": "alive-botswana",
   "metadata": {
    "scrolled": true
   },
   "outputs": [
    {
     "data": {
      "text/plain": [
       "<AxesSubplot:ylabel='Frequency'>"
      ]
     },
     "execution_count": 45,
     "metadata": {},
     "output_type": "execute_result"
    },
    {
     "data": {
      "image/png": "[encoded data removed]",
      "text/plain": [
       "<Figure size 432x288 with 1 Axes>"
      ]
     },
     "metadata": {
      "needs_background": "light"
     },
     "output_type": "display_data"
    }
   ],
   "source": [
    "(dfh[\"B-y\"]-dfh[\"A-y\"]).append(dfh[\"C-y\"]-dfh[\"D-y\"]).plot(kind=\"hist\")"
   ]
  },
  {
   "cell_type": "code",
   "execution_count": 61,
   "id": "broad-valve",
   "metadata": {},
   "outputs": [
    {
     "name": "stdout",
     "output_type": "stream",
     "text": [
      "mean =  102.8875\n",
      "stdev =  0.08241879119992747\n"
     ]
    },
    {
     "data": {
      "image/png": "[encoded data removed]",
      "text/plain": [
       "<Figure size 432x288 with 1 Axes>"
      ]
     },
     "metadata": {
      "needs_background": "light"
     },
     "output_type": "display_data"
    }
   ],
   "source": [
    "a = (dfh[\"B-y\"]-dfh[\"A-y\"]).append(dfh[\"C-y\"]-dfh[\"D-y\"])\n",
    "a.plot(kind=\"hist\")\n",
    "print(\"mean = \",a.mean())\n",
    "print(\"stdev = \",(a.std()))"
   ]
  },
  {
   "cell_type": "code",
   "execution_count": 60,
   "id": "infrared-backup",
   "metadata": {},
   "outputs": [
    {
     "name": "stdout",
     "output_type": "stream",
     "text": [
      "mean =  92.9975\n",
      "stdev =  0.022519832529190965\n"
     ]
    },
    {
     "data": {
      "image/png": "[encoded data removed]",
      "text/plain": [
       "<Figure size 432x288 with 1 Axes>"
      ]
     },
     "metadata": {
      "needs_background": "light"
     },
     "output_type": "display_data"
    }
   ],
   "source": [
    "a = (dfh[\"D-x\"]-dfh[\"B-x\"]).append(dfh[\"C-x\"]-dfh[\"A-x\"])\n",
    "a.plot(kind=\"hist\")\n",
    "print(\"mean = \",a.mean())\n",
    "print(\"stdev = \",(a.std()))"
   ]
  },
  {
   "cell_type": "code",
   "execution_count": null,
   "id": "adjusted-technician",
   "metadata": {},
   "outputs": [],
   "source": []
  }
 ],
 "metadata": {
  "kernelspec": {
   "display_name": "Python 3",
   "language": "python",
   "name": "python3"
  },
  "language_info": {
   "codemirror_mode": {
    "name": "ipython",
    "version": 3
   },
   "file_extension": ".py",
   "mimetype": "text/x-python",
   "name": "python",
   "nbconvert_exporter": "python",
   "pygments_lexer": "ipython3",
   "version": "3.9.7"
  }
 },
 "nbformat": 4,
 "nbformat_minor": 5
}
